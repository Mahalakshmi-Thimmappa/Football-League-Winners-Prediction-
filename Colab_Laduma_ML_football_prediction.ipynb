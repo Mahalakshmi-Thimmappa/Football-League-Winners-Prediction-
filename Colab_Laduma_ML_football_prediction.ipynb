{
  "nbformat": 4,
  "nbformat_minor": 0,
  "metadata": {
    "colab": {
      "provenance": []
    },
    "kernelspec": {
      "name": "python3",
      "display_name": "Python 3"
    },
    "language_info": {
      "name": "python"
    },
    "widgets": {
      "application/vnd.jupyter.widget-state+json": {
        "555cca35d9a74e73919447c510c52c61": {
          "model_module": "@jupyter-widgets/output",
          "model_name": "OutputModel",
          "model_module_version": "1.0.0",
          "state": {
            "_dom_classes": [],
            "_model_module": "@jupyter-widgets/output",
            "_model_module_version": "1.0.0",
            "_model_name": "OutputModel",
            "_view_count": null,
            "_view_module": "@jupyter-widgets/output",
            "_view_module_version": "1.0.0",
            "_view_name": "OutputView",
            "layout": "IPY_MODEL_976e175d10bb415f9dd05128303b8f7c",
            "msg_id": "",
            "outputs": [
              {
                "output_type": "display_data",
                "data": {
                  "text/plain": "\u001b[32m⠧\u001b[0m  sample-submission    \u001b[38;2;21;127;61m━━━━━━━━━━\u001b[0m \u001b[38;2;21;127;61mLOADED\u001b[0m \u001b[39m[\u001b[0m\u001b[38;2;155;155;159m0:00:01\u001b[0m\u001b[39m]\u001b[0m \n",
                  "text/html": "<pre style=\"white-space:pre;overflow-x:auto;line-height:normal;font-family:Menlo,'DejaVu Sans Mono',consolas,'Courier New',monospace\"><span style=\"color: #008000; text-decoration-color: #008000\">⠧</span>  sample-submission    <span style=\"color: #157f3d; text-decoration-color: #157f3d\">━━━━━━━━━━</span> <span style=\"color: #157f3d; text-decoration-color: #157f3d\">LOADED</span> <span style=\"color: #000000; text-decoration-color: #000000\">[</span><span style=\"color: #9b9b9f; text-decoration-color: #9b9b9f\">0:00:01</span><span style=\"color: #000000; text-decoration-color: #000000\">]</span> \n</pre>\n"
                },
                "metadata": {}
              }
            ]
          }
        },
        "976e175d10bb415f9dd05128303b8f7c": {
          "model_module": "@jupyter-widgets/base",
          "model_name": "LayoutModel",
          "model_module_version": "1.2.0",
          "state": {
            "_model_module": "@jupyter-widgets/base",
            "_model_module_version": "1.2.0",
            "_model_name": "LayoutModel",
            "_view_count": null,
            "_view_module": "@jupyter-widgets/base",
            "_view_module_version": "1.2.0",
            "_view_name": "LayoutView",
            "align_content": null,
            "align_items": null,
            "align_self": null,
            "border": null,
            "bottom": null,
            "display": null,
            "flex": null,
            "flex_flow": null,
            "grid_area": null,
            "grid_auto_columns": null,
            "grid_auto_flow": null,
            "grid_auto_rows": null,
            "grid_column": null,
            "grid_gap": null,
            "grid_row": null,
            "grid_template_areas": null,
            "grid_template_columns": null,
            "grid_template_rows": null,
            "height": null,
            "justify_content": null,
            "justify_items": null,
            "left": null,
            "margin": null,
            "max_height": null,
            "max_width": null,
            "min_height": null,
            "min_width": null,
            "object_fit": null,
            "object_position": null,
            "order": null,
            "overflow": null,
            "overflow_x": null,
            "overflow_y": null,
            "padding": null,
            "right": null,
            "top": null,
            "visibility": null,
            "width": null
          }
        },
        "86c5806323a142b494a81944904efafa": {
          "model_module": "@jupyter-widgets/output",
          "model_name": "OutputModel",
          "model_module_version": "1.0.0",
          "state": {
            "_dom_classes": [],
            "_model_module": "@jupyter-widgets/output",
            "_model_module_version": "1.0.0",
            "_model_name": "OutputModel",
            "_view_count": null,
            "_view_module": "@jupyter-widgets/output",
            "_view_module_version": "1.0.0",
            "_view_name": "OutputView",
            "layout": "IPY_MODEL_d8b80956297145b78d6b64c2c7a035f5",
            "msg_id": "",
            "outputs": [
              {
                "output_type": "display_data",
                "data": {
                  "text/plain": "\u001b[32m⠼\u001b[0m  train                \u001b[38;2;21;127;61m━━━━━━━━━━\u001b[0m \u001b[38;2;21;127;61mLOADED\u001b[0m \u001b[39m[\u001b[0m\u001b[38;2;155;155;159m0:00:01\u001b[0m\u001b[39m]\u001b[0m \n",
                  "text/html": "<pre style=\"white-space:pre;overflow-x:auto;line-height:normal;font-family:Menlo,'DejaVu Sans Mono',consolas,'Courier New',monospace\"><span style=\"color: #008000; text-decoration-color: #008000\">⠼</span>  train                <span style=\"color: #157f3d; text-decoration-color: #157f3d\">━━━━━━━━━━</span> <span style=\"color: #157f3d; text-decoration-color: #157f3d\">LOADED</span> <span style=\"color: #000000; text-decoration-color: #000000\">[</span><span style=\"color: #9b9b9f; text-decoration-color: #9b9b9f\">0:00:01</span><span style=\"color: #000000; text-decoration-color: #000000\">]</span> \n</pre>\n"
                },
                "metadata": {}
              }
            ]
          }
        },
        "d8b80956297145b78d6b64c2c7a035f5": {
          "model_module": "@jupyter-widgets/base",
          "model_name": "LayoutModel",
          "model_module_version": "1.2.0",
          "state": {
            "_model_module": "@jupyter-widgets/base",
            "_model_module_version": "1.2.0",
            "_model_name": "LayoutModel",
            "_view_count": null,
            "_view_module": "@jupyter-widgets/base",
            "_view_module_version": "1.2.0",
            "_view_name": "LayoutView",
            "align_content": null,
            "align_items": null,
            "align_self": null,
            "border": null,
            "bottom": null,
            "display": null,
            "flex": null,
            "flex_flow": null,
            "grid_area": null,
            "grid_auto_columns": null,
            "grid_auto_flow": null,
            "grid_auto_rows": null,
            "grid_column": null,
            "grid_gap": null,
            "grid_row": null,
            "grid_template_areas": null,
            "grid_template_columns": null,
            "grid_template_rows": null,
            "height": null,
            "justify_content": null,
            "justify_items": null,
            "left": null,
            "margin": null,
            "max_height": null,
            "max_width": null,
            "min_height": null,
            "min_width": null,
            "object_fit": null,
            "object_position": null,
            "order": null,
            "overflow": null,
            "overflow_x": null,
            "overflow_y": null,
            "padding": null,
            "right": null,
            "top": null,
            "visibility": null,
            "width": null
          }
        },
        "a2582f9175ee461280863f115873c973": {
          "model_module": "@jupyter-widgets/output",
          "model_name": "OutputModel",
          "model_module_version": "1.0.0",
          "state": {
            "_dom_classes": [],
            "_model_module": "@jupyter-widgets/output",
            "_model_module_version": "1.0.0",
            "_model_name": "OutputModel",
            "_view_count": null,
            "_view_module": "@jupyter-widgets/output",
            "_view_module_version": "1.0.0",
            "_view_name": "OutputView",
            "layout": "IPY_MODEL_1818f3ec90014ee58024b92bcedefa3a",
            "msg_id": "",
            "outputs": [
              {
                "output_type": "display_data",
                "data": {
                  "text/plain": "\u001b[32m⠋\u001b[0m  train_game_statisti… \u001b[38;2;21;127;61m━━━━━━━━━━\u001b[0m \u001b[38;2;21;127;61mLOADED\u001b[0m \u001b[39m[\u001b[0m\u001b[38;2;155;155;159m0:00:03\u001b[0m\u001b[39m]\u001b[0m \n",
                  "text/html": "<pre style=\"white-space:pre;overflow-x:auto;line-height:normal;font-family:Menlo,'DejaVu Sans Mono',consolas,'Courier New',monospace\"><span style=\"color: #008000; text-decoration-color: #008000\">⠋</span>  train_game_statisti… <span style=\"color: #157f3d; text-decoration-color: #157f3d\">━━━━━━━━━━</span> <span style=\"color: #157f3d; text-decoration-color: #157f3d\">LOADED</span> <span style=\"color: #000000; text-decoration-color: #000000\">[</span><span style=\"color: #9b9b9f; text-decoration-color: #9b9b9f\">0:00:03</span><span style=\"color: #000000; text-decoration-color: #000000\">]</span> \n</pre>\n"
                },
                "metadata": {}
              }
            ]
          }
        },
        "1818f3ec90014ee58024b92bcedefa3a": {
          "model_module": "@jupyter-widgets/base",
          "model_name": "LayoutModel",
          "model_module_version": "1.2.0",
          "state": {
            "_model_module": "@jupyter-widgets/base",
            "_model_module_version": "1.2.0",
            "_model_name": "LayoutModel",
            "_view_count": null,
            "_view_module": "@jupyter-widgets/base",
            "_view_module_version": "1.2.0",
            "_view_name": "LayoutView",
            "align_content": null,
            "align_items": null,
            "align_self": null,
            "border": null,
            "bottom": null,
            "display": null,
            "flex": null,
            "flex_flow": null,
            "grid_area": null,
            "grid_auto_columns": null,
            "grid_auto_flow": null,
            "grid_auto_rows": null,
            "grid_column": null,
            "grid_gap": null,
            "grid_row": null,
            "grid_template_areas": null,
            "grid_template_columns": null,
            "grid_template_rows": null,
            "height": null,
            "justify_content": null,
            "justify_items": null,
            "left": null,
            "margin": null,
            "max_height": null,
            "max_width": null,
            "min_height": null,
            "min_width": null,
            "object_fit": null,
            "object_position": null,
            "order": null,
            "overflow": null,
            "overflow_x": null,
            "overflow_y": null,
            "padding": null,
            "right": null,
            "top": null,
            "visibility": null,
            "width": null
          }
        },
        "4791c613a6634739aed647c668fbe507": {
          "model_module": "@jupyter-widgets/output",
          "model_name": "OutputModel",
          "model_module_version": "1.0.0",
          "state": {
            "_dom_classes": [],
            "_model_module": "@jupyter-widgets/output",
            "_model_module_version": "1.0.0",
            "_model_name": "OutputModel",
            "_view_count": null,
            "_view_module": "@jupyter-widgets/output",
            "_view_module_version": "1.0.0",
            "_view_name": "OutputView",
            "layout": "IPY_MODEL_d65551eb40a24d8a8add7373e3b1d83a",
            "msg_id": "",
            "outputs": [
              {
                "output_type": "display_data",
                "data": {
                  "text/plain": "\u001b[32m⠸\u001b[0m  test                 \u001b[38;2;21;127;61m━━━━━━━━━━\u001b[0m \u001b[38;2;21;127;61mLOADED\u001b[0m \u001b[39m[\u001b[0m\u001b[38;2;155;155;159m0:00:01\u001b[0m\u001b[39m]\u001b[0m \n",
                  "text/html": "<pre style=\"white-space:pre;overflow-x:auto;line-height:normal;font-family:Menlo,'DejaVu Sans Mono',consolas,'Courier New',monospace\"><span style=\"color: #008000; text-decoration-color: #008000\">⠸</span>  test                 <span style=\"color: #157f3d; text-decoration-color: #157f3d\">━━━━━━━━━━</span> <span style=\"color: #157f3d; text-decoration-color: #157f3d\">LOADED</span> <span style=\"color: #000000; text-decoration-color: #000000\">[</span><span style=\"color: #9b9b9f; text-decoration-color: #9b9b9f\">0:00:01</span><span style=\"color: #000000; text-decoration-color: #000000\">]</span> \n</pre>\n"
                },
                "metadata": {}
              }
            ]
          }
        },
        "d65551eb40a24d8a8add7373e3b1d83a": {
          "model_module": "@jupyter-widgets/base",
          "model_name": "LayoutModel",
          "model_module_version": "1.2.0",
          "state": {
            "_model_module": "@jupyter-widgets/base",
            "_model_module_version": "1.2.0",
            "_model_name": "LayoutModel",
            "_view_count": null,
            "_view_module": "@jupyter-widgets/base",
            "_view_module_version": "1.2.0",
            "_view_name": "LayoutView",
            "align_content": null,
            "align_items": null,
            "align_self": null,
            "border": null,
            "bottom": null,
            "display": null,
            "flex": null,
            "flex_flow": null,
            "grid_area": null,
            "grid_auto_columns": null,
            "grid_auto_flow": null,
            "grid_auto_rows": null,
            "grid_column": null,
            "grid_gap": null,
            "grid_row": null,
            "grid_template_areas": null,
            "grid_template_columns": null,
            "grid_template_rows": null,
            "height": null,
            "justify_content": null,
            "justify_items": null,
            "left": null,
            "margin": null,
            "max_height": null,
            "max_width": null,
            "min_height": null,
            "min_width": null,
            "object_fit": null,
            "object_position": null,
            "order": null,
            "overflow": null,
            "overflow_x": null,
            "overflow_y": null,
            "padding": null,
            "right": null,
            "top": null,
            "visibility": null,
            "width": null
          }
        },
        "df78055d3d01444490cf5ff5cafb0e80": {
          "model_module": "@jupyter-widgets/output",
          "model_name": "OutputModel",
          "model_module_version": "1.0.0",
          "state": {
            "_dom_classes": [],
            "_model_module": "@jupyter-widgets/output",
            "_model_module_version": "1.0.0",
            "_model_name": "OutputModel",
            "_view_count": null,
            "_view_module": "@jupyter-widgets/output",
            "_view_module_version": "1.0.0",
            "_view_name": "OutputView",
            "layout": "IPY_MODEL_73ec4c6286e54e119d43cbc8b86a6392",
            "msg_id": "",
            "outputs": [
              {
                "output_type": "display_data",
                "data": {
                  "text/plain": "\u001b[32m⠸\u001b[0m  test_game_statistics \u001b[38;2;21;127;61m━━━━━━━━━━\u001b[0m \u001b[38;2;21;127;61mLOADED\u001b[0m \u001b[39m[\u001b[0m\u001b[38;2;155;155;159m0:00:01\u001b[0m\u001b[39m]\u001b[0m \n",
                  "text/html": "<pre style=\"white-space:pre;overflow-x:auto;line-height:normal;font-family:Menlo,'DejaVu Sans Mono',consolas,'Courier New',monospace\"><span style=\"color: #008000; text-decoration-color: #008000\">⠸</span>  test_game_statistics <span style=\"color: #157f3d; text-decoration-color: #157f3d\">━━━━━━━━━━</span> <span style=\"color: #157f3d; text-decoration-color: #157f3d\">LOADED</span> <span style=\"color: #000000; text-decoration-color: #000000\">[</span><span style=\"color: #9b9b9f; text-decoration-color: #9b9b9f\">0:00:01</span><span style=\"color: #000000; text-decoration-color: #000000\">]</span> \n</pre>\n"
                },
                "metadata": {}
              }
            ]
          }
        },
        "73ec4c6286e54e119d43cbc8b86a6392": {
          "model_module": "@jupyter-widgets/base",
          "model_name": "LayoutModel",
          "model_module_version": "1.2.0",
          "state": {
            "_model_module": "@jupyter-widgets/base",
            "_model_module_version": "1.2.0",
            "_model_name": "LayoutModel",
            "_view_count": null,
            "_view_module": "@jupyter-widgets/base",
            "_view_module_version": "1.2.0",
            "_view_name": "LayoutView",
            "align_content": null,
            "align_items": null,
            "align_self": null,
            "border": null,
            "bottom": null,
            "display": null,
            "flex": null,
            "flex_flow": null,
            "grid_area": null,
            "grid_auto_columns": null,
            "grid_auto_flow": null,
            "grid_auto_rows": null,
            "grid_column": null,
            "grid_gap": null,
            "grid_row": null,
            "grid_template_areas": null,
            "grid_template_columns": null,
            "grid_template_rows": null,
            "height": null,
            "justify_content": null,
            "justify_items": null,
            "left": null,
            "margin": null,
            "max_height": null,
            "max_width": null,
            "min_height": null,
            "min_width": null,
            "object_fit": null,
            "object_position": null,
            "order": null,
            "overflow": null,
            "overflow_x": null,
            "overflow_y": null,
            "padding": null,
            "right": null,
            "top": null,
            "visibility": null,
            "width": null
          }
        }
      }
    }
  },
  "cells": [
    {
      "cell_type": "markdown",
      "source": [
        "# **Laduma Analytics Football League Winners Prediction Challenge**\n"
      ],
      "metadata": {
        "id": "CGLYIn9fd8cL"
      }
    },
    {
      "cell_type": "code",
      "source": [
        "pip install -U layer"
      ],
      "metadata": {
        "colab": {
          "base_uri": "https://localhost:8080/"
        },
        "id": "aDZdc_YSd6Ms",
        "outputId": "84e47745-127f-45e0-fbf6-28dfffdd5776"
      },
      "execution_count": 2,
      "outputs": [
        {
          "output_type": "stream",
          "name": "stdout",
          "text": [
            "Looking in indexes: https://pypi.org/simple, https://us-python.pkg.dev/colab-wheels/public/simple/\n",
            "Requirement already satisfied: layer in /usr/local/lib/python3.7/dist-packages (0.10.2984813911)\n",
            "Requirement already satisfied: requests>=2.23.0 in /usr/local/lib/python3.7/dist-packages (from layer) (2.23.0)\n",
            "Requirement already satisfied: mlflow-skinny>=1.25.0 in /usr/local/lib/python3.7/dist-packages (from layer) (1.28.0)\n",
            "Requirement already satisfied: numpy<1.22 in /usr/local/lib/python3.7/dist-packages (from layer) (1.21.6)\n",
            "Requirement already satisfied: yarl>=1.6.3 in /usr/local/lib/python3.7/dist-packages (from layer) (1.8.1)\n",
            "Requirement already satisfied: lazy_loader==0.1rc3 in /usr/local/lib/python3.7/dist-packages (from layer) (0.1rc3)\n",
            "Requirement already satisfied: psutil>=5.4.8 in /usr/local/lib/python3.7/dist-packages (from layer) (5.4.8)\n",
            "Requirement already satisfied: Jinja2 in /usr/local/lib/python3.7/dist-packages (from layer) (2.11.3)\n",
            "Requirement already satisfied: pandas==1.3.5 in /usr/local/lib/python3.7/dist-packages (from layer) (1.3.5)\n",
            "Requirement already satisfied: cryptography>=3.4.7 in /usr/local/lib/python3.7/dist-packages (from layer) (37.0.4)\n",
            "Requirement already satisfied: networkx>=2.5 in /usr/local/lib/python3.7/dist-packages (from layer) (2.6.3)\n",
            "Requirement already satisfied: pyarrow==7.0.0 in /usr/local/lib/python3.7/dist-packages (from layer) (7.0.0)\n",
            "Requirement already satisfied: pyjwt<3.0.0,>=2.0.0 in /usr/local/lib/python3.7/dist-packages (from layer) (2.4.0)\n",
            "Requirement already satisfied: wrapt>=1.13.3 in /usr/local/lib/python3.7/dist-packages (from layer) (1.14.1)\n",
            "Requirement already satisfied: nvsmi<0.5.0,>=0.4.2 in /usr/local/lib/python3.7/dist-packages (from layer) (0.4.2)\n",
            "Requirement already satisfied: rich>=11 in /usr/local/lib/python3.7/dist-packages (from layer) (12.5.1)\n",
            "Requirement already satisfied: humanize>=3.11.0 in /usr/local/lib/python3.7/dist-packages (from layer) (4.3.0)\n",
            "Requirement already satisfied: polling>=0.3.1 in /usr/local/lib/python3.7/dist-packages (from layer) (0.3.2)\n",
            "Requirement already satisfied: boto3>=1.16.24 in /usr/local/lib/python3.7/dist-packages (from layer) (1.24.66)\n",
            "Requirement already satisfied: aiohttp<3.8.0,>=3.7.3 in /usr/local/lib/python3.7/dist-packages (from layer) (3.7.4.post0)\n",
            "Requirement already satisfied: layer-api==0.9.381223 in /usr/local/lib/python3.7/dist-packages (from layer) (0.9.381223)\n",
            "Requirement already satisfied: protobuf>=3.17.3 in /usr/local/lib/python3.7/dist-packages (from layer-api==0.9.381223->layer) (3.17.3)\n",
            "Requirement already satisfied: grpcio-tools>=1.43.0 in /usr/local/lib/python3.7/dist-packages (from layer-api==0.9.381223->layer) (1.48.1)\n",
            "Requirement already satisfied: python-dateutil>=2.7.3 in /usr/local/lib/python3.7/dist-packages (from pandas==1.3.5->layer) (2.8.2)\n",
            "Requirement already satisfied: pytz>=2017.3 in /usr/local/lib/python3.7/dist-packages (from pandas==1.3.5->layer) (2022.2.1)\n",
            "Requirement already satisfied: async-timeout<4.0,>=3.0 in /usr/local/lib/python3.7/dist-packages (from aiohttp<3.8.0,>=3.7.3->layer) (3.0.1)\n",
            "Requirement already satisfied: multidict<7.0,>=4.5 in /usr/local/lib/python3.7/dist-packages (from aiohttp<3.8.0,>=3.7.3->layer) (6.0.2)\n",
            "Requirement already satisfied: attrs>=17.3.0 in /usr/local/lib/python3.7/dist-packages (from aiohttp<3.8.0,>=3.7.3->layer) (22.1.0)\n",
            "Requirement already satisfied: chardet<5.0,>=2.0 in /usr/local/lib/python3.7/dist-packages (from aiohttp<3.8.0,>=3.7.3->layer) (3.0.4)\n",
            "Requirement already satisfied: typing-extensions>=3.6.5 in /usr/local/lib/python3.7/dist-packages (from aiohttp<3.8.0,>=3.7.3->layer) (4.1.1)\n",
            "Requirement already satisfied: jmespath<2.0.0,>=0.7.1 in /usr/local/lib/python3.7/dist-packages (from boto3>=1.16.24->layer) (1.0.1)\n",
            "Requirement already satisfied: s3transfer<0.7.0,>=0.6.0 in /usr/local/lib/python3.7/dist-packages (from boto3>=1.16.24->layer) (0.6.0)\n",
            "Requirement already satisfied: botocore<1.28.0,>=1.27.66 in /usr/local/lib/python3.7/dist-packages (from boto3>=1.16.24->layer) (1.27.66)\n",
            "Requirement already satisfied: urllib3<1.27,>=1.25.4 in /usr/local/lib/python3.7/dist-packages (from botocore<1.28.0,>=1.27.66->boto3>=1.16.24->layer) (1.25.11)\n",
            "Requirement already satisfied: cffi>=1.12 in /usr/local/lib/python3.7/dist-packages (from cryptography>=3.4.7->layer) (1.15.1)\n",
            "Requirement already satisfied: pycparser in /usr/local/lib/python3.7/dist-packages (from cffi>=1.12->cryptography>=3.4.7->layer) (2.21)\n",
            "Requirement already satisfied: grpcio>=1.48.1 in /usr/local/lib/python3.7/dist-packages (from grpcio-tools>=1.43.0->layer-api==0.9.381223->layer) (1.48.1)\n",
            "Requirement already satisfied: setuptools in /usr/local/lib/python3.7/dist-packages (from grpcio-tools>=1.43.0->layer-api==0.9.381223->layer) (57.4.0)\n",
            "Requirement already satisfied: six>=1.5.2 in /usr/local/lib/python3.7/dist-packages (from grpcio>=1.48.1->grpcio-tools>=1.43.0->layer-api==0.9.381223->layer) (1.15.0)\n",
            "Requirement already satisfied: importlib-metadata in /usr/local/lib/python3.7/dist-packages (from humanize>=3.11.0->layer) (4.12.0)\n",
            "Requirement already satisfied: entrypoints<1 in /usr/local/lib/python3.7/dist-packages (from mlflow-skinny>=1.25.0->layer) (0.4)\n",
            "Requirement already satisfied: click<9,>=7.0 in /usr/local/lib/python3.7/dist-packages (from mlflow-skinny>=1.25.0->layer) (7.1.2)\n",
            "Requirement already satisfied: gitpython<4,>=2.1.0 in /usr/local/lib/python3.7/dist-packages (from mlflow-skinny>=1.25.0->layer) (3.1.27)\n",
            "Requirement already satisfied: cloudpickle<3 in /usr/local/lib/python3.7/dist-packages (from mlflow-skinny>=1.25.0->layer) (1.5.0)\n",
            "Requirement already satisfied: pyyaml<7,>=5.1 in /usr/local/lib/python3.7/dist-packages (from mlflow-skinny>=1.25.0->layer) (6.0)\n",
            "Requirement already satisfied: sqlparse<1,>=0.4.0 in /usr/local/lib/python3.7/dist-packages (from mlflow-skinny>=1.25.0->layer) (0.4.2)\n",
            "Requirement already satisfied: packaging<22 in /usr/local/lib/python3.7/dist-packages (from mlflow-skinny>=1.25.0->layer) (21.3)\n",
            "Requirement already satisfied: databricks-cli<1,>=0.8.7 in /usr/local/lib/python3.7/dist-packages (from mlflow-skinny>=1.25.0->layer) (0.17.3)\n",
            "Requirement already satisfied: oauthlib>=3.1.0 in /usr/local/lib/python3.7/dist-packages (from databricks-cli<1,>=0.8.7->mlflow-skinny>=1.25.0->layer) (3.2.0)\n",
            "Requirement already satisfied: tabulate>=0.7.7 in /usr/local/lib/python3.7/dist-packages (from databricks-cli<1,>=0.8.7->mlflow-skinny>=1.25.0->layer) (0.8.10)\n",
            "Requirement already satisfied: gitdb<5,>=4.0.1 in /usr/local/lib/python3.7/dist-packages (from gitpython<4,>=2.1.0->mlflow-skinny>=1.25.0->layer) (4.0.9)\n",
            "Requirement already satisfied: smmap<6,>=3.0.1 in /usr/local/lib/python3.7/dist-packages (from gitdb<5,>=4.0.1->gitpython<4,>=2.1.0->mlflow-skinny>=1.25.0->layer) (5.0.0)\n",
            "Requirement already satisfied: zipp>=0.5 in /usr/local/lib/python3.7/dist-packages (from importlib-metadata->humanize>=3.11.0->layer) (3.8.1)\n",
            "Requirement already satisfied: pyparsing!=3.0.5,>=2.0.2 in /usr/local/lib/python3.7/dist-packages (from packaging<22->mlflow-skinny>=1.25.0->layer) (3.0.9)\n",
            "Requirement already satisfied: idna<3,>=2.5 in /usr/local/lib/python3.7/dist-packages (from requests>=2.23.0->layer) (2.10)\n",
            "Requirement already satisfied: certifi>=2017.4.17 in /usr/local/lib/python3.7/dist-packages (from requests>=2.23.0->layer) (2022.6.15)\n",
            "Requirement already satisfied: pygments<3.0.0,>=2.6.0 in /usr/local/lib/python3.7/dist-packages (from rich>=11->layer) (2.6.1)\n",
            "Requirement already satisfied: commonmark<0.10.0,>=0.9.0 in /usr/local/lib/python3.7/dist-packages (from rich>=11->layer) (0.9.1)\n",
            "Requirement already satisfied: MarkupSafe>=0.23 in /usr/local/lib/python3.7/dist-packages (from Jinja2->layer) (2.0.1)\n"
          ]
        }
      ]
    },
    {
      "cell_type": "markdown",
      "source": [
        "# **Loading all 5 CSV files to Google Colab after importing the Layer library**"
      ],
      "metadata": {
        "id": "MlXaR_AMeIjb"
      }
    },
    {
      "cell_type": "code",
      "source": [
        "import layer"
      ],
      "metadata": {
        "id": "gmv2LD_Decsj"
      },
      "execution_count": 3,
      "outputs": []
    },
    {
      "cell_type": "code",
      "source": [
        "sample_submission = layer.get_dataset(\"layer/Zindi-Laduma-Analytics/datasets/sample-submission\").to_pandas()\n",
        "sample_submission.head()"
      ],
      "metadata": {
        "colab": {
          "base_uri": "https://localhost:8080/",
          "height": 222,
          "referenced_widgets": [
            "555cca35d9a74e73919447c510c52c61",
            "976e175d10bb415f9dd05128303b8f7c"
          ]
        },
        "id": "el_yBesJd6TM",
        "outputId": "0f5db815-12a3-4bd7-be53-84e9f961921f"
      },
      "execution_count": 4,
      "outputs": [
        {
          "output_type": "display_data",
          "data": {
            "text/plain": [
              "Output()"
            ],
            "application/vnd.jupyter.widget-view+json": {
              "version_major": 2,
              "version_minor": 0,
              "model_id": "555cca35d9a74e73919447c510c52c61"
            }
          },
          "metadata": {}
        },
        {
          "output_type": "display_data",
          "data": {
            "text/plain": [],
            "text/html": [
              "<pre style=\"white-space:pre;overflow-x:auto;line-height:normal;font-family:Menlo,'DejaVu Sans Mono',consolas,'Courier New',monospace\"></pre>\n"
            ]
          },
          "metadata": {}
        },
        {
          "output_type": "display_data",
          "data": {
            "text/plain": [
              "\n"
            ],
            "text/html": [
              "<pre style=\"white-space:pre;overflow-x:auto;line-height:normal;font-family:Menlo,'DejaVu Sans Mono',consolas,'Courier New',monospace\">\n",
              "</pre>\n"
            ]
          },
          "metadata": {}
        },
        {
          "output_type": "execute_result",
          "data": {
            "text/plain": [
              "       Game_ID  Away win  Draw  Home Win\n",
              "0  ID_8518U587         0     0         0\n",
              "1  ID_H49BIKG7         0     0         0\n",
              "2  ID_PO6SP4VA         0     0         0\n",
              "3  ID_MZRCNBAQ         0     0         0\n",
              "4  ID_CV9VOLIU         0     0         0"
            ],
            "text/html": [
              "\n",
              "  <div id=\"df-cf3a685a-cf38-438f-897d-05e62454b716\">\n",
              "    <div class=\"colab-df-container\">\n",
              "      <div>\n",
              "<style scoped>\n",
              "    .dataframe tbody tr th:only-of-type {\n",
              "        vertical-align: middle;\n",
              "    }\n",
              "\n",
              "    .dataframe tbody tr th {\n",
              "        vertical-align: top;\n",
              "    }\n",
              "\n",
              "    .dataframe thead th {\n",
              "        text-align: right;\n",
              "    }\n",
              "</style>\n",
              "<table border=\"1\" class=\"dataframe\">\n",
              "  <thead>\n",
              "    <tr style=\"text-align: right;\">\n",
              "      <th></th>\n",
              "      <th>Game_ID</th>\n",
              "      <th>Away win</th>\n",
              "      <th>Draw</th>\n",
              "      <th>Home Win</th>\n",
              "    </tr>\n",
              "  </thead>\n",
              "  <tbody>\n",
              "    <tr>\n",
              "      <th>0</th>\n",
              "      <td>ID_8518U587</td>\n",
              "      <td>0</td>\n",
              "      <td>0</td>\n",
              "      <td>0</td>\n",
              "    </tr>\n",
              "    <tr>\n",
              "      <th>1</th>\n",
              "      <td>ID_H49BIKG7</td>\n",
              "      <td>0</td>\n",
              "      <td>0</td>\n",
              "      <td>0</td>\n",
              "    </tr>\n",
              "    <tr>\n",
              "      <th>2</th>\n",
              "      <td>ID_PO6SP4VA</td>\n",
              "      <td>0</td>\n",
              "      <td>0</td>\n",
              "      <td>0</td>\n",
              "    </tr>\n",
              "    <tr>\n",
              "      <th>3</th>\n",
              "      <td>ID_MZRCNBAQ</td>\n",
              "      <td>0</td>\n",
              "      <td>0</td>\n",
              "      <td>0</td>\n",
              "    </tr>\n",
              "    <tr>\n",
              "      <th>4</th>\n",
              "      <td>ID_CV9VOLIU</td>\n",
              "      <td>0</td>\n",
              "      <td>0</td>\n",
              "      <td>0</td>\n",
              "    </tr>\n",
              "  </tbody>\n",
              "</table>\n",
              "</div>\n",
              "      <button class=\"colab-df-convert\" onclick=\"convertToInteractive('df-cf3a685a-cf38-438f-897d-05e62454b716')\"\n",
              "              title=\"Convert this dataframe to an interactive table.\"\n",
              "              style=\"display:none;\">\n",
              "        \n",
              "  <svg xmlns=\"http://www.w3.org/2000/svg\" height=\"24px\"viewBox=\"0 0 24 24\"\n",
              "       width=\"24px\">\n",
              "    <path d=\"M0 0h24v24H0V0z\" fill=\"none\"/>\n",
              "    <path d=\"M18.56 5.44l.94 2.06.94-2.06 2.06-.94-2.06-.94-.94-2.06-.94 2.06-2.06.94zm-11 1L8.5 8.5l.94-2.06 2.06-.94-2.06-.94L8.5 2.5l-.94 2.06-2.06.94zm10 10l.94 2.06.94-2.06 2.06-.94-2.06-.94-.94-2.06-.94 2.06-2.06.94z\"/><path d=\"M17.41 7.96l-1.37-1.37c-.4-.4-.92-.59-1.43-.59-.52 0-1.04.2-1.43.59L10.3 9.45l-7.72 7.72c-.78.78-.78 2.05 0 2.83L4 21.41c.39.39.9.59 1.41.59.51 0 1.02-.2 1.41-.59l7.78-7.78 2.81-2.81c.8-.78.8-2.07 0-2.86zM5.41 20L4 18.59l7.72-7.72 1.47 1.35L5.41 20z\"/>\n",
              "  </svg>\n",
              "      </button>\n",
              "      \n",
              "  <style>\n",
              "    .colab-df-container {\n",
              "      display:flex;\n",
              "      flex-wrap:wrap;\n",
              "      gap: 12px;\n",
              "    }\n",
              "\n",
              "    .colab-df-convert {\n",
              "      background-color: #E8F0FE;\n",
              "      border: none;\n",
              "      border-radius: 50%;\n",
              "      cursor: pointer;\n",
              "      display: none;\n",
              "      fill: #1967D2;\n",
              "      height: 32px;\n",
              "      padding: 0 0 0 0;\n",
              "      width: 32px;\n",
              "    }\n",
              "\n",
              "    .colab-df-convert:hover {\n",
              "      background-color: #E2EBFA;\n",
              "      box-shadow: 0px 1px 2px rgba(60, 64, 67, 0.3), 0px 1px 3px 1px rgba(60, 64, 67, 0.15);\n",
              "      fill: #174EA6;\n",
              "    }\n",
              "\n",
              "    [theme=dark] .colab-df-convert {\n",
              "      background-color: #3B4455;\n",
              "      fill: #D2E3FC;\n",
              "    }\n",
              "\n",
              "    [theme=dark] .colab-df-convert:hover {\n",
              "      background-color: #434B5C;\n",
              "      box-shadow: 0px 1px 3px 1px rgba(0, 0, 0, 0.15);\n",
              "      filter: drop-shadow(0px 1px 2px rgba(0, 0, 0, 0.3));\n",
              "      fill: #FFFFFF;\n",
              "    }\n",
              "  </style>\n",
              "\n",
              "      <script>\n",
              "        const buttonEl =\n",
              "          document.querySelector('#df-cf3a685a-cf38-438f-897d-05e62454b716 button.colab-df-convert');\n",
              "        buttonEl.style.display =\n",
              "          google.colab.kernel.accessAllowed ? 'block' : 'none';\n",
              "\n",
              "        async function convertToInteractive(key) {\n",
              "          const element = document.querySelector('#df-cf3a685a-cf38-438f-897d-05e62454b716');\n",
              "          const dataTable =\n",
              "            await google.colab.kernel.invokeFunction('convertToInteractive',\n",
              "                                                     [key], {});\n",
              "          if (!dataTable) return;\n",
              "\n",
              "          const docLinkHtml = 'Like what you see? Visit the ' +\n",
              "            '<a target=\"_blank\" href=https://colab.research.google.com/notebooks/data_table.ipynb>data table notebook</a>'\n",
              "            + ' to learn more about interactive tables.';\n",
              "          element.innerHTML = '';\n",
              "          dataTable['output_type'] = 'display_data';\n",
              "          await google.colab.output.renderOutput(dataTable, element);\n",
              "          const docLink = document.createElement('div');\n",
              "          docLink.innerHTML = docLinkHtml;\n",
              "          element.appendChild(docLink);\n",
              "        }\n",
              "      </script>\n",
              "    </div>\n",
              "  </div>\n",
              "  "
            ]
          },
          "metadata": {},
          "execution_count": 4
        }
      ]
    },
    {
      "cell_type": "code",
      "source": [
        "train = layer.get_dataset(\"layer/Zindi-Laduma-Analytics/datasets/train\").to_pandas()\n",
        "train.head()"
      ],
      "metadata": {
        "colab": {
          "base_uri": "https://localhost:8080/",
          "height": 222,
          "referenced_widgets": [
            "86c5806323a142b494a81944904efafa",
            "d8b80956297145b78d6b64c2c7a035f5"
          ]
        },
        "id": "DEHK0RrUd6WI",
        "outputId": "4e9b0575-c7c1-4a3f-bdeb-f042063c0982"
      },
      "execution_count": 11,
      "outputs": [
        {
          "output_type": "display_data",
          "data": {
            "text/plain": [
              "Output()"
            ],
            "application/vnd.jupyter.widget-view+json": {
              "version_major": 2,
              "version_minor": 0,
              "model_id": "86c5806323a142b494a81944904efafa"
            }
          },
          "metadata": {}
        },
        {
          "output_type": "display_data",
          "data": {
            "text/plain": [],
            "text/html": [
              "<pre style=\"white-space:pre;overflow-x:auto;line-height:normal;font-family:Menlo,'DejaVu Sans Mono',consolas,'Courier New',monospace\"></pre>\n"
            ]
          },
          "metadata": {}
        },
        {
          "output_type": "display_data",
          "data": {
            "text/plain": [
              "\n"
            ],
            "text/html": [
              "<pre style=\"white-space:pre;overflow-x:auto;line-height:normal;font-family:Menlo,'DejaVu Sans Mono',consolas,'Courier New',monospace\">\n",
              "</pre>\n"
            ]
          },
          "metadata": {}
        },
        {
          "output_type": "execute_result",
          "data": {
            "text/plain": [
              "         Date  Season  Match_ID      Game_ID  Home Team  Away Team     Score\n",
              "0  2017-02-15       1       1.0  ID_KAG4KAE9   Antennae  Andromeda  Away win\n",
              "1  2016-09-14       1      12.0  ID_T7H1XN5Z  Andromeda   Antennae      Draw\n",
              "2  2016-12-12       1      13.0  ID_O1P9FGN4  Andromeda  Butterfly  Away win\n",
              "3  2017-01-25       1      14.0  ID_TR5M4KQV  Andromeda      Cigar  Away win\n",
              "4  2016-08-24       1      15.0  ID_EOIECRE2  Andromeda   Circinus  Home Win"
            ],
            "text/html": [
              "\n",
              "  <div id=\"df-789ce7bf-77c0-4264-9356-79e069460c21\">\n",
              "    <div class=\"colab-df-container\">\n",
              "      <div>\n",
              "<style scoped>\n",
              "    .dataframe tbody tr th:only-of-type {\n",
              "        vertical-align: middle;\n",
              "    }\n",
              "\n",
              "    .dataframe tbody tr th {\n",
              "        vertical-align: top;\n",
              "    }\n",
              "\n",
              "    .dataframe thead th {\n",
              "        text-align: right;\n",
              "    }\n",
              "</style>\n",
              "<table border=\"1\" class=\"dataframe\">\n",
              "  <thead>\n",
              "    <tr style=\"text-align: right;\">\n",
              "      <th></th>\n",
              "      <th>Date</th>\n",
              "      <th>Season</th>\n",
              "      <th>Match_ID</th>\n",
              "      <th>Game_ID</th>\n",
              "      <th>Home Team</th>\n",
              "      <th>Away Team</th>\n",
              "      <th>Score</th>\n",
              "    </tr>\n",
              "  </thead>\n",
              "  <tbody>\n",
              "    <tr>\n",
              "      <th>0</th>\n",
              "      <td>2017-02-15</td>\n",
              "      <td>1</td>\n",
              "      <td>1.0</td>\n",
              "      <td>ID_KAG4KAE9</td>\n",
              "      <td>Antennae</td>\n",
              "      <td>Andromeda</td>\n",
              "      <td>Away win</td>\n",
              "    </tr>\n",
              "    <tr>\n",
              "      <th>1</th>\n",
              "      <td>2016-09-14</td>\n",
              "      <td>1</td>\n",
              "      <td>12.0</td>\n",
              "      <td>ID_T7H1XN5Z</td>\n",
              "      <td>Andromeda</td>\n",
              "      <td>Antennae</td>\n",
              "      <td>Draw</td>\n",
              "    </tr>\n",
              "    <tr>\n",
              "      <th>2</th>\n",
              "      <td>2016-12-12</td>\n",
              "      <td>1</td>\n",
              "      <td>13.0</td>\n",
              "      <td>ID_O1P9FGN4</td>\n",
              "      <td>Andromeda</td>\n",
              "      <td>Butterfly</td>\n",
              "      <td>Away win</td>\n",
              "    </tr>\n",
              "    <tr>\n",
              "      <th>3</th>\n",
              "      <td>2017-01-25</td>\n",
              "      <td>1</td>\n",
              "      <td>14.0</td>\n",
              "      <td>ID_TR5M4KQV</td>\n",
              "      <td>Andromeda</td>\n",
              "      <td>Cigar</td>\n",
              "      <td>Away win</td>\n",
              "    </tr>\n",
              "    <tr>\n",
              "      <th>4</th>\n",
              "      <td>2016-08-24</td>\n",
              "      <td>1</td>\n",
              "      <td>15.0</td>\n",
              "      <td>ID_EOIECRE2</td>\n",
              "      <td>Andromeda</td>\n",
              "      <td>Circinus</td>\n",
              "      <td>Home Win</td>\n",
              "    </tr>\n",
              "  </tbody>\n",
              "</table>\n",
              "</div>\n",
              "      <button class=\"colab-df-convert\" onclick=\"convertToInteractive('df-789ce7bf-77c0-4264-9356-79e069460c21')\"\n",
              "              title=\"Convert this dataframe to an interactive table.\"\n",
              "              style=\"display:none;\">\n",
              "        \n",
              "  <svg xmlns=\"http://www.w3.org/2000/svg\" height=\"24px\"viewBox=\"0 0 24 24\"\n",
              "       width=\"24px\">\n",
              "    <path d=\"M0 0h24v24H0V0z\" fill=\"none\"/>\n",
              "    <path d=\"M18.56 5.44l.94 2.06.94-2.06 2.06-.94-2.06-.94-.94-2.06-.94 2.06-2.06.94zm-11 1L8.5 8.5l.94-2.06 2.06-.94-2.06-.94L8.5 2.5l-.94 2.06-2.06.94zm10 10l.94 2.06.94-2.06 2.06-.94-2.06-.94-.94-2.06-.94 2.06-2.06.94z\"/><path d=\"M17.41 7.96l-1.37-1.37c-.4-.4-.92-.59-1.43-.59-.52 0-1.04.2-1.43.59L10.3 9.45l-7.72 7.72c-.78.78-.78 2.05 0 2.83L4 21.41c.39.39.9.59 1.41.59.51 0 1.02-.2 1.41-.59l7.78-7.78 2.81-2.81c.8-.78.8-2.07 0-2.86zM5.41 20L4 18.59l7.72-7.72 1.47 1.35L5.41 20z\"/>\n",
              "  </svg>\n",
              "      </button>\n",
              "      \n",
              "  <style>\n",
              "    .colab-df-container {\n",
              "      display:flex;\n",
              "      flex-wrap:wrap;\n",
              "      gap: 12px;\n",
              "    }\n",
              "\n",
              "    .colab-df-convert {\n",
              "      background-color: #E8F0FE;\n",
              "      border: none;\n",
              "      border-radius: 50%;\n",
              "      cursor: pointer;\n",
              "      display: none;\n",
              "      fill: #1967D2;\n",
              "      height: 32px;\n",
              "      padding: 0 0 0 0;\n",
              "      width: 32px;\n",
              "    }\n",
              "\n",
              "    .colab-df-convert:hover {\n",
              "      background-color: #E2EBFA;\n",
              "      box-shadow: 0px 1px 2px rgba(60, 64, 67, 0.3), 0px 1px 3px 1px rgba(60, 64, 67, 0.15);\n",
              "      fill: #174EA6;\n",
              "    }\n",
              "\n",
              "    [theme=dark] .colab-df-convert {\n",
              "      background-color: #3B4455;\n",
              "      fill: #D2E3FC;\n",
              "    }\n",
              "\n",
              "    [theme=dark] .colab-df-convert:hover {\n",
              "      background-color: #434B5C;\n",
              "      box-shadow: 0px 1px 3px 1px rgba(0, 0, 0, 0.15);\n",
              "      filter: drop-shadow(0px 1px 2px rgba(0, 0, 0, 0.3));\n",
              "      fill: #FFFFFF;\n",
              "    }\n",
              "  </style>\n",
              "\n",
              "      <script>\n",
              "        const buttonEl =\n",
              "          document.querySelector('#df-789ce7bf-77c0-4264-9356-79e069460c21 button.colab-df-convert');\n",
              "        buttonEl.style.display =\n",
              "          google.colab.kernel.accessAllowed ? 'block' : 'none';\n",
              "\n",
              "        async function convertToInteractive(key) {\n",
              "          const element = document.querySelector('#df-789ce7bf-77c0-4264-9356-79e069460c21');\n",
              "          const dataTable =\n",
              "            await google.colab.kernel.invokeFunction('convertToInteractive',\n",
              "                                                     [key], {});\n",
              "          if (!dataTable) return;\n",
              "\n",
              "          const docLinkHtml = 'Like what you see? Visit the ' +\n",
              "            '<a target=\"_blank\" href=https://colab.research.google.com/notebooks/data_table.ipynb>data table notebook</a>'\n",
              "            + ' to learn more about interactive tables.';\n",
              "          element.innerHTML = '';\n",
              "          dataTable['output_type'] = 'display_data';\n",
              "          await google.colab.output.renderOutput(dataTable, element);\n",
              "          const docLink = document.createElement('div');\n",
              "          docLink.innerHTML = docLinkHtml;\n",
              "          element.appendChild(docLink);\n",
              "        }\n",
              "      </script>\n",
              "    </div>\n",
              "  </div>\n",
              "  "
            ]
          },
          "metadata": {},
          "execution_count": 11
        }
      ]
    },
    {
      "cell_type": "code",
      "source": [
        "train_game_statistics = layer.get_dataset(\"layer/Zindi-Laduma-Analytics/datasets/train_game_statistics\").to_pandas()\n",
        "train_game_statistics.head()"
      ],
      "metadata": {
        "colab": {
          "base_uri": "https://localhost:8080/",
          "height": 402,
          "referenced_widgets": [
            "a2582f9175ee461280863f115873c973",
            "1818f3ec90014ee58024b92bcedefa3a"
          ]
        },
        "id": "qrXPK7MheTCW",
        "outputId": "ff522727-3a10-4870-deaf-6aeb778b57d3"
      },
      "execution_count": 5,
      "outputs": [
        {
          "output_type": "display_data",
          "data": {
            "text/plain": [
              "Output()"
            ],
            "application/vnd.jupyter.widget-view+json": {
              "version_major": 2,
              "version_minor": 0,
              "model_id": "a2582f9175ee461280863f115873c973"
            }
          },
          "metadata": {}
        },
        {
          "output_type": "display_data",
          "data": {
            "text/plain": [],
            "text/html": [
              "<pre style=\"white-space:pre;overflow-x:auto;line-height:normal;font-family:Menlo,'DejaVu Sans Mono',consolas,'Courier New',monospace\"></pre>\n"
            ]
          },
          "metadata": {}
        },
        {
          "output_type": "display_data",
          "data": {
            "text/plain": [
              "\n"
            ],
            "text/html": [
              "<pre style=\"white-space:pre;overflow-x:auto;line-height:normal;font-family:Menlo,'DejaVu Sans Mono',consolas,'Courier New',monospace\">\n",
              "</pre>\n"
            ]
          },
          "metadata": {}
        },
        {
          "output_type": "execute_result",
          "data": {
            "text/plain": [
              "       Game_ID        Player_ID   id     X     Y      Team  \\\n",
              "0  ID_ZZKYYPVY  Player_O7HO1NOB  1.0  52.5  34.0  Circinus   \n",
              "1  ID_ZZKYYPVY  Player_O7HO1NOB  2.0  52.5  34.0  Circinus   \n",
              "2  ID_ZZKYYPVY  Player_J0V7B0YE  3.0  37.0  32.7  Circinus   \n",
              "3  ID_ZZKYYPVY  Player_J0V7B0YE  4.0  39.5  33.0  Circinus   \n",
              "4  ID_ZZKYYPVY  Player_J0V7B0YE  5.0  39.5  33.0  Circinus   \n",
              "\n",
              "               Action      Half  Season  Manager  ... Start_minutes  \\\n",
              "0     Accurate passes  1st half       2  Ryoichi  ...          0.03   \n",
              "1  Positional attacks  1st half       2  Ryoichi  ...          0.03   \n",
              "2  Positional attacks  1st half       2  Ryoichi  ...          0.05   \n",
              "3  Positional attacks  1st half       2  Ryoichi  ...          0.07   \n",
              "4   Inaccurate passes  1st half       2  Ryoichi  ...          0.07   \n",
              "\n",
              "   End_minutes  next_player  next_action  next_x  next_y  event_id  next_team  \\\n",
              "0         0.37          NaN          NaN     NaN     NaN       NaN        NaN   \n",
              "1         0.37          NaN          NaN     NaN     NaN       NaN        NaN   \n",
              "2         0.38          NaN          NaN     NaN     NaN       NaN        NaN   \n",
              "3         0.40          NaN          NaN     NaN     NaN       NaN        NaN   \n",
              "4         0.40          NaN          NaN     NaN     NaN       NaN        NaN   \n",
              "\n",
              "   next_event_id  xt_value  \n",
              "0            NaN       NaN  \n",
              "1            NaN       NaN  \n",
              "2            NaN       NaN  \n",
              "3            NaN       NaN  \n",
              "4            NaN       NaN  \n",
              "\n",
              "[5 rows x 28 columns]"
            ],
            "text/html": [
              "\n",
              "  <div id=\"df-80f4dca4-9523-46e8-9aee-76bf7135c198\">\n",
              "    <div class=\"colab-df-container\">\n",
              "      <div>\n",
              "<style scoped>\n",
              "    .dataframe tbody tr th:only-of-type {\n",
              "        vertical-align: middle;\n",
              "    }\n",
              "\n",
              "    .dataframe tbody tr th {\n",
              "        vertical-align: top;\n",
              "    }\n",
              "\n",
              "    .dataframe thead th {\n",
              "        text-align: right;\n",
              "    }\n",
              "</style>\n",
              "<table border=\"1\" class=\"dataframe\">\n",
              "  <thead>\n",
              "    <tr style=\"text-align: right;\">\n",
              "      <th></th>\n",
              "      <th>Game_ID</th>\n",
              "      <th>Player_ID</th>\n",
              "      <th>id</th>\n",
              "      <th>X</th>\n",
              "      <th>Y</th>\n",
              "      <th>Team</th>\n",
              "      <th>Action</th>\n",
              "      <th>Half</th>\n",
              "      <th>Season</th>\n",
              "      <th>Manager</th>\n",
              "      <th>...</th>\n",
              "      <th>Start_minutes</th>\n",
              "      <th>End_minutes</th>\n",
              "      <th>next_player</th>\n",
              "      <th>next_action</th>\n",
              "      <th>next_x</th>\n",
              "      <th>next_y</th>\n",
              "      <th>event_id</th>\n",
              "      <th>next_team</th>\n",
              "      <th>next_event_id</th>\n",
              "      <th>xt_value</th>\n",
              "    </tr>\n",
              "  </thead>\n",
              "  <tbody>\n",
              "    <tr>\n",
              "      <th>0</th>\n",
              "      <td>ID_ZZKYYPVY</td>\n",
              "      <td>Player_O7HO1NOB</td>\n",
              "      <td>1.0</td>\n",
              "      <td>52.5</td>\n",
              "      <td>34.0</td>\n",
              "      <td>Circinus</td>\n",
              "      <td>Accurate passes</td>\n",
              "      <td>1st half</td>\n",
              "      <td>2</td>\n",
              "      <td>Ryoichi</td>\n",
              "      <td>...</td>\n",
              "      <td>0.03</td>\n",
              "      <td>0.37</td>\n",
              "      <td>NaN</td>\n",
              "      <td>NaN</td>\n",
              "      <td>NaN</td>\n",
              "      <td>NaN</td>\n",
              "      <td>NaN</td>\n",
              "      <td>NaN</td>\n",
              "      <td>NaN</td>\n",
              "      <td>NaN</td>\n",
              "    </tr>\n",
              "    <tr>\n",
              "      <th>1</th>\n",
              "      <td>ID_ZZKYYPVY</td>\n",
              "      <td>Player_O7HO1NOB</td>\n",
              "      <td>2.0</td>\n",
              "      <td>52.5</td>\n",
              "      <td>34.0</td>\n",
              "      <td>Circinus</td>\n",
              "      <td>Positional attacks</td>\n",
              "      <td>1st half</td>\n",
              "      <td>2</td>\n",
              "      <td>Ryoichi</td>\n",
              "      <td>...</td>\n",
              "      <td>0.03</td>\n",
              "      <td>0.37</td>\n",
              "      <td>NaN</td>\n",
              "      <td>NaN</td>\n",
              "      <td>NaN</td>\n",
              "      <td>NaN</td>\n",
              "      <td>NaN</td>\n",
              "      <td>NaN</td>\n",
              "      <td>NaN</td>\n",
              "      <td>NaN</td>\n",
              "    </tr>\n",
              "    <tr>\n",
              "      <th>2</th>\n",
              "      <td>ID_ZZKYYPVY</td>\n",
              "      <td>Player_J0V7B0YE</td>\n",
              "      <td>3.0</td>\n",
              "      <td>37.0</td>\n",
              "      <td>32.7</td>\n",
              "      <td>Circinus</td>\n",
              "      <td>Positional attacks</td>\n",
              "      <td>1st half</td>\n",
              "      <td>2</td>\n",
              "      <td>Ryoichi</td>\n",
              "      <td>...</td>\n",
              "      <td>0.05</td>\n",
              "      <td>0.38</td>\n",
              "      <td>NaN</td>\n",
              "      <td>NaN</td>\n",
              "      <td>NaN</td>\n",
              "      <td>NaN</td>\n",
              "      <td>NaN</td>\n",
              "      <td>NaN</td>\n",
              "      <td>NaN</td>\n",
              "      <td>NaN</td>\n",
              "    </tr>\n",
              "    <tr>\n",
              "      <th>3</th>\n",
              "      <td>ID_ZZKYYPVY</td>\n",
              "      <td>Player_J0V7B0YE</td>\n",
              "      <td>4.0</td>\n",
              "      <td>39.5</td>\n",
              "      <td>33.0</td>\n",
              "      <td>Circinus</td>\n",
              "      <td>Positional attacks</td>\n",
              "      <td>1st half</td>\n",
              "      <td>2</td>\n",
              "      <td>Ryoichi</td>\n",
              "      <td>...</td>\n",
              "      <td>0.07</td>\n",
              "      <td>0.40</td>\n",
              "      <td>NaN</td>\n",
              "      <td>NaN</td>\n",
              "      <td>NaN</td>\n",
              "      <td>NaN</td>\n",
              "      <td>NaN</td>\n",
              "      <td>NaN</td>\n",
              "      <td>NaN</td>\n",
              "      <td>NaN</td>\n",
              "    </tr>\n",
              "    <tr>\n",
              "      <th>4</th>\n",
              "      <td>ID_ZZKYYPVY</td>\n",
              "      <td>Player_J0V7B0YE</td>\n",
              "      <td>5.0</td>\n",
              "      <td>39.5</td>\n",
              "      <td>33.0</td>\n",
              "      <td>Circinus</td>\n",
              "      <td>Inaccurate passes</td>\n",
              "      <td>1st half</td>\n",
              "      <td>2</td>\n",
              "      <td>Ryoichi</td>\n",
              "      <td>...</td>\n",
              "      <td>0.07</td>\n",
              "      <td>0.40</td>\n",
              "      <td>NaN</td>\n",
              "      <td>NaN</td>\n",
              "      <td>NaN</td>\n",
              "      <td>NaN</td>\n",
              "      <td>NaN</td>\n",
              "      <td>NaN</td>\n",
              "      <td>NaN</td>\n",
              "      <td>NaN</td>\n",
              "    </tr>\n",
              "  </tbody>\n",
              "</table>\n",
              "<p>5 rows × 28 columns</p>\n",
              "</div>\n",
              "      <button class=\"colab-df-convert\" onclick=\"convertToInteractive('df-80f4dca4-9523-46e8-9aee-76bf7135c198')\"\n",
              "              title=\"Convert this dataframe to an interactive table.\"\n",
              "              style=\"display:none;\">\n",
              "        \n",
              "  <svg xmlns=\"http://www.w3.org/2000/svg\" height=\"24px\"viewBox=\"0 0 24 24\"\n",
              "       width=\"24px\">\n",
              "    <path d=\"M0 0h24v24H0V0z\" fill=\"none\"/>\n",
              "    <path d=\"M18.56 5.44l.94 2.06.94-2.06 2.06-.94-2.06-.94-.94-2.06-.94 2.06-2.06.94zm-11 1L8.5 8.5l.94-2.06 2.06-.94-2.06-.94L8.5 2.5l-.94 2.06-2.06.94zm10 10l.94 2.06.94-2.06 2.06-.94-2.06-.94-.94-2.06-.94 2.06-2.06.94z\"/><path d=\"M17.41 7.96l-1.37-1.37c-.4-.4-.92-.59-1.43-.59-.52 0-1.04.2-1.43.59L10.3 9.45l-7.72 7.72c-.78.78-.78 2.05 0 2.83L4 21.41c.39.39.9.59 1.41.59.51 0 1.02-.2 1.41-.59l7.78-7.78 2.81-2.81c.8-.78.8-2.07 0-2.86zM5.41 20L4 18.59l7.72-7.72 1.47 1.35L5.41 20z\"/>\n",
              "  </svg>\n",
              "      </button>\n",
              "      \n",
              "  <style>\n",
              "    .colab-df-container {\n",
              "      display:flex;\n",
              "      flex-wrap:wrap;\n",
              "      gap: 12px;\n",
              "    }\n",
              "\n",
              "    .colab-df-convert {\n",
              "      background-color: #E8F0FE;\n",
              "      border: none;\n",
              "      border-radius: 50%;\n",
              "      cursor: pointer;\n",
              "      display: none;\n",
              "      fill: #1967D2;\n",
              "      height: 32px;\n",
              "      padding: 0 0 0 0;\n",
              "      width: 32px;\n",
              "    }\n",
              "\n",
              "    .colab-df-convert:hover {\n",
              "      background-color: #E2EBFA;\n",
              "      box-shadow: 0px 1px 2px rgba(60, 64, 67, 0.3), 0px 1px 3px 1px rgba(60, 64, 67, 0.15);\n",
              "      fill: #174EA6;\n",
              "    }\n",
              "\n",
              "    [theme=dark] .colab-df-convert {\n",
              "      background-color: #3B4455;\n",
              "      fill: #D2E3FC;\n",
              "    }\n",
              "\n",
              "    [theme=dark] .colab-df-convert:hover {\n",
              "      background-color: #434B5C;\n",
              "      box-shadow: 0px 1px 3px 1px rgba(0, 0, 0, 0.15);\n",
              "      filter: drop-shadow(0px 1px 2px rgba(0, 0, 0, 0.3));\n",
              "      fill: #FFFFFF;\n",
              "    }\n",
              "  </style>\n",
              "\n",
              "      <script>\n",
              "        const buttonEl =\n",
              "          document.querySelector('#df-80f4dca4-9523-46e8-9aee-76bf7135c198 button.colab-df-convert');\n",
              "        buttonEl.style.display =\n",
              "          google.colab.kernel.accessAllowed ? 'block' : 'none';\n",
              "\n",
              "        async function convertToInteractive(key) {\n",
              "          const element = document.querySelector('#df-80f4dca4-9523-46e8-9aee-76bf7135c198');\n",
              "          const dataTable =\n",
              "            await google.colab.kernel.invokeFunction('convertToInteractive',\n",
              "                                                     [key], {});\n",
              "          if (!dataTable) return;\n",
              "\n",
              "          const docLinkHtml = 'Like what you see? Visit the ' +\n",
              "            '<a target=\"_blank\" href=https://colab.research.google.com/notebooks/data_table.ipynb>data table notebook</a>'\n",
              "            + ' to learn more about interactive tables.';\n",
              "          element.innerHTML = '';\n",
              "          dataTable['output_type'] = 'display_data';\n",
              "          await google.colab.output.renderOutput(dataTable, element);\n",
              "          const docLink = document.createElement('div');\n",
              "          docLink.innerHTML = docLinkHtml;\n",
              "          element.appendChild(docLink);\n",
              "        }\n",
              "      </script>\n",
              "    </div>\n",
              "  </div>\n",
              "  "
            ]
          },
          "metadata": {},
          "execution_count": 5
        }
      ]
    },
    {
      "cell_type": "code",
      "source": [
        "test = layer.get_dataset(\"layer/Zindi-Laduma-Analytics/datasets/test\").to_pandas()\n",
        "test.head()"
      ],
      "metadata": {
        "colab": {
          "base_uri": "https://localhost:8080/",
          "height": 222,
          "referenced_widgets": [
            "4791c613a6634739aed647c668fbe507",
            "d65551eb40a24d8a8add7373e3b1d83a"
          ]
        },
        "id": "qikw-o9IeTFV",
        "outputId": "555e9400-fb48-450c-81c1-76ef4fe04ad9"
      },
      "execution_count": 6,
      "outputs": [
        {
          "output_type": "display_data",
          "data": {
            "text/plain": [
              "Output()"
            ],
            "application/vnd.jupyter.widget-view+json": {
              "version_major": 2,
              "version_minor": 0,
              "model_id": "4791c613a6634739aed647c668fbe507"
            }
          },
          "metadata": {}
        },
        {
          "output_type": "display_data",
          "data": {
            "text/plain": [],
            "text/html": [
              "<pre style=\"white-space:pre;overflow-x:auto;line-height:normal;font-family:Menlo,'DejaVu Sans Mono',consolas,'Courier New',monospace\"></pre>\n"
            ]
          },
          "metadata": {}
        },
        {
          "output_type": "display_data",
          "data": {
            "text/plain": [
              "\n"
            ],
            "text/html": [
              "<pre style=\"white-space:pre;overflow-x:auto;line-height:normal;font-family:Menlo,'DejaVu Sans Mono',consolas,'Courier New',monospace\">\n",
              "</pre>\n"
            ]
          },
          "metadata": {}
        },
        {
          "output_type": "execute_result",
          "data": {
            "text/plain": [
              "         Date  Season  Match_ID      Game_ID          Home Team  \\\n",
              "0  2018-12-08       3     102.0  ID_8518U587           Antennae   \n",
              "1  2018-09-11       3      18.0  ID_H49BIKG7  Cosmos Redshift 7   \n",
              "2  2018-09-25       3      32.0  ID_PO6SP4VA  Cosmos Redshift 7   \n",
              "3  2018-10-02       3      40.0  ID_MZRCNBAQ          Cartwheel   \n",
              "4  2018-12-20       3     123.0  ID_CV9VOLIU  Cosmos Redshift 7   \n",
              "\n",
              "           Away Team  \n",
              "0  Cosmos Redshift 7  \n",
              "1            Tadpole  \n",
              "2      Medusa Merger  \n",
              "3  Cosmos Redshift 7  \n",
              "4             Needle  "
            ],
            "text/html": [
              "\n",
              "  <div id=\"df-c94ba038-625a-4087-86a7-d1db46d89512\">\n",
              "    <div class=\"colab-df-container\">\n",
              "      <div>\n",
              "<style scoped>\n",
              "    .dataframe tbody tr th:only-of-type {\n",
              "        vertical-align: middle;\n",
              "    }\n",
              "\n",
              "    .dataframe tbody tr th {\n",
              "        vertical-align: top;\n",
              "    }\n",
              "\n",
              "    .dataframe thead th {\n",
              "        text-align: right;\n",
              "    }\n",
              "</style>\n",
              "<table border=\"1\" class=\"dataframe\">\n",
              "  <thead>\n",
              "    <tr style=\"text-align: right;\">\n",
              "      <th></th>\n",
              "      <th>Date</th>\n",
              "      <th>Season</th>\n",
              "      <th>Match_ID</th>\n",
              "      <th>Game_ID</th>\n",
              "      <th>Home Team</th>\n",
              "      <th>Away Team</th>\n",
              "    </tr>\n",
              "  </thead>\n",
              "  <tbody>\n",
              "    <tr>\n",
              "      <th>0</th>\n",
              "      <td>2018-12-08</td>\n",
              "      <td>3</td>\n",
              "      <td>102.0</td>\n",
              "      <td>ID_8518U587</td>\n",
              "      <td>Antennae</td>\n",
              "      <td>Cosmos Redshift 7</td>\n",
              "    </tr>\n",
              "    <tr>\n",
              "      <th>1</th>\n",
              "      <td>2018-09-11</td>\n",
              "      <td>3</td>\n",
              "      <td>18.0</td>\n",
              "      <td>ID_H49BIKG7</td>\n",
              "      <td>Cosmos Redshift 7</td>\n",
              "      <td>Tadpole</td>\n",
              "    </tr>\n",
              "    <tr>\n",
              "      <th>2</th>\n",
              "      <td>2018-09-25</td>\n",
              "      <td>3</td>\n",
              "      <td>32.0</td>\n",
              "      <td>ID_PO6SP4VA</td>\n",
              "      <td>Cosmos Redshift 7</td>\n",
              "      <td>Medusa Merger</td>\n",
              "    </tr>\n",
              "    <tr>\n",
              "      <th>3</th>\n",
              "      <td>2018-10-02</td>\n",
              "      <td>3</td>\n",
              "      <td>40.0</td>\n",
              "      <td>ID_MZRCNBAQ</td>\n",
              "      <td>Cartwheel</td>\n",
              "      <td>Cosmos Redshift 7</td>\n",
              "    </tr>\n",
              "    <tr>\n",
              "      <th>4</th>\n",
              "      <td>2018-12-20</td>\n",
              "      <td>3</td>\n",
              "      <td>123.0</td>\n",
              "      <td>ID_CV9VOLIU</td>\n",
              "      <td>Cosmos Redshift 7</td>\n",
              "      <td>Needle</td>\n",
              "    </tr>\n",
              "  </tbody>\n",
              "</table>\n",
              "</div>\n",
              "      <button class=\"colab-df-convert\" onclick=\"convertToInteractive('df-c94ba038-625a-4087-86a7-d1db46d89512')\"\n",
              "              title=\"Convert this dataframe to an interactive table.\"\n",
              "              style=\"display:none;\">\n",
              "        \n",
              "  <svg xmlns=\"http://www.w3.org/2000/svg\" height=\"24px\"viewBox=\"0 0 24 24\"\n",
              "       width=\"24px\">\n",
              "    <path d=\"M0 0h24v24H0V0z\" fill=\"none\"/>\n",
              "    <path d=\"M18.56 5.44l.94 2.06.94-2.06 2.06-.94-2.06-.94-.94-2.06-.94 2.06-2.06.94zm-11 1L8.5 8.5l.94-2.06 2.06-.94-2.06-.94L8.5 2.5l-.94 2.06-2.06.94zm10 10l.94 2.06.94-2.06 2.06-.94-2.06-.94-.94-2.06-.94 2.06-2.06.94z\"/><path d=\"M17.41 7.96l-1.37-1.37c-.4-.4-.92-.59-1.43-.59-.52 0-1.04.2-1.43.59L10.3 9.45l-7.72 7.72c-.78.78-.78 2.05 0 2.83L4 21.41c.39.39.9.59 1.41.59.51 0 1.02-.2 1.41-.59l7.78-7.78 2.81-2.81c.8-.78.8-2.07 0-2.86zM5.41 20L4 18.59l7.72-7.72 1.47 1.35L5.41 20z\"/>\n",
              "  </svg>\n",
              "      </button>\n",
              "      \n",
              "  <style>\n",
              "    .colab-df-container {\n",
              "      display:flex;\n",
              "      flex-wrap:wrap;\n",
              "      gap: 12px;\n",
              "    }\n",
              "\n",
              "    .colab-df-convert {\n",
              "      background-color: #E8F0FE;\n",
              "      border: none;\n",
              "      border-radius: 50%;\n",
              "      cursor: pointer;\n",
              "      display: none;\n",
              "      fill: #1967D2;\n",
              "      height: 32px;\n",
              "      padding: 0 0 0 0;\n",
              "      width: 32px;\n",
              "    }\n",
              "\n",
              "    .colab-df-convert:hover {\n",
              "      background-color: #E2EBFA;\n",
              "      box-shadow: 0px 1px 2px rgba(60, 64, 67, 0.3), 0px 1px 3px 1px rgba(60, 64, 67, 0.15);\n",
              "      fill: #174EA6;\n",
              "    }\n",
              "\n",
              "    [theme=dark] .colab-df-convert {\n",
              "      background-color: #3B4455;\n",
              "      fill: #D2E3FC;\n",
              "    }\n",
              "\n",
              "    [theme=dark] .colab-df-convert:hover {\n",
              "      background-color: #434B5C;\n",
              "      box-shadow: 0px 1px 3px 1px rgba(0, 0, 0, 0.15);\n",
              "      filter: drop-shadow(0px 1px 2px rgba(0, 0, 0, 0.3));\n",
              "      fill: #FFFFFF;\n",
              "    }\n",
              "  </style>\n",
              "\n",
              "      <script>\n",
              "        const buttonEl =\n",
              "          document.querySelector('#df-c94ba038-625a-4087-86a7-d1db46d89512 button.colab-df-convert');\n",
              "        buttonEl.style.display =\n",
              "          google.colab.kernel.accessAllowed ? 'block' : 'none';\n",
              "\n",
              "        async function convertToInteractive(key) {\n",
              "          const element = document.querySelector('#df-c94ba038-625a-4087-86a7-d1db46d89512');\n",
              "          const dataTable =\n",
              "            await google.colab.kernel.invokeFunction('convertToInteractive',\n",
              "                                                     [key], {});\n",
              "          if (!dataTable) return;\n",
              "\n",
              "          const docLinkHtml = 'Like what you see? Visit the ' +\n",
              "            '<a target=\"_blank\" href=https://colab.research.google.com/notebooks/data_table.ipynb>data table notebook</a>'\n",
              "            + ' to learn more about interactive tables.';\n",
              "          element.innerHTML = '';\n",
              "          dataTable['output_type'] = 'display_data';\n",
              "          await google.colab.output.renderOutput(dataTable, element);\n",
              "          const docLink = document.createElement('div');\n",
              "          docLink.innerHTML = docLinkHtml;\n",
              "          element.appendChild(docLink);\n",
              "        }\n",
              "      </script>\n",
              "    </div>\n",
              "  </div>\n",
              "  "
            ]
          },
          "metadata": {},
          "execution_count": 6
        }
      ]
    },
    {
      "cell_type": "code",
      "source": [
        "test_game_statistics = layer.get_dataset(\"layer/Zindi-Laduma-Analytics/datasets/test_game_statistics\").to_pandas()\n",
        "test_game_statistics.head()"
      ],
      "metadata": {
        "colab": {
          "base_uri": "https://localhost:8080/",
          "height": 402,
          "referenced_widgets": [
            "df78055d3d01444490cf5ff5cafb0e80",
            "73ec4c6286e54e119d43cbc8b86a6392"
          ]
        },
        "id": "-5iSVQ0weTIR",
        "outputId": "e6fb6a67-0883-454a-f73e-0c13ff9c4e33"
      },
      "execution_count": 7,
      "outputs": [
        {
          "output_type": "display_data",
          "data": {
            "text/plain": [
              "Output()"
            ],
            "application/vnd.jupyter.widget-view+json": {
              "version_major": 2,
              "version_minor": 0,
              "model_id": "df78055d3d01444490cf5ff5cafb0e80"
            }
          },
          "metadata": {}
        },
        {
          "output_type": "display_data",
          "data": {
            "text/plain": [],
            "text/html": [
              "<pre style=\"white-space:pre;overflow-x:auto;line-height:normal;font-family:Menlo,'DejaVu Sans Mono',consolas,'Courier New',monospace\"></pre>\n"
            ]
          },
          "metadata": {}
        },
        {
          "output_type": "display_data",
          "data": {
            "text/plain": [
              "\n"
            ],
            "text/html": [
              "<pre style=\"white-space:pre;overflow-x:auto;line-height:normal;font-family:Menlo,'DejaVu Sans Mono',consolas,'Courier New',monospace\">\n",
              "</pre>\n"
            ]
          },
          "metadata": {}
        },
        {
          "output_type": "execute_result",
          "data": {
            "text/plain": [
              "       Game_ID        Player_ID   id     X     Y       Team      Half  Season  \\\n",
              "0  ID_ZUPS2JD2  Player_5CBBVY85  1.0  52.5  34.0  Milky Way  1st half       3   \n",
              "1  ID_ZUPS2JD2  Player_5CBBVY85  2.0  52.5  34.0  Milky Way  1st half       3   \n",
              "2  ID_ZUPS2JD2  Player_INTSA2WQ  3.0  37.5  30.9  Milky Way  1st half       3   \n",
              "3  ID_ZUPS2JD2  Player_INTSA2WQ  4.0  37.5  30.9  Milky Way  1st half       3   \n",
              "4  ID_ZUPS2JD2  Player_1AJ0QRLU  5.0  26.0  10.8  Sunflower  1st half       3   \n",
              "\n",
              "   Manager Opposition_Team  ...  Passes  Start_minutes  End_minutes  \\\n",
              "0  Masashi       Sunflower  ...     1.0           0.68         1.02   \n",
              "1  Masashi       Sunflower  ...     0.0           0.68         1.02   \n",
              "2  Masashi       Sunflower  ...     0.0           0.70         1.03   \n",
              "3  Masashi       Sunflower  ...     1.0           0.70         1.03   \n",
              "4    Frodo       Milky Way  ...     0.0           0.77         1.10   \n",
              "\n",
              "       next_player  next_x  next_y  event_id  next_team  next_event_id  \\\n",
              "0  Player_INTSA2WQ    37.5    30.9       0.0  Milky Way            1.0   \n",
              "1  Player_5CBBVY85    52.5    34.0       0.0  Milky Way            0.0   \n",
              "2  Player_INTSA2WQ    37.5    30.9       1.0  Milky Way            1.0   \n",
              "3  Player_1AJ0QRLU    79.0    57.2       1.0  Sunflower            2.0   \n",
              "4  Player_75QJWOU4    79.0    57.2       2.0  Milky Way            3.0   \n",
              "\n",
              "   xt_value  \n",
              "0 -0.002220  \n",
              "1  0.000000  \n",
              "2  0.000000  \n",
              "3  0.016906  \n",
              "4  0.000000  \n",
              "\n",
              "[5 rows x 24 columns]"
            ],
            "text/html": [
              "\n",
              "  <div id=\"df-1ccc8fb4-183e-413b-9df9-11b1ce9f7784\">\n",
              "    <div class=\"colab-df-container\">\n",
              "      <div>\n",
              "<style scoped>\n",
              "    .dataframe tbody tr th:only-of-type {\n",
              "        vertical-align: middle;\n",
              "    }\n",
              "\n",
              "    .dataframe tbody tr th {\n",
              "        vertical-align: top;\n",
              "    }\n",
              "\n",
              "    .dataframe thead th {\n",
              "        text-align: right;\n",
              "    }\n",
              "</style>\n",
              "<table border=\"1\" class=\"dataframe\">\n",
              "  <thead>\n",
              "    <tr style=\"text-align: right;\">\n",
              "      <th></th>\n",
              "      <th>Game_ID</th>\n",
              "      <th>Player_ID</th>\n",
              "      <th>id</th>\n",
              "      <th>X</th>\n",
              "      <th>Y</th>\n",
              "      <th>Team</th>\n",
              "      <th>Half</th>\n",
              "      <th>Season</th>\n",
              "      <th>Manager</th>\n",
              "      <th>Opposition_Team</th>\n",
              "      <th>...</th>\n",
              "      <th>Passes</th>\n",
              "      <th>Start_minutes</th>\n",
              "      <th>End_minutes</th>\n",
              "      <th>next_player</th>\n",
              "      <th>next_x</th>\n",
              "      <th>next_y</th>\n",
              "      <th>event_id</th>\n",
              "      <th>next_team</th>\n",
              "      <th>next_event_id</th>\n",
              "      <th>xt_value</th>\n",
              "    </tr>\n",
              "  </thead>\n",
              "  <tbody>\n",
              "    <tr>\n",
              "      <th>0</th>\n",
              "      <td>ID_ZUPS2JD2</td>\n",
              "      <td>Player_5CBBVY85</td>\n",
              "      <td>1.0</td>\n",
              "      <td>52.5</td>\n",
              "      <td>34.0</td>\n",
              "      <td>Milky Way</td>\n",
              "      <td>1st half</td>\n",
              "      <td>3</td>\n",
              "      <td>Masashi</td>\n",
              "      <td>Sunflower</td>\n",
              "      <td>...</td>\n",
              "      <td>1.0</td>\n",
              "      <td>0.68</td>\n",
              "      <td>1.02</td>\n",
              "      <td>Player_INTSA2WQ</td>\n",
              "      <td>37.5</td>\n",
              "      <td>30.9</td>\n",
              "      <td>0.0</td>\n",
              "      <td>Milky Way</td>\n",
              "      <td>1.0</td>\n",
              "      <td>-0.002220</td>\n",
              "    </tr>\n",
              "    <tr>\n",
              "      <th>1</th>\n",
              "      <td>ID_ZUPS2JD2</td>\n",
              "      <td>Player_5CBBVY85</td>\n",
              "      <td>2.0</td>\n",
              "      <td>52.5</td>\n",
              "      <td>34.0</td>\n",
              "      <td>Milky Way</td>\n",
              "      <td>1st half</td>\n",
              "      <td>3</td>\n",
              "      <td>Masashi</td>\n",
              "      <td>Sunflower</td>\n",
              "      <td>...</td>\n",
              "      <td>0.0</td>\n",
              "      <td>0.68</td>\n",
              "      <td>1.02</td>\n",
              "      <td>Player_5CBBVY85</td>\n",
              "      <td>52.5</td>\n",
              "      <td>34.0</td>\n",
              "      <td>0.0</td>\n",
              "      <td>Milky Way</td>\n",
              "      <td>0.0</td>\n",
              "      <td>0.000000</td>\n",
              "    </tr>\n",
              "    <tr>\n",
              "      <th>2</th>\n",
              "      <td>ID_ZUPS2JD2</td>\n",
              "      <td>Player_INTSA2WQ</td>\n",
              "      <td>3.0</td>\n",
              "      <td>37.5</td>\n",
              "      <td>30.9</td>\n",
              "      <td>Milky Way</td>\n",
              "      <td>1st half</td>\n",
              "      <td>3</td>\n",
              "      <td>Masashi</td>\n",
              "      <td>Sunflower</td>\n",
              "      <td>...</td>\n",
              "      <td>0.0</td>\n",
              "      <td>0.70</td>\n",
              "      <td>1.03</td>\n",
              "      <td>Player_INTSA2WQ</td>\n",
              "      <td>37.5</td>\n",
              "      <td>30.9</td>\n",
              "      <td>1.0</td>\n",
              "      <td>Milky Way</td>\n",
              "      <td>1.0</td>\n",
              "      <td>0.000000</td>\n",
              "    </tr>\n",
              "    <tr>\n",
              "      <th>3</th>\n",
              "      <td>ID_ZUPS2JD2</td>\n",
              "      <td>Player_INTSA2WQ</td>\n",
              "      <td>4.0</td>\n",
              "      <td>37.5</td>\n",
              "      <td>30.9</td>\n",
              "      <td>Milky Way</td>\n",
              "      <td>1st half</td>\n",
              "      <td>3</td>\n",
              "      <td>Masashi</td>\n",
              "      <td>Sunflower</td>\n",
              "      <td>...</td>\n",
              "      <td>1.0</td>\n",
              "      <td>0.70</td>\n",
              "      <td>1.03</td>\n",
              "      <td>Player_1AJ0QRLU</td>\n",
              "      <td>79.0</td>\n",
              "      <td>57.2</td>\n",
              "      <td>1.0</td>\n",
              "      <td>Sunflower</td>\n",
              "      <td>2.0</td>\n",
              "      <td>0.016906</td>\n",
              "    </tr>\n",
              "    <tr>\n",
              "      <th>4</th>\n",
              "      <td>ID_ZUPS2JD2</td>\n",
              "      <td>Player_1AJ0QRLU</td>\n",
              "      <td>5.0</td>\n",
              "      <td>26.0</td>\n",
              "      <td>10.8</td>\n",
              "      <td>Sunflower</td>\n",
              "      <td>1st half</td>\n",
              "      <td>3</td>\n",
              "      <td>Frodo</td>\n",
              "      <td>Milky Way</td>\n",
              "      <td>...</td>\n",
              "      <td>0.0</td>\n",
              "      <td>0.77</td>\n",
              "      <td>1.10</td>\n",
              "      <td>Player_75QJWOU4</td>\n",
              "      <td>79.0</td>\n",
              "      <td>57.2</td>\n",
              "      <td>2.0</td>\n",
              "      <td>Milky Way</td>\n",
              "      <td>3.0</td>\n",
              "      <td>0.000000</td>\n",
              "    </tr>\n",
              "  </tbody>\n",
              "</table>\n",
              "<p>5 rows × 24 columns</p>\n",
              "</div>\n",
              "      <button class=\"colab-df-convert\" onclick=\"convertToInteractive('df-1ccc8fb4-183e-413b-9df9-11b1ce9f7784')\"\n",
              "              title=\"Convert this dataframe to an interactive table.\"\n",
              "              style=\"display:none;\">\n",
              "        \n",
              "  <svg xmlns=\"http://www.w3.org/2000/svg\" height=\"24px\"viewBox=\"0 0 24 24\"\n",
              "       width=\"24px\">\n",
              "    <path d=\"M0 0h24v24H0V0z\" fill=\"none\"/>\n",
              "    <path d=\"M18.56 5.44l.94 2.06.94-2.06 2.06-.94-2.06-.94-.94-2.06-.94 2.06-2.06.94zm-11 1L8.5 8.5l.94-2.06 2.06-.94-2.06-.94L8.5 2.5l-.94 2.06-2.06.94zm10 10l.94 2.06.94-2.06 2.06-.94-2.06-.94-.94-2.06-.94 2.06-2.06.94z\"/><path d=\"M17.41 7.96l-1.37-1.37c-.4-.4-.92-.59-1.43-.59-.52 0-1.04.2-1.43.59L10.3 9.45l-7.72 7.72c-.78.78-.78 2.05 0 2.83L4 21.41c.39.39.9.59 1.41.59.51 0 1.02-.2 1.41-.59l7.78-7.78 2.81-2.81c.8-.78.8-2.07 0-2.86zM5.41 20L4 18.59l7.72-7.72 1.47 1.35L5.41 20z\"/>\n",
              "  </svg>\n",
              "      </button>\n",
              "      \n",
              "  <style>\n",
              "    .colab-df-container {\n",
              "      display:flex;\n",
              "      flex-wrap:wrap;\n",
              "      gap: 12px;\n",
              "    }\n",
              "\n",
              "    .colab-df-convert {\n",
              "      background-color: #E8F0FE;\n",
              "      border: none;\n",
              "      border-radius: 50%;\n",
              "      cursor: pointer;\n",
              "      display: none;\n",
              "      fill: #1967D2;\n",
              "      height: 32px;\n",
              "      padding: 0 0 0 0;\n",
              "      width: 32px;\n",
              "    }\n",
              "\n",
              "    .colab-df-convert:hover {\n",
              "      background-color: #E2EBFA;\n",
              "      box-shadow: 0px 1px 2px rgba(60, 64, 67, 0.3), 0px 1px 3px 1px rgba(60, 64, 67, 0.15);\n",
              "      fill: #174EA6;\n",
              "    }\n",
              "\n",
              "    [theme=dark] .colab-df-convert {\n",
              "      background-color: #3B4455;\n",
              "      fill: #D2E3FC;\n",
              "    }\n",
              "\n",
              "    [theme=dark] .colab-df-convert:hover {\n",
              "      background-color: #434B5C;\n",
              "      box-shadow: 0px 1px 3px 1px rgba(0, 0, 0, 0.15);\n",
              "      filter: drop-shadow(0px 1px 2px rgba(0, 0, 0, 0.3));\n",
              "      fill: #FFFFFF;\n",
              "    }\n",
              "  </style>\n",
              "\n",
              "      <script>\n",
              "        const buttonEl =\n",
              "          document.querySelector('#df-1ccc8fb4-183e-413b-9df9-11b1ce9f7784 button.colab-df-convert');\n",
              "        buttonEl.style.display =\n",
              "          google.colab.kernel.accessAllowed ? 'block' : 'none';\n",
              "\n",
              "        async function convertToInteractive(key) {\n",
              "          const element = document.querySelector('#df-1ccc8fb4-183e-413b-9df9-11b1ce9f7784');\n",
              "          const dataTable =\n",
              "            await google.colab.kernel.invokeFunction('convertToInteractive',\n",
              "                                                     [key], {});\n",
              "          if (!dataTable) return;\n",
              "\n",
              "          const docLinkHtml = 'Like what you see? Visit the ' +\n",
              "            '<a target=\"_blank\" href=https://colab.research.google.com/notebooks/data_table.ipynb>data table notebook</a>'\n",
              "            + ' to learn more about interactive tables.';\n",
              "          element.innerHTML = '';\n",
              "          dataTable['output_type'] = 'display_data';\n",
              "          await google.colab.output.renderOutput(dataTable, element);\n",
              "          const docLink = document.createElement('div');\n",
              "          docLink.innerHTML = docLinkHtml;\n",
              "          element.appendChild(docLink);\n",
              "        }\n",
              "      </script>\n",
              "    </div>\n",
              "  </div>\n",
              "  "
            ]
          },
          "metadata": {},
          "execution_count": 7
        }
      ]
    },
    {
      "cell_type": "code",
      "source": [
        "print(sample_submission.shape)\n",
        "print(train_game_statistics.shape)\n",
        "print(train.shape)\n",
        "print(test_game_statistics.shape)\n",
        "print(test.shape)"
      ],
      "metadata": {
        "colab": {
          "base_uri": "https://localhost:8080/",
          "height": 269
        },
        "id": "N3jgrW5heTLj",
        "outputId": "24587eb0-a7a5-4129-f3cb-ca578670ed03"
      },
      "execution_count": 10,
      "outputs": [
        {
          "output_type": "stream",
          "name": "stdout",
          "text": [
            "(234, 4)\n",
            "(1571577, 28)\n"
          ]
        },
        {
          "output_type": "error",
          "ename": "NameError",
          "evalue": "ignored",
          "traceback": [
            "\u001b[0;31m---------------------------------------------------------------------------\u001b[0m",
            "\u001b[0;31mNameError\u001b[0m                                 Traceback (most recent call last)",
            "\u001b[0;32m<ipython-input-10-af8cf4d79d4a>\u001b[0m in \u001b[0;36m<module>\u001b[0;34m\u001b[0m\n\u001b[1;32m      1\u001b[0m \u001b[0mprint\u001b[0m\u001b[0;34m(\u001b[0m\u001b[0msample_submission\u001b[0m\u001b[0;34m.\u001b[0m\u001b[0mshape\u001b[0m\u001b[0;34m)\u001b[0m\u001b[0;34m\u001b[0m\u001b[0;34m\u001b[0m\u001b[0m\n\u001b[1;32m      2\u001b[0m \u001b[0mprint\u001b[0m\u001b[0;34m(\u001b[0m\u001b[0mtrain_game_statistics\u001b[0m\u001b[0;34m.\u001b[0m\u001b[0mshape\u001b[0m\u001b[0;34m)\u001b[0m\u001b[0;34m\u001b[0m\u001b[0;34m\u001b[0m\u001b[0m\n\u001b[0;32m----> 3\u001b[0;31m \u001b[0mprint\u001b[0m\u001b[0;34m(\u001b[0m\u001b[0mtrain\u001b[0m\u001b[0;34m.\u001b[0m\u001b[0mshape\u001b[0m\u001b[0;34m)\u001b[0m\u001b[0;34m\u001b[0m\u001b[0;34m\u001b[0m\u001b[0m\n\u001b[0m\u001b[1;32m      4\u001b[0m \u001b[0mprint\u001b[0m\u001b[0;34m(\u001b[0m\u001b[0mtest_game_statistics\u001b[0m\u001b[0;34m.\u001b[0m\u001b[0mshape\u001b[0m\u001b[0;34m)\u001b[0m\u001b[0;34m\u001b[0m\u001b[0;34m\u001b[0m\u001b[0m\n\u001b[1;32m      5\u001b[0m \u001b[0mprint\u001b[0m\u001b[0;34m(\u001b[0m\u001b[0mtest\u001b[0m\u001b[0;34m.\u001b[0m\u001b[0mshape\u001b[0m\u001b[0;34m)\u001b[0m\u001b[0;34m\u001b[0m\u001b[0;34m\u001b[0m\u001b[0m\n",
            "\u001b[0;31mNameError\u001b[0m: name 'train' is not defined"
          ]
        }
      ]
    },
    {
      "cell_type": "code",
      "source": [
        "len((test_game_statistics['Game_ID'].unique()))#412 unique game_id \n",
        "#count matches with the train data"
      ],
      "metadata": {
        "colab": {
          "base_uri": "https://localhost:8080/"
        },
        "id": "Umo_A0AKeTOB",
        "outputId": "3deb952c-e098-424d-c891-24ad9c5b4aa0"
      },
      "execution_count": null,
      "outputs": [
        {
          "output_type": "execute_result",
          "data": {
            "text/plain": [
              "234"
            ]
          },
          "metadata": {},
          "execution_count": 123
        }
      ]
    },
    {
      "cell_type": "code",
      "source": [
        "import pandas as pd\n",
        "import numpy as np\n",
        "import feather\n",
        "import missingno\n",
        "import matplotlib.pyplot as plt\n",
        "import seaborn as sns\n",
        "\n",
        "pd.set_option('display.max_columns', 100)"
      ],
      "metadata": {
        "id": "I5OQY5yPgbUq"
      },
      "execution_count": 12,
      "outputs": []
    },
    {
      "cell_type": "code",
      "source": [
        "merge_train = pd.merge(train, train_game_statistics, on='Game_ID', how='left')\n",
        "merge_test = pd.merge(test, test_game_statistics, on='Game_ID', how='left')\n",
        "print(merge_train.shape)\n",
        "print(merge_test.shape)"
      ],
      "metadata": {
        "colab": {
          "base_uri": "https://localhost:8080/"
        },
        "id": "66q52gOJeTQf",
        "outputId": "36fb94e7-c777-4c8d-d4d1-4af1e7a3374d"
      },
      "execution_count": 13,
      "outputs": [
        {
          "output_type": "stream",
          "name": "stdout",
          "text": [
            "(1571577, 34)\n",
            "(780234, 29)\n"
          ]
        }
      ]
    },
    {
      "cell_type": "code",
      "source": [
        "merge_train.to_feather('merged_train_feather.feather')\n",
        "merge_test.to_feather('merged_test_feather.feather')"
      ],
      "metadata": {
        "id": "nWdhC1KxeTS7"
      },
      "execution_count": 14,
      "outputs": []
    },
    {
      "cell_type": "code",
      "source": [
        "ltrain = pd.read_feather('./merged_train_feather.feather')\n",
        "ltest = pd.read_feather('./merged_test_feather.feather')\n",
        "print(ltrain.shape)#1571577\n",
        "print(ltest.shape)"
      ],
      "metadata": {
        "id": "Tah4zfkIg79u",
        "colab": {
          "base_uri": "https://localhost:8080/"
        },
        "outputId": "cfef9eec-f279-4a90-82ad-74f858411fef"
      },
      "execution_count": 15,
      "outputs": [
        {
          "output_type": "stream",
          "name": "stdout",
          "text": [
            "(1571577, 34)\n",
            "(780234, 29)\n"
          ]
        }
      ]
    },
    {
      "cell_type": "code",
      "source": [
        "ltest_bk = ltest.copy()\n",
        "ltrain_bk = ltrain.copy()"
      ],
      "metadata": {
        "id": "s4Hq4voTg8A0"
      },
      "execution_count": null,
      "outputs": []
    },
    {
      "cell_type": "markdown",
      "source": [
        "# FEature Engineering and EDA¶"
      ],
      "metadata": {
        "id": "sSMaXAcZSjwl"
      }
    },
    {
      "cell_type": "markdown",
      "source": [
        "**Check Duplicates**"
      ],
      "metadata": {
        "id": "2-LWvpPlSnDT"
      }
    },
    {
      "cell_type": "code",
      "source": [
        "print('Train: ', ltrain.duplicated().any())#there are duplicates\n",
        "print('Test: ',ltest.duplicated().any())#no duplicates"
      ],
      "metadata": {
        "id": "KLAjijn1g8Dl",
        "colab": {
          "base_uri": "https://localhost:8080/"
        },
        "outputId": "568c57d3-f154-40a7-8489-318286123072"
      },
      "execution_count": 16,
      "outputs": [
        {
          "output_type": "stream",
          "name": "stdout",
          "text": [
            "Train:  True\n",
            "Test:  False\n"
          ]
        }
      ]
    },
    {
      "cell_type": "code",
      "source": [
        "ltrain = ltrain.drop_duplicates()#drop duplicates by keeing unique values\n",
        "print(ltrain.shape)"
      ],
      "metadata": {
        "colab": {
          "base_uri": "https://localhost:8080/"
        },
        "id": "fH-Y753WSeUH",
        "outputId": "f433977b-b68d-4466-8233-0d35fbc3ac3d"
      },
      "execution_count": 17,
      "outputs": [
        {
          "output_type": "stream",
          "name": "stdout",
          "text": [
            "(1567834, 34)\n"
          ]
        }
      ]
    },
    {
      "cell_type": "markdown",
      "source": [
        "There are only duplicate rows in training data. Not in test data. Dropping all duplicates rows."
      ],
      "metadata": {
        "id": "b1Il_LSbS1Ap"
      }
    },
    {
      "cell_type": "markdown",
      "source": [
        "# check for imbalance"
      ],
      "metadata": {
        "id": "RDrwpgloS5Da"
      }
    },
    {
      "cell_type": "code",
      "source": [
        "ltrain_bk['Score'].value_counts()#629820+505769+435988 =1571577"
      ],
      "metadata": {
        "colab": {
          "base_uri": "https://localhost:8080/"
        },
        "id": "XCQO60hRSeXN",
        "outputId": "6baeb341-64b3-4c65-9fc8-1bc9531761d2"
      },
      "execution_count": null,
      "outputs": [
        {
          "output_type": "execute_result",
          "data": {
            "text/plain": [
              "Home Win    629820\n",
              "Draw        505769\n",
              "Away win    435988\n",
              "Name: Score, dtype: int64"
            ]
          },
          "metadata": {},
          "execution_count": 19
        }
      ]
    },
    {
      "cell_type": "markdown",
      "source": [
        "Seems not much of imbalance there is diffrenece of 1 lakh in each class. Lets come back later to this."
      ],
      "metadata": {
        "id": "tOmfHwJdS_-W"
      }
    },
    {
      "cell_type": "markdown",
      "source": [
        "# Missing values Check"
      ],
      "metadata": {
        "id": "NlBVCrqXTDBw"
      }
    },
    {
      "cell_type": "code",
      "source": [
        "def missing_value_cnt_percent(dataframe):\n",
        "    \"\"\"Function that gives the count and the percent of misisng values\"\"\"\n",
        "    # Checking out the missing values for the dataset so that we can remove it and work further with the dataset. This is a mere part of Data Cleaning.\n",
        "    total = dataframe.isnull().sum().sort_values(ascending=False)\n",
        "    percent = (dataframe.isnull().sum()/dataframe.isnull().count()).sort_values(ascending=False)\n",
        "    missing_data = pd.concat([total, percent], axis=1, keys=['Total', 'Percent'])\n",
        "    #missing_data\n",
        "    missing_data['Colum_names'] = missing_data.index#columns added\n",
        "    return missing_data"
      ],
      "metadata": {
        "id": "o5u54136SeZ1"
      },
      "execution_count": 18,
      "outputs": []
    },
    {
      "cell_type": "code",
      "source": [
        "missingno.bar(ltrain, color='green')#Graph that shows the missing values"
      ],
      "metadata": {
        "colab": {
          "base_uri": "https://localhost:8080/",
          "height": 612
        },
        "id": "QKctPB1jSedu",
        "outputId": "460589a0-c908-4abc-9e60-95e80ae91b7a"
      },
      "execution_count": null,
      "outputs": [
        {
          "output_type": "execute_result",
          "data": {
            "text/plain": [
              "<matplotlib.axes._subplots.AxesSubplot at 0x7f4bf7c67a10>"
            ]
          },
          "metadata": {},
          "execution_count": 21
        },
        {
          "output_type": "display_data",
          "data": {
            "text/plain": [
              "<Figure size 1800x720 with 3 Axes>"
            ],
            "image/png": "[encoded data removed]"
          },
          "metadata": {
            "needs_background": "light"
          }
        }
      ]
    },
    {
      "cell_type": "code",
      "source": [
        "missingno.bar(ltest, color='yellow')#Graph that shows the missing values"
      ],
      "metadata": {
        "colab": {
          "base_uri": "https://localhost:8080/",
          "height": 611
        },
        "id": "GYWrcfCrSeg-",
        "outputId": "7f51ab9c-26e3-4e7b-db50-0b79a46c539f"
      },
      "execution_count": null,
      "outputs": [
        {
          "output_type": "execute_result",
          "data": {
            "text/plain": [
              "<matplotlib.axes._subplots.AxesSubplot at 0x7f4bad645c10>"
            ]
          },
          "metadata": {},
          "execution_count": 22
        },
        {
          "output_type": "display_data",
          "data": {
            "text/plain": [
              "<Figure size 1800x720 with 3 Axes>"
            ],
            "image/png": "[encoded data removed]"
          },
          "metadata": {
            "needs_background": "light"
          }
        }
      ]
    },
    {
      "cell_type": "code",
      "source": [
        "ltrain.isnull().sum()[ltrain.isnull().sum()>1]"
      ],
      "metadata": {
        "colab": {
          "base_uri": "https://localhost:8080/"
        },
        "id": "_vahtVn5Sei_",
        "outputId": "9f256a1c-2eee-480b-a2c2-a0aa377b7a33"
      },
      "execution_count": 19,
      "outputs": [
        {
          "output_type": "execute_result",
          "data": {
            "text/plain": [
              "next_player      1567834\n",
              "next_action      1567834\n",
              "next_x           1567834\n",
              "next_y           1567834\n",
              "event_id         1567834\n",
              "next_team        1567834\n",
              "next_event_id    1567834\n",
              "xt_value         1567834\n",
              "dtype: int64"
            ]
          },
          "metadata": {},
          "execution_count": 19
        }
      ]
    },
    {
      "cell_type": "code",
      "source": [
        "ltest.isnull().sum()[ltest.isnull().sum()>1]"
      ],
      "metadata": {
        "colab": {
          "base_uri": "https://localhost:8080/"
        },
        "id": "1TFU2YiySelF",
        "outputId": "ba611aad-55e7-4c85-a223-d57e5f66750b"
      },
      "execution_count": 20,
      "outputs": [
        {
          "output_type": "execute_result",
          "data": {
            "text/plain": [
              "Half                   11\n",
              "Manager              5602\n",
              "Shots                  92\n",
              "SoT                    92\n",
              "Accurate passes        92\n",
              "Inaccurate passes      92\n",
              "Passes                 92\n",
              "Start_minutes          10\n",
              "next_player           212\n",
              "next_x                212\n",
              "next_y                212\n",
              "next_team             209\n",
              "next_event_id         212\n",
              "dtype: int64"
            ]
          },
          "metadata": {},
          "execution_count": 20
        }
      ]
    },
    {
      "cell_type": "markdown",
      "source": [
        "The missing columns and values are different in both the train and test sample data. Lets explore each oneof the features individually."
      ],
      "metadata": {
        "id": "mCgAivK7TTHR"
      }
    },
    {
      "cell_type": "code",
      "source": [
        "missing_cols=[cols for cols in ltrain.columns if ltrain[cols].isnull().sum()>1]\n",
        "for i in missing_cols:\n",
        "    print(i, np.round(ltrain[i].isnull().mean(), 5),  ' % missing values')"
      ],
      "metadata": {
        "colab": {
          "base_uri": "https://localhost:8080/"
        },
        "id": "qlXidsKtSenQ",
        "outputId": "43ef287b-8695-490a-8022-f4f3bde89c88"
      },
      "execution_count": null,
      "outputs": [
        {
          "output_type": "stream",
          "name": "stdout",
          "text": [
            "next_player 1.0  % missing values\n",
            "next_action 1.0  % missing values\n",
            "next_x 1.0  % missing values\n",
            "next_y 1.0  % missing values\n",
            "event_id 1.0  % missing values\n",
            "next_team 1.0  % missing values\n",
            "next_event_id 1.0  % missing values\n",
            "xt_value 1.0  % missing values\n"
          ]
        }
      ]
    },
    {
      "cell_type": "code",
      "source": [
        "missing_cols=[cols for cols in ltest.columns if ltest[cols].isnull().sum()>1]\n",
        "for i in missing_cols:\n",
        "    print(i, np.round(ltest[i].isnull().mean(), 5),  ' % missing values')"
      ],
      "metadata": {
        "colab": {
          "base_uri": "https://localhost:8080/"
        },
        "id": "iU50mLjFSepa",
        "outputId": "1ffe0699-396c-435f-90f2-38a0dce09e7c"
      },
      "execution_count": null,
      "outputs": [
        {
          "output_type": "stream",
          "name": "stdout",
          "text": [
            "Half 1e-05  % missing values\n",
            "Manager 0.00718  % missing values\n",
            "Shots 0.00012  % missing values\n",
            "SoT 0.00012  % missing values\n",
            "Accurate passes 0.00012  % missing values\n",
            "Inaccurate passes 0.00012  % missing values\n",
            "Passes 0.00012  % missing values\n",
            "Start_minutes 1e-05  % missing values\n",
            "next_player 0.00027  % missing values\n",
            "next_x 0.00027  % missing values\n",
            "next_y 0.00027  % missing values\n",
            "next_team 0.00027  % missing values\n",
            "next_event_id 0.00027  % missing values\n"
          ]
        }
      ]
    },
    {
      "cell_type": "code",
      "source": [
        "missing_data =missing_value_cnt_percent(ltrain)\n",
        "missing_data[missing_data['Percent']>0.8]"
      ],
      "metadata": {
        "colab": {
          "base_uri": "https://localhost:8080/",
          "height": 300
        },
        "id": "A1ZP1roMSer4",
        "outputId": "b9836544-0c62-445c-e0de-d81ec39df6f4"
      },
      "execution_count": null,
      "outputs": [
        {
          "output_type": "execute_result",
          "data": {
            "text/plain": [
              "                 Total  Percent    Colum_names\n",
              "xt_value       1567834      1.0       xt_value\n",
              "next_y         1567834      1.0         next_y\n",
              "next_action    1567834      1.0    next_action\n",
              "next_x         1567834      1.0         next_x\n",
              "next_player    1567834      1.0    next_player\n",
              "event_id       1567834      1.0       event_id\n",
              "next_team      1567834      1.0      next_team\n",
              "next_event_id  1567834      1.0  next_event_id"
            ],
            "text/html": [
              "\n",
              "  <div id=\"df-96b2ae8f-eae4-48bd-9b22-3e72ffab86ad\">\n",
              "    <div class=\"colab-df-container\">\n",
              "      <div>\n",
              "<style scoped>\n",
              "    .dataframe tbody tr th:only-of-type {\n",
              "        vertical-align: middle;\n",
              "    }\n",
              "\n",
              "    .dataframe tbody tr th {\n",
              "        vertical-align: top;\n",
              "    }\n",
              "\n",
              "    .dataframe thead th {\n",
              "        text-align: right;\n",
              "    }\n",
              "</style>\n",
              "<table border=\"1\" class=\"dataframe\">\n",
              "  <thead>\n",
              "    <tr style=\"text-align: right;\">\n",
              "      <th></th>\n",
              "      <th>Total</th>\n",
              "      <th>Percent</th>\n",
              "      <th>Colum_names</th>\n",
              "    </tr>\n",
              "  </thead>\n",
              "  <tbody>\n",
              "    <tr>\n",
              "      <th>xt_value</th>\n",
              "      <td>1567834</td>\n",
              "      <td>1.0</td>\n",
              "      <td>xt_value</td>\n",
              "    </tr>\n",
              "    <tr>\n",
              "      <th>next_y</th>\n",
              "      <td>1567834</td>\n",
              "      <td>1.0</td>\n",
              "      <td>next_y</td>\n",
              "    </tr>\n",
              "    <tr>\n",
              "      <th>next_action</th>\n",
              "      <td>1567834</td>\n",
              "      <td>1.0</td>\n",
              "      <td>next_action</td>\n",
              "    </tr>\n",
              "    <tr>\n",
              "      <th>next_x</th>\n",
              "      <td>1567834</td>\n",
              "      <td>1.0</td>\n",
              "      <td>next_x</td>\n",
              "    </tr>\n",
              "    <tr>\n",
              "      <th>next_player</th>\n",
              "      <td>1567834</td>\n",
              "      <td>1.0</td>\n",
              "      <td>next_player</td>\n",
              "    </tr>\n",
              "    <tr>\n",
              "      <th>event_id</th>\n",
              "      <td>1567834</td>\n",
              "      <td>1.0</td>\n",
              "      <td>event_id</td>\n",
              "    </tr>\n",
              "    <tr>\n",
              "      <th>next_team</th>\n",
              "      <td>1567834</td>\n",
              "      <td>1.0</td>\n",
              "      <td>next_team</td>\n",
              "    </tr>\n",
              "    <tr>\n",
              "      <th>next_event_id</th>\n",
              "      <td>1567834</td>\n",
              "      <td>1.0</td>\n",
              "      <td>next_event_id</td>\n",
              "    </tr>\n",
              "  </tbody>\n",
              "</table>\n",
              "</div>\n",
              "      <button class=\"colab-df-convert\" onclick=\"convertToInteractive('df-96b2ae8f-eae4-48bd-9b22-3e72ffab86ad')\"\n",
              "              title=\"Convert this dataframe to an interactive table.\"\n",
              "              style=\"display:none;\">\n",
              "        \n",
              "  <svg xmlns=\"http://www.w3.org/2000/svg\" height=\"24px\"viewBox=\"0 0 24 24\"\n",
              "       width=\"24px\">\n",
              "    <path d=\"M0 0h24v24H0V0z\" fill=\"none\"/>\n",
              "    <path d=\"M18.56 5.44l.94 2.06.94-2.06 2.06-.94-2.06-.94-.94-2.06-.94 2.06-2.06.94zm-11 1L8.5 8.5l.94-2.06 2.06-.94-2.06-.94L8.5 2.5l-.94 2.06-2.06.94zm10 10l.94 2.06.94-2.06 2.06-.94-2.06-.94-.94-2.06-.94 2.06-2.06.94z\"/><path d=\"M17.41 7.96l-1.37-1.37c-.4-.4-.92-.59-1.43-.59-.52 0-1.04.2-1.43.59L10.3 9.45l-7.72 7.72c-.78.78-.78 2.05 0 2.83L4 21.41c.39.39.9.59 1.41.59.51 0 1.02-.2 1.41-.59l7.78-7.78 2.81-2.81c.8-.78.8-2.07 0-2.86zM5.41 20L4 18.59l7.72-7.72 1.47 1.35L5.41 20z\"/>\n",
              "  </svg>\n",
              "      </button>\n",
              "      \n",
              "  <style>\n",
              "    .colab-df-container {\n",
              "      display:flex;\n",
              "      flex-wrap:wrap;\n",
              "      gap: 12px;\n",
              "    }\n",
              "\n",
              "    .colab-df-convert {\n",
              "      background-color: #E8F0FE;\n",
              "      border: none;\n",
              "      border-radius: 50%;\n",
              "      cursor: pointer;\n",
              "      display: none;\n",
              "      fill: #1967D2;\n",
              "      height: 32px;\n",
              "      padding: 0 0 0 0;\n",
              "      width: 32px;\n",
              "    }\n",
              "\n",
              "    .colab-df-convert:hover {\n",
              "      background-color: #E2EBFA;\n",
              "      box-shadow: 0px 1px 2px rgba(60, 64, 67, 0.3), 0px 1px 3px 1px rgba(60, 64, 67, 0.15);\n",
              "      fill: #174EA6;\n",
              "    }\n",
              "\n",
              "    [theme=dark] .colab-df-convert {\n",
              "      background-color: #3B4455;\n",
              "      fill: #D2E3FC;\n",
              "    }\n",
              "\n",
              "    [theme=dark] .colab-df-convert:hover {\n",
              "      background-color: #434B5C;\n",
              "      box-shadow: 0px 1px 3px 1px rgba(0, 0, 0, 0.15);\n",
              "      filter: drop-shadow(0px 1px 2px rgba(0, 0, 0, 0.3));\n",
              "      fill: #FFFFFF;\n",
              "    }\n",
              "  </style>\n",
              "\n",
              "      <script>\n",
              "        const buttonEl =\n",
              "          document.querySelector('#df-96b2ae8f-eae4-48bd-9b22-3e72ffab86ad button.colab-df-convert');\n",
              "        buttonEl.style.display =\n",
              "          google.colab.kernel.accessAllowed ? 'block' : 'none';\n",
              "\n",
              "        async function convertToInteractive(key) {\n",
              "          const element = document.querySelector('#df-96b2ae8f-eae4-48bd-9b22-3e72ffab86ad');\n",
              "          const dataTable =\n",
              "            await google.colab.kernel.invokeFunction('convertToInteractive',\n",
              "                                                     [key], {});\n",
              "          if (!dataTable) return;\n",
              "\n",
              "          const docLinkHtml = 'Like what you see? Visit the ' +\n",
              "            '<a target=\"_blank\" href=https://colab.research.google.com/notebooks/data_table.ipynb>data table notebook</a>'\n",
              "            + ' to learn more about interactive tables.';\n",
              "          element.innerHTML = '';\n",
              "          dataTable['output_type'] = 'display_data';\n",
              "          await google.colab.output.renderOutput(dataTable, element);\n",
              "          const docLink = document.createElement('div');\n",
              "          docLink.innerHTML = docLinkHtml;\n",
              "          element.appendChild(docLink);\n",
              "        }\n",
              "      </script>\n",
              "    </div>\n",
              "  </div>\n",
              "  "
            ]
          },
          "metadata": {},
          "execution_count": 27
        }
      ]
    },
    {
      "cell_type": "code",
      "source": [
        "missing_data =missing_value_cnt_percent(ltest)\n",
        "missing_data[missing_data['Percent']>0]"
      ],
      "metadata": {
        "colab": {
          "base_uri": "https://localhost:8080/",
          "height": 457
        },
        "id": "eccddh2JSeu4",
        "outputId": "4d23bb2b-ff11-4c66-d19e-06e36d7f4bf6"
      },
      "execution_count": null,
      "outputs": [
        {
          "output_type": "execute_result",
          "data": {
            "text/plain": [
              "                   Total   Percent        Colum_names\n",
              "Manager             5602  0.007180            Manager\n",
              "next_event_id        212  0.000272      next_event_id\n",
              "next_y               212  0.000272             next_y\n",
              "next_x               212  0.000272             next_x\n",
              "next_player          212  0.000272        next_player\n",
              "next_team            209  0.000268          next_team\n",
              "SoT                   92  0.000118                SoT\n",
              "Passes                92  0.000118             Passes\n",
              "Inaccurate passes     92  0.000118  Inaccurate passes\n",
              "Accurate passes       92  0.000118    Accurate passes\n",
              "Shots                 92  0.000118              Shots\n",
              "Half                  11  0.000014               Half\n",
              "Start_minutes         10  0.000013      Start_minutes"
            ],
            "text/html": [
              "\n",
              "  <div id=\"df-9e8f8367-238a-45a4-9fde-08f6800c62b5\">\n",
              "    <div class=\"colab-df-container\">\n",
              "      <div>\n",
              "<style scoped>\n",
              "    .dataframe tbody tr th:only-of-type {\n",
              "        vertical-align: middle;\n",
              "    }\n",
              "\n",
              "    .dataframe tbody tr th {\n",
              "        vertical-align: top;\n",
              "    }\n",
              "\n",
              "    .dataframe thead th {\n",
              "        text-align: right;\n",
              "    }\n",
              "</style>\n",
              "<table border=\"1\" class=\"dataframe\">\n",
              "  <thead>\n",
              "    <tr style=\"text-align: right;\">\n",
              "      <th></th>\n",
              "      <th>Total</th>\n",
              "      <th>Percent</th>\n",
              "      <th>Colum_names</th>\n",
              "    </tr>\n",
              "  </thead>\n",
              "  <tbody>\n",
              "    <tr>\n",
              "      <th>Manager</th>\n",
              "      <td>5602</td>\n",
              "      <td>0.007180</td>\n",
              "      <td>Manager</td>\n",
              "    </tr>\n",
              "    <tr>\n",
              "      <th>next_event_id</th>\n",
              "      <td>212</td>\n",
              "      <td>0.000272</td>\n",
              "      <td>next_event_id</td>\n",
              "    </tr>\n",
              "    <tr>\n",
              "      <th>next_y</th>\n",
              "      <td>212</td>\n",
              "      <td>0.000272</td>\n",
              "      <td>next_y</td>\n",
              "    </tr>\n",
              "    <tr>\n",
              "      <th>next_x</th>\n",
              "      <td>212</td>\n",
              "      <td>0.000272</td>\n",
              "      <td>next_x</td>\n",
              "    </tr>\n",
              "    <tr>\n",
              "      <th>next_player</th>\n",
              "      <td>212</td>\n",
              "      <td>0.000272</td>\n",
              "      <td>next_player</td>\n",
              "    </tr>\n",
              "    <tr>\n",
              "      <th>next_team</th>\n",
              "      <td>209</td>\n",
              "      <td>0.000268</td>\n",
              "      <td>next_team</td>\n",
              "    </tr>\n",
              "    <tr>\n",
              "      <th>SoT</th>\n",
              "      <td>92</td>\n",
              "      <td>0.000118</td>\n",
              "      <td>SoT</td>\n",
              "    </tr>\n",
              "    <tr>\n",
              "      <th>Passes</th>\n",
              "      <td>92</td>\n",
              "      <td>0.000118</td>\n",
              "      <td>Passes</td>\n",
              "    </tr>\n",
              "    <tr>\n",
              "      <th>Inaccurate passes</th>\n",
              "      <td>92</td>\n",
              "      <td>0.000118</td>\n",
              "      <td>Inaccurate passes</td>\n",
              "    </tr>\n",
              "    <tr>\n",
              "      <th>Accurate passes</th>\n",
              "      <td>92</td>\n",
              "      <td>0.000118</td>\n",
              "      <td>Accurate passes</td>\n",
              "    </tr>\n",
              "    <tr>\n",
              "      <th>Shots</th>\n",
              "      <td>92</td>\n",
              "      <td>0.000118</td>\n",
              "      <td>Shots</td>\n",
              "    </tr>\n",
              "    <tr>\n",
              "      <th>Half</th>\n",
              "      <td>11</td>\n",
              "      <td>0.000014</td>\n",
              "      <td>Half</td>\n",
              "    </tr>\n",
              "    <tr>\n",
              "      <th>Start_minutes</th>\n",
              "      <td>10</td>\n",
              "      <td>0.000013</td>\n",
              "      <td>Start_minutes</td>\n",
              "    </tr>\n",
              "  </tbody>\n",
              "</table>\n",
              "</div>\n",
              "      <button class=\"colab-df-convert\" onclick=\"convertToInteractive('df-9e8f8367-238a-45a4-9fde-08f6800c62b5')\"\n",
              "              title=\"Convert this dataframe to an interactive table.\"\n",
              "              style=\"display:none;\">\n",
              "        \n",
              "  <svg xmlns=\"http://www.w3.org/2000/svg\" height=\"24px\"viewBox=\"0 0 24 24\"\n",
              "       width=\"24px\">\n",
              "    <path d=\"M0 0h24v24H0V0z\" fill=\"none\"/>\n",
              "    <path d=\"M18.56 5.44l.94 2.06.94-2.06 2.06-.94-2.06-.94-.94-2.06-.94 2.06-2.06.94zm-11 1L8.5 8.5l.94-2.06 2.06-.94-2.06-.94L8.5 2.5l-.94 2.06-2.06.94zm10 10l.94 2.06.94-2.06 2.06-.94-2.06-.94-.94-2.06-.94 2.06-2.06.94z\"/><path d=\"M17.41 7.96l-1.37-1.37c-.4-.4-.92-.59-1.43-.59-.52 0-1.04.2-1.43.59L10.3 9.45l-7.72 7.72c-.78.78-.78 2.05 0 2.83L4 21.41c.39.39.9.59 1.41.59.51 0 1.02-.2 1.41-.59l7.78-7.78 2.81-2.81c.8-.78.8-2.07 0-2.86zM5.41 20L4 18.59l7.72-7.72 1.47 1.35L5.41 20z\"/>\n",
              "  </svg>\n",
              "      </button>\n",
              "      \n",
              "  <style>\n",
              "    .colab-df-container {\n",
              "      display:flex;\n",
              "      flex-wrap:wrap;\n",
              "      gap: 12px;\n",
              "    }\n",
              "\n",
              "    .colab-df-convert {\n",
              "      background-color: #E8F0FE;\n",
              "      border: none;\n",
              "      border-radius: 50%;\n",
              "      cursor: pointer;\n",
              "      display: none;\n",
              "      fill: #1967D2;\n",
              "      height: 32px;\n",
              "      padding: 0 0 0 0;\n",
              "      width: 32px;\n",
              "    }\n",
              "\n",
              "    .colab-df-convert:hover {\n",
              "      background-color: #E2EBFA;\n",
              "      box-shadow: 0px 1px 2px rgba(60, 64, 67, 0.3), 0px 1px 3px 1px rgba(60, 64, 67, 0.15);\n",
              "      fill: #174EA6;\n",
              "    }\n",
              "\n",
              "    [theme=dark] .colab-df-convert {\n",
              "      background-color: #3B4455;\n",
              "      fill: #D2E3FC;\n",
              "    }\n",
              "\n",
              "    [theme=dark] .colab-df-convert:hover {\n",
              "      background-color: #434B5C;\n",
              "      box-shadow: 0px 1px 3px 1px rgba(0, 0, 0, 0.15);\n",
              "      filter: drop-shadow(0px 1px 2px rgba(0, 0, 0, 0.3));\n",
              "      fill: #FFFFFF;\n",
              "    }\n",
              "  </style>\n",
              "\n",
              "      <script>\n",
              "        const buttonEl =\n",
              "          document.querySelector('#df-9e8f8367-238a-45a4-9fde-08f6800c62b5 button.colab-df-convert');\n",
              "        buttonEl.style.display =\n",
              "          google.colab.kernel.accessAllowed ? 'block' : 'none';\n",
              "\n",
              "        async function convertToInteractive(key) {\n",
              "          const element = document.querySelector('#df-9e8f8367-238a-45a4-9fde-08f6800c62b5');\n",
              "          const dataTable =\n",
              "            await google.colab.kernel.invokeFunction('convertToInteractive',\n",
              "                                                     [key], {});\n",
              "          if (!dataTable) return;\n",
              "\n",
              "          const docLinkHtml = 'Like what you see? Visit the ' +\n",
              "            '<a target=\"_blank\" href=https://colab.research.google.com/notebooks/data_table.ipynb>data table notebook</a>'\n",
              "            + ' to learn more about interactive tables.';\n",
              "          element.innerHTML = '';\n",
              "          dataTable['output_type'] = 'display_data';\n",
              "          await google.colab.output.renderOutput(dataTable, element);\n",
              "          const docLink = document.createElement('div');\n",
              "          docLink.innerHTML = docLinkHtml;\n",
              "          element.appendChild(docLink);\n",
              "        }\n",
              "      </script>\n",
              "    </div>\n",
              "  </div>\n",
              "  "
            ]
          },
          "metadata": {},
          "execution_count": 28
        }
      ]
    },
    {
      "cell_type": "markdown",
      "source": [
        "From the above train and test dataset. I see train dataset has got >80% of the missing columns. and test sample data as got a very less missing values."
      ],
      "metadata": {
        "id": "jluCP-xpTedf"
      }
    },
    {
      "cell_type": "markdown",
      "source": [
        "# Handle Train Misisng values"
      ],
      "metadata": {
        "id": "9Jrvx-PfTjCF"
      }
    },
    {
      "cell_type": "markdown",
      "source": [
        "**Dropping all >80% missing values in Train dataset**"
      ],
      "metadata": {
        "id": "QkuynO0hTl3r"
      }
    },
    {
      "cell_type": "markdown",
      "source": [
        "Lets Drop columns with >50% missing values. Also lets see tehe columns with only 1 unique value."
      ],
      "metadata": {
        "id": "npyJbNXOTmFK"
      }
    },
    {
      "cell_type": "code",
      "source": [
        "#All these NaN values are unique values in the train columns\n",
        "features_drop = []\n",
        "for i in ltrain.columns:\n",
        "  if ltrain[i].dtype!='O':\n",
        "    if len(ltrain[i].unique())==1:\n",
        "        features_drop.append(i)\n",
        "        #print(i, data[i].unique())# all are NAN so drop this\n",
        "print(features_drop)"
      ],
      "metadata": {
        "colab": {
          "base_uri": "https://localhost:8080/"
        },
        "id": "zedAFcmaSexU",
        "outputId": "0f6a0a18-1780-4e3c-c59c-21b213309e84"
      },
      "execution_count": 21,
      "outputs": [
        {
          "output_type": "stream",
          "name": "stdout",
          "text": [
            "['next_player', 'next_action', 'next_x', 'next_y', 'event_id', 'next_team', 'next_event_id', 'xt_value']\n"
          ]
        }
      ]
    },
    {
      "cell_type": "code",
      "source": [
        "ltrain.drop(features_drop, axis=1, inplace=True)# dropping here has these columns have only Nan as the unique value"
      ],
      "metadata": {
        "id": "htqZvpJdSe0Q"
      },
      "execution_count": 22,
      "outputs": []
    },
    {
      "cell_type": "code",
      "source": [
        "ltrain.isnull().sum()[ltrain.isnull().sum()>1]"
      ],
      "metadata": {
        "colab": {
          "base_uri": "https://localhost:8080/"
        },
        "id": "b0Sugb2VSe3B",
        "outputId": "0cc6c606-dbaa-4720-c618-898d92271e18"
      },
      "execution_count": 23,
      "outputs": [
        {
          "output_type": "execute_result",
          "data": {
            "text/plain": [
              "Series([], dtype: int64)"
            ]
          },
          "metadata": {},
          "execution_count": 23
        }
      ]
    },
    {
      "cell_type": "markdown",
      "source": [
        "# Handle Test missing values"
      ],
      "metadata": {
        "id": "PMVuGbIeTy8V"
      }
    },
    {
      "cell_type": "code",
      "source": [
        "#All these NaN values are unique values in the train columns\n",
        "features_drop = []\n",
        "for i in ltest.columns:\n",
        "  if ltest[i].dtype!='O':\n",
        "    if len(ltest[i].unique())==1:\n",
        "        features_drop.append(i)\n",
        "        #print(i, data[i].unique())# all are NAN so drop this\n",
        "print(features_drop)"
      ],
      "metadata": {
        "id": "KRMPtXvag8HE",
        "colab": {
          "base_uri": "https://localhost:8080/"
        },
        "outputId": "1e2e4b72-f875-472d-a169-c6a730c538a7"
      },
      "execution_count": null,
      "outputs": [
        {
          "output_type": "stream",
          "name": "stdout",
          "text": [
            "['Season_x', 'Season_y']\n"
          ]
        }
      ]
    },
    {
      "cell_type": "code",
      "source": [
        "ltest.isnull().sum()[ltest.isnull().sum()>1]"
      ],
      "metadata": {
        "colab": {
          "base_uri": "https://localhost:8080/"
        },
        "id": "o473BFvtT2XT",
        "outputId": "af4c10bb-52f8-4607-d472-fa996babc2b4"
      },
      "execution_count": 24,
      "outputs": [
        {
          "output_type": "execute_result",
          "data": {
            "text/plain": [
              "Half                   11\n",
              "Manager              5602\n",
              "Shots                  92\n",
              "SoT                    92\n",
              "Accurate passes        92\n",
              "Inaccurate passes      92\n",
              "Passes                 92\n",
              "Start_minutes          10\n",
              "next_player           212\n",
              "next_x                212\n",
              "next_y                212\n",
              "next_team             209\n",
              "next_event_id         212\n",
              "dtype: int64"
            ]
          },
          "metadata": {},
          "execution_count": 24
        }
      ]
    },
    {
      "cell_type": "code",
      "source": [
        "ncols=[ 'event_id', 'xt_value']#these columns are not in missing list('next_action' not in test data)\n",
        "for i in ncols:\n",
        "       print(i, len(ltest[i].unique()))# all are NAN so drop this"
      ],
      "metadata": {
        "colab": {
          "base_uri": "https://localhost:8080/"
        },
        "id": "aQlN-erbT2bB",
        "outputId": "068114df-990a-4f22-cf88-2780f415a5c6"
      },
      "execution_count": 25,
      "outputs": [
        {
          "output_type": "stream",
          "name": "stdout",
          "text": [
            "event_id 2668\n",
            "xt_value 2301\n"
          ]
        }
      ]
    },
    {
      "cell_type": "code",
      "source": [
        "drop_cols=['next_player', 'next_x', 'next_y', 'event_id', 'next_team', 'next_event_id', 'xt_value']\n",
        "ltest.drop(drop_cols, axis=1, inplace=True)# dropping here has these columns have only Nan as the unique value"
      ],
      "metadata": {
        "id": "hjB1ThPvT2fJ"
      },
      "execution_count": 26,
      "outputs": []
    },
    {
      "cell_type": "markdown",
      "source": [
        "Dropping these columns in test as well. missing columns in train are in test as well. Only 'event_id', 'xt_value' have got negligible missing vlaues. But its 100% NaN in train dataset for this 2 columns. As it doesnot make sense. When we dont have this data in train. How does it help model to learn in test. So dropping them."
      ],
      "metadata": {
        "id": "8ng24fE0T_RM"
      }
    },
    {
      "cell_type": "markdown",
      "source": [
        "# Drop Manager column"
      ],
      "metadata": {
        "id": "iSdkA3wNUCTx"
      }
    },
    {
      "cell_type": "code",
      "source": [
        "ltrain.drop(['Manager'], axis=1, inplace=True)\n",
        "ltest.drop(['Manager'], axis=1, inplace=True)"
      ],
      "metadata": {
        "id": "COCe4rE3T2iI"
      },
      "execution_count": 27,
      "outputs": []
    },
    {
      "cell_type": "markdown",
      "source": [
        "\n",
        "Drop Manager names in both train and test data as it does not give any inference to our ML model."
      ],
      "metadata": {
        "id": "TTtM5EDQUJS4"
      }
    },
    {
      "cell_type": "code",
      "source": [
        "ltest.isnull().sum()[ltest.isnull().sum()>1]"
      ],
      "metadata": {
        "colab": {
          "base_uri": "https://localhost:8080/"
        },
        "id": "XETOei8xT2kE",
        "outputId": "27fe35ed-d808-4db3-bb8f-5ba848824ef6"
      },
      "execution_count": 28,
      "outputs": [
        {
          "output_type": "execute_result",
          "data": {
            "text/plain": [
              "Half                 11\n",
              "Shots                92\n",
              "SoT                  92\n",
              "Accurate passes      92\n",
              "Inaccurate passes    92\n",
              "Passes               92\n",
              "Start_minutes        10\n",
              "dtype: int64"
            ]
          },
          "metadata": {},
          "execution_count": 28
        }
      ]
    },
    {
      "cell_type": "markdown",
      "source": [
        ":These above columns have got every less number of missing values. if it was in train i would have used dropna. Since its in test lets see wha t best we can do with the data."
      ],
      "metadata": {
        "id": "HhhspBN_UMnY"
      }
    },
    {
      "cell_type": "code",
      "source": [
        "sns.distplot(ltrain['Shots'])"
      ],
      "metadata": {
        "colab": {
          "base_uri": "https://localhost:8080/",
          "height": 351
        },
        "id": "l9PxZunninRM",
        "outputId": "03f7e76f-2d90-4ea9-cffc-47cbb431800b"
      },
      "execution_count": null,
      "outputs": [
        {
          "output_type": "stream",
          "name": "stderr",
          "text": [
            "/usr/local/lib/python3.7/dist-packages/seaborn/distributions.py:2619: FutureWarning: `distplot` is a deprecated function and will be removed in a future version. Please adapt your code to use either `displot` (a figure-level function with similar flexibility) or `histplot` (an axes-level function for histograms).\n",
            "  warnings.warn(msg, FutureWarning)\n"
          ]
        },
        {
          "output_type": "execute_result",
          "data": {
            "text/plain": [
              "<matplotlib.axes._subplots.AxesSubplot at 0x7f4b8d751450>"
            ]
          },
          "metadata": {},
          "execution_count": 147
        },
        {
          "output_type": "display_data",
          "data": {
            "text/plain": [
              "<Figure size 432x288 with 1 Axes>"
            ],
            "image/png": "[encoded data removed]"
          },
          "metadata": {
            "needs_background": "light"
          }
        }
      ]
    },
    {
      "cell_type": "code",
      "source": [
        "print(len(merge_test['Game_ID'].unique()))\n",
        "print(len(ltest['Game_ID'].unique()))"
      ],
      "metadata": {
        "colab": {
          "base_uri": "https://localhost:8080/"
        },
        "id": "phP6kWtegx89",
        "outputId": "c5b28320-8764-4840-c2f9-3166815b1d88"
      },
      "execution_count": 29,
      "outputs": [
        {
          "output_type": "stream",
          "name": "stdout",
          "text": [
            "234\n",
            "234\n"
          ]
        }
      ]
    },
    {
      "cell_type": "code",
      "source": [
        "print(ltrain.shape)\n",
        "print(ltest.shape)"
      ],
      "metadata": {
        "colab": {
          "base_uri": "https://localhost:8080/"
        },
        "id": "384oQj49T2mG",
        "outputId": "94bf82bb-8093-4b98-b20e-0c2ef2260de8"
      },
      "execution_count": 30,
      "outputs": [
        {
          "output_type": "stream",
          "name": "stdout",
          "text": [
            "(1567834, 25)\n",
            "(780234, 21)\n"
          ]
        }
      ]
    },
    {
      "cell_type": "code",
      "source": [
        "ltest.Half.unique()"
      ],
      "metadata": {
        "colab": {
          "base_uri": "https://localhost:8080/"
        },
        "id": "a-M7YltLl6M7",
        "outputId": "b6dbbc8c-453c-4592-e2d5-8927bde1fda9"
      },
      "execution_count": null,
      "outputs": [
        {
          "output_type": "execute_result",
          "data": {
            "text/plain": [
              "array(['1st half', '2nd half', None], dtype=object)"
            ]
          },
          "metadata": {},
          "execution_count": 168
        }
      ]
    },
    {
      "cell_type": "code",
      "source": [
        "#ltest.dropna(inplace=True)"
      ],
      "metadata": {
        "id": "hJC3bj6ET2oF"
      },
      "execution_count": null,
      "outputs": []
    },
    {
      "cell_type": "code",
      "source": [
        "missing_data =missing_value_cnt_percent(ltest)\n",
        "mcols= missing_data[missing_data['Percent']>0].Colum_names.to_list()\n",
        "print(mcols)"
      ],
      "metadata": {
        "colab": {
          "base_uri": "https://localhost:8080/"
        },
        "id": "EBpYfu41jh6B",
        "outputId": "05b17643-c918-4d4f-e29f-1b96d6a8f387"
      },
      "execution_count": 31,
      "outputs": [
        {
          "output_type": "stream",
          "name": "stdout",
          "text": [
            "['Passes', 'Inaccurate passes', 'Accurate passes', 'SoT', 'Shots', 'Half', 'Start_minutes']\n"
          ]
        }
      ]
    },
    {
      "cell_type": "code",
      "source": [
        "object_mcols=[]\n",
        "for i in mcols:\n",
        "  if ltest[i].dtypes =='O':\n",
        "    object_mcols.append(i)\n",
        "print(object_mcols)"
      ],
      "metadata": {
        "colab": {
          "base_uri": "https://localhost:8080/"
        },
        "id": "mJypDmz4lBwV",
        "outputId": "6d5ee640-1179-43ff-b4eb-37e198bca0fc"
      },
      "execution_count": 32,
      "outputs": [
        {
          "output_type": "stream",
          "name": "stdout",
          "text": [
            "['Half']\n"
          ]
        }
      ]
    },
    {
      "cell_type": "code",
      "source": [
        "num_mcols=[]\n",
        "for i in mcols:\n",
        "  if ltest[i].dtypes !='O':\n",
        "    num_mcols.append(i)\n",
        "print(num_mcols)"
      ],
      "metadata": {
        "colab": {
          "base_uri": "https://localhost:8080/"
        },
        "id": "NPlWHW-4lRng",
        "outputId": "8b841865-fd30-45bc-da18-532e2aabb64b"
      },
      "execution_count": 33,
      "outputs": [
        {
          "output_type": "stream",
          "name": "stdout",
          "text": [
            "['Passes', 'Inaccurate passes', 'Accurate passes', 'SoT', 'Shots', 'Start_minutes']\n"
          ]
        }
      ]
    },
    {
      "cell_type": "code",
      "source": [
        "for i in object_mcols:\n",
        "  print(i)\n",
        "  ltest[i]=ltest[i].fillna(ltest[i].mode()[0])#filling my mode  "
      ],
      "metadata": {
        "colab": {
          "base_uri": "https://localhost:8080/"
        },
        "id": "wuMudWlDlX4D",
        "outputId": "d079df67-685c-41c6-e4d2-7940ad880c8a"
      },
      "execution_count": 34,
      "outputs": [
        {
          "output_type": "stream",
          "name": "stdout",
          "text": [
            "Half\n"
          ]
        }
      ]
    },
    {
      "cell_type": "code",
      "source": [
        "for i in num_mcols:\n",
        "  ltest[i]=ltest[i].fillna(ltest[i].mean())#filling my mean  "
      ],
      "metadata": {
        "id": "_O5lygGjkC24"
      },
      "execution_count": 35,
      "outputs": []
    },
    {
      "cell_type": "code",
      "source": [
        "ltest.isnull().sum()[ltest.isnull().sum()>1]"
      ],
      "metadata": {
        "colab": {
          "base_uri": "https://localhost:8080/"
        },
        "id": "29QB_GThkc4q",
        "outputId": "9a13d8a5-255b-40b3-d0d7-fdb4625c4961"
      },
      "execution_count": 36,
      "outputs": [
        {
          "output_type": "execute_result",
          "data": {
            "text/plain": [
              "Series([], dtype: int64)"
            ]
          },
          "metadata": {},
          "execution_count": 36
        }
      ]
    },
    {
      "cell_type": "code",
      "source": [
        "print(ltrain.shape)\n",
        "print(ltest.shape)"
      ],
      "metadata": {
        "colab": {
          "base_uri": "https://localhost:8080/"
        },
        "id": "8mL6K4p1T2qQ",
        "outputId": "add2073f-06fe-49d3-fc6a-b70acac9ed5b"
      },
      "execution_count": 37,
      "outputs": [
        {
          "output_type": "stream",
          "name": "stdout",
          "text": [
            "(1567834, 25)\n",
            "(780234, 21)\n"
          ]
        }
      ]
    },
    {
      "cell_type": "markdown",
      "source": [
        "So missing values in train and test data is treated."
      ],
      "metadata": {
        "id": "fImQ0b3OUci6"
      }
    },
    {
      "cell_type": "code",
      "source": [
        "print(ltrain.columns)\n",
        "print(ltest.columns)"
      ],
      "metadata": {
        "colab": {
          "base_uri": "https://localhost:8080/"
        },
        "id": "KW0ZLAm9T2ua",
        "outputId": "2fe5405b-7f8f-43ef-b39f-ec5374c4d72a"
      },
      "execution_count": null,
      "outputs": [
        {
          "output_type": "stream",
          "name": "stdout",
          "text": [
            "Index(['Date', 'Season_x', 'Match_ID', 'Game_ID', 'Home Team', 'Away Team',\n",
            "       'Score', 'Player_ID', 'id', 'X', 'Y', 'Team', 'Action', 'Half',\n",
            "       'Season_y', 'Opposition_Team', 'Shots', 'SoT', 'Goals_scored',\n",
            "       'Goals_conceded', 'Accurate passes', 'Inaccurate passes', 'Passes',\n",
            "       'Start_minutes', 'End_minutes'],\n",
            "      dtype='object')\n",
            "Index(['Date', 'Season_x', 'Match_ID', 'Game_ID', 'Home Team', 'Away Team',\n",
            "       'Player_ID', 'id', 'X', 'Y', 'Team', 'Half', 'Season_y',\n",
            "       'Opposition_Team', 'Shots', 'SoT', 'Accurate passes',\n",
            "       'Inaccurate passes', 'Passes', 'Start_minutes', 'End_minutes'],\n",
            "      dtype='object')\n"
          ]
        }
      ]
    },
    {
      "cell_type": "markdown",
      "source": [
        "# Object datatypes"
      ],
      "metadata": {
        "id": "ao14J9GxUlMt"
      }
    },
    {
      "cell_type": "code",
      "source": [
        "object_cols=[]\n",
        "for i in ltrain.columns:\n",
        "  if ltrain[i].dtype =='O':\n",
        "    object_cols.append(i)\n",
        "print(object_cols)"
      ],
      "metadata": {
        "colab": {
          "base_uri": "https://localhost:8080/"
        },
        "id": "p00PO3d8UhAl",
        "outputId": "2dd219c8-eaa4-4101-adc3-14c6ea9836a2"
      },
      "execution_count": null,
      "outputs": [
        {
          "output_type": "stream",
          "name": "stdout",
          "text": [
            "['Date', 'Game_ID', 'Home Team', 'Away Team', 'Score', 'Player_ID', 'Team', 'Action', 'Half', 'Opposition_Team']\n"
          ]
        }
      ]
    },
    {
      "cell_type": "code",
      "source": [
        "object_cols=[]\n",
        "for i in ltest.columns:\n",
        "  if ltest[i].dtype =='O':\n",
        "    object_cols.append(i)\n",
        "print(object_cols)"
      ],
      "metadata": {
        "colab": {
          "base_uri": "https://localhost:8080/"
        },
        "id": "o9nLPb7IUwcc",
        "outputId": "45170eda-e4b2-4816-d739-3c78e45f9c60"
      },
      "execution_count": null,
      "outputs": [
        {
          "output_type": "stream",
          "name": "stdout",
          "text": [
            "['Date', 'Game_ID', 'Home Team', 'Away Team', 'Player_ID', 'Team', 'Half', 'Opposition_Team']\n"
          ]
        }
      ]
    },
    {
      "cell_type": "markdown",
      "source": [
        "Same object columns. Ignoring Score(train) and action(test)."
      ],
      "metadata": {
        "id": "kpyQuvM9Uzop"
      }
    },
    {
      "cell_type": "markdown",
      "source": [
        "# Non Object datatypes"
      ],
      "metadata": {
        "id": "027rkAPJUmj4"
      }
    },
    {
      "cell_type": "code",
      "source": [
        "nobject_cols=[]\n",
        "for i in ltrain.columns:\n",
        "  if ltrain[i].dtype !='O':\n",
        "    nobject_cols.append(i)\n",
        "print(nobject_cols)"
      ],
      "metadata": {
        "colab": {
          "base_uri": "https://localhost:8080/"
        },
        "id": "xxqxXXW9UhDW",
        "outputId": "d7d666c3-498d-491f-ea99-cf03bb21b718"
      },
      "execution_count": null,
      "outputs": [
        {
          "output_type": "stream",
          "name": "stdout",
          "text": [
            "['Season_x', 'Match_ID', 'id', 'X', 'Y', 'Season_y', 'Shots', 'SoT', 'Goals_scored', 'Goals_conceded', 'Accurate passes', 'Inaccurate passes', 'Passes', 'Start_minutes', 'End_minutes']\n"
          ]
        }
      ]
    },
    {
      "cell_type": "code",
      "source": [
        "nobject_cols=[]\n",
        "for i in ltest.columns:\n",
        "  if ltest[i].dtype !='O':\n",
        "    nobject_cols.append(i)\n",
        "print(nobject_cols)"
      ],
      "metadata": {
        "colab": {
          "base_uri": "https://localhost:8080/"
        },
        "id": "KTQwUChsUhGE",
        "outputId": "e0a9412e-e822-4852-9285-2773bc881a63"
      },
      "execution_count": null,
      "outputs": [
        {
          "output_type": "stream",
          "name": "stdout",
          "text": [
            "['Season_x', 'Match_ID', 'id', 'X', 'Y', 'Season_y', 'Shots', 'SoT', 'Accurate passes', 'Inaccurate passes', 'Passes', 'Start_minutes', 'End_minutes']\n"
          ]
        }
      ]
    },
    {
      "cell_type": "code",
      "source": [
        "print(ltrain.shape)\n",
        "print(ltest.shape)"
      ],
      "metadata": {
        "colab": {
          "base_uri": "https://localhost:8080/"
        },
        "id": "EKAjJ2uiUhI6",
        "outputId": "0f7d089b-a40e-4333-ff04-5fd78f162858"
      },
      "execution_count": null,
      "outputs": [
        {
          "output_type": "stream",
          "name": "stdout",
          "text": [
            "(1567834, 25)\n",
            "(780234, 21)\n"
          ]
        }
      ]
    },
    {
      "cell_type": "markdown",
      "source": [
        "# Drop ['Goals_scored', 'Goals_conceded'] columns from trian dataset"
      ],
      "metadata": {
        "id": "vCHMOrcWVAFT"
      }
    },
    {
      "cell_type": "markdown",
      "source": [
        "'Goals_scored', 'Goals_conceded' columns are not in test. They are only in train dataset. So lets drop them as well. BEfore dropping lets see their unique values."
      ],
      "metadata": {
        "id": "ib-oogbhVD7X"
      }
    },
    {
      "cell_type": "code",
      "source": [
        "for i in ['Goals_scored', 'Goals_conceded']:\n",
        "    print(i, len(ltrain[i].unique()), ltrain[i].unique())"
      ],
      "metadata": {
        "colab": {
          "base_uri": "https://localhost:8080/"
        },
        "id": "KCXs-NHaUhMG",
        "outputId": "a036ff69-bd67-47eb-e79e-72180f698065"
      },
      "execution_count": 38,
      "outputs": [
        {
          "output_type": "stream",
          "name": "stdout",
          "text": [
            "Goals_scored 2 [0. 1.]\n",
            "Goals_conceded 2 [0. 1.]\n"
          ]
        }
      ]
    },
    {
      "cell_type": "code",
      "source": [
        "ltrain.drop(['Goals_scored', 'Goals_conceded'], axis=1, inplace=True)"
      ],
      "metadata": {
        "id": "L-aKQ5aRUhOk"
      },
      "execution_count": 39,
      "outputs": []
    },
    {
      "cell_type": "code",
      "source": [
        "print(ltrain.shape)\n",
        "print(ltest.shape)"
      ],
      "metadata": {
        "colab": {
          "base_uri": "https://localhost:8080/"
        },
        "id": "xFHBDHSRUhR7",
        "outputId": "76d00258-06db-4eaf-9616-618bfc7a439e"
      },
      "execution_count": 40,
      "outputs": [
        {
          "output_type": "stream",
          "name": "stdout",
          "text": [
            "(1567834, 23)\n",
            "(780234, 21)\n"
          ]
        }
      ]
    },
    {
      "cell_type": "markdown",
      "source": [
        "# Drop Action Column"
      ],
      "metadata": {
        "id": "sFXjuDMoVUtQ"
      }
    },
    {
      "cell_type": "code",
      "source": [
        "print(len(ltrain['Action'].unique()))#action column not in test\n",
        "ltrain['Action']"
      ],
      "metadata": {
        "colab": {
          "base_uri": "https://localhost:8080/"
        },
        "id": "dvPtxDg9UhU5",
        "outputId": "815f4433-ca23-4880-a9ab-7b6b1f07b694"
      },
      "execution_count": 41,
      "outputs": [
        {
          "output_type": "stream",
          "name": "stdout",
          "text": [
            "50\n"
          ]
        },
        {
          "output_type": "execute_result",
          "data": {
            "text/plain": [
              "0           Free-kick attacks\n",
              "1             Accurate passes\n",
              "2           Free-kick attacks\n",
              "3           Inaccurate passes\n",
              "4           Free-kick attacks\n",
              "                  ...        \n",
              "1571572     Opp half pick-ups\n",
              "1571573    Positional attacks\n",
              "1571574     Inaccurate passes\n",
              "1571575    Positional attacks\n",
              "1571576         Interceptions\n",
              "Name: Action, Length: 1567834, dtype: object"
            ]
          },
          "metadata": {},
          "execution_count": 41
        }
      ]
    },
    {
      "cell_type": "code",
      "source": [
        "ltrain.drop(['Action'], axis=1, inplace=True)"
      ],
      "metadata": {
        "id": "88jsbeNsUhX2"
      },
      "execution_count": 42,
      "outputs": []
    },
    {
      "cell_type": "code",
      "source": [
        "print(ltrain.shape)\n",
        "print(ltest.shape)#label Score will not be in test, we are good to go"
      ],
      "metadata": {
        "colab": {
          "base_uri": "https://localhost:8080/"
        },
        "id": "mu1s9obiUhaQ",
        "outputId": "b2845739-fa39-48fa-8575-3bedb3e925c0"
      },
      "execution_count": 43,
      "outputs": [
        {
          "output_type": "stream",
          "name": "stdout",
          "text": [
            "(1567834, 22)\n",
            "(780234, 21)\n"
          ]
        }
      ]
    },
    {
      "cell_type": "markdown",
      "source": [
        "Dropped those columns in train which are not in test."
      ],
      "metadata": {
        "id": "UhhHD6kLVflF"
      }
    },
    {
      "cell_type": "markdown",
      "source": [
        "# Date Column"
      ],
      "metadata": {
        "id": "Sp1Vr0tQVkqj"
      }
    },
    {
      "cell_type": "code",
      "source": [
        "date_col =['Date']"
      ],
      "metadata": {
        "id": "_zA3Z4e-UhdI"
      },
      "execution_count": 44,
      "outputs": []
    },
    {
      "cell_type": "markdown",
      "source": [
        "# Handle Categorical Fetaures"
      ],
      "metadata": {
        "id": "Zh2GY8e8VnUC"
      }
    },
    {
      "cell_type": "code",
      "source": [
        "categorical_cols=[feature for feature in ltrain.columns if ltrain[feature].dtypes=='O' and feature not in date_col+['Game_ID']+['Score']]\n",
        "print(categorical_cols)"
      ],
      "metadata": {
        "colab": {
          "base_uri": "https://localhost:8080/"
        },
        "id": "bLxgFfbsUhfq",
        "outputId": "4b93acf8-0931-49c9-e2f5-640b132e5edd"
      },
      "execution_count": 45,
      "outputs": [
        {
          "output_type": "stream",
          "name": "stdout",
          "text": [
            "['Home Team', 'Away Team', 'Player_ID', 'Team', 'Half', 'Opposition_Team']\n"
          ]
        }
      ]
    },
    {
      "cell_type": "code",
      "source": [
        "testcategorical_cols=[feature for feature in ltest.columns if ltest[feature].dtypes=='O' and feature not in date_col+['Game_ID']]\n",
        "print(testcategorical_cols)"
      ],
      "metadata": {
        "colab": {
          "base_uri": "https://localhost:8080/"
        },
        "id": "iaYl5Ve8Vuhz",
        "outputId": "cf0396bd-afca-4033-bd8a-7ea4782dc53a"
      },
      "execution_count": 46,
      "outputs": [
        {
          "output_type": "stream",
          "name": "stdout",
          "text": [
            "['Home Team', 'Away Team', 'Player_ID', 'Team', 'Half', 'Opposition_Team']\n"
          ]
        }
      ]
    },
    {
      "cell_type": "markdown",
      "source": [
        "The categorical columns are identical in train and test. Lets see their unique categories list."
      ],
      "metadata": {
        "id": "klboBMQiVxBW"
      }
    },
    {
      "cell_type": "code",
      "source": [
        "for feature in categorical_cols:\n",
        "    print('The feature is {} and number of categories are {}'.format(feature,len(ltrain[feature].unique())))"
      ],
      "metadata": {
        "colab": {
          "base_uri": "https://localhost:8080/"
        },
        "id": "4haWZ3u_Vukq",
        "outputId": "35de848a-b56f-4043-ec64-9ac22ccb22bc"
      },
      "execution_count": 47,
      "outputs": [
        {
          "output_type": "stream",
          "name": "stdout",
          "text": [
            "The feature is Home Team and number of categories are 19\n",
            "The feature is Away Team and number of categories are 19\n",
            "The feature is Player_ID and number of categories are 650\n",
            "The feature is Team and number of categories are 19\n",
            "The feature is Half and number of categories are 2\n",
            "The feature is Opposition_Team and number of categories are 19\n"
          ]
        }
      ]
    },
    {
      "cell_type": "code",
      "source": [
        "for feature in testcategorical_cols:\n",
        "    print('The feature is {} and number of categories are {}'.format(feature,len(ltest[feature].unique())))"
      ],
      "metadata": {
        "colab": {
          "base_uri": "https://localhost:8080/"
        },
        "id": "XTBoGoiZVune",
        "outputId": "48b07164-c34c-4e30-f001-73f98c6152bf"
      },
      "execution_count": 48,
      "outputs": [
        {
          "output_type": "stream",
          "name": "stdout",
          "text": [
            "The feature is Home Team and number of categories are 16\n",
            "The feature is Away Team and number of categories are 16\n",
            "The feature is Player_ID and number of categories are 528\n",
            "The feature is Team and number of categories are 16\n",
            "The feature is Half and number of categories are 2\n",
            "The feature is Opposition_Team and number of categories are 16\n"
          ]
        }
      ]
    },
    {
      "cell_type": "markdown",
      "source": [
        "There are 2 unique columns for Half.And 4 columns of 16/19 and other column >500. Lets look into the data and treat them."
      ],
      "metadata": {
        "id": "ZyXMYdLZV3p0"
      }
    },
    {
      "cell_type": "markdown",
      "source": [
        "# One HOt encoding"
      ],
      "metadata": {
        "id": "B3-P2FL4V6hV"
      }
    },
    {
      "cell_type": "markdown",
      "source": [
        "**Half column**"
      ],
      "metadata": {
        "id": "UkJvwwDhWHVj"
      }
    },
    {
      "cell_type": "code",
      "source": [
        "ltrain['Half']=pd.get_dummies(ltrain['Half'],drop_first=1)#if its 0 then 1st half , 1 is 2nd half\n",
        "ltest['Half']=pd.get_dummies(ltest['Half'],drop_first=1)#if its 0 then 1st half , 1 is 2nd half"
      ],
      "metadata": {
        "id": "kec-WUKoVuqM"
      },
      "execution_count": 49,
      "outputs": []
    },
    {
      "cell_type": "code",
      "source": [
        "print(ltrain['Half'].dtype)#convert this datatype as its unsigned integer\n",
        "ltest['Half'].dtype#convert this datatype as its unsigned integer\n"
      ],
      "metadata": {
        "colab": {
          "base_uri": "https://localhost:8080/"
        },
        "id": "qEioS1KjVus0",
        "outputId": "25b00d28-1653-4b60-a485-36d374ce0f6d"
      },
      "execution_count": null,
      "outputs": [
        {
          "output_type": "stream",
          "name": "stdout",
          "text": [
            "uint8\n"
          ]
        },
        {
          "output_type": "execute_result",
          "data": {
            "text/plain": [
              "dtype('uint8')"
            ]
          },
          "metadata": {},
          "execution_count": 192
        }
      ]
    },
    {
      "cell_type": "markdown",
      "source": [
        "**Team related column names**"
      ],
      "metadata": {
        "id": "NJ89EBJZWL0w"
      }
    },
    {
      "cell_type": "markdown",
      "source": [
        "\n",
        "Team, Home, Away, Opposition team columns have got different categories in train and test dataset. So lets combine the train and test dataset and do the one hot encoding and then delete the duplicate columns."
      ],
      "metadata": {
        "id": "7yM7vb3yWOa5"
      }
    },
    {
      "cell_type": "code",
      "source": [
        "print(ltrain.shape)\n",
        "print(ltest.shape)"
      ],
      "metadata": {
        "colab": {
          "base_uri": "https://localhost:8080/"
        },
        "id": "w1RbvKBMVuvl",
        "outputId": "68b55871-2891-4b1e-f0cc-291860531e18"
      },
      "execution_count": null,
      "outputs": [
        {
          "output_type": "stream",
          "name": "stdout",
          "text": [
            "(1567834, 22)\n",
            "(780234, 21)\n"
          ]
        }
      ]
    },
    {
      "cell_type": "code",
      "source": [
        "combined_train_test=pd.concat([ltrain,ltest],axis=0)#there will be NAN for Scores columns for test\n",
        "combined_train_test.shape #1567834+780234 = 2348068"
      ],
      "metadata": {
        "colab": {
          "base_uri": "https://localhost:8080/"
        },
        "id": "b_aAS56qWTpD",
        "outputId": "95bb16c6-9206-4bac-afe5-4bfb48dc8523"
      },
      "execution_count": 50,
      "outputs": [
        {
          "output_type": "execute_result",
          "data": {
            "text/plain": [
              "(2348068, 22)"
            ]
          },
          "metadata": {},
          "execution_count": 50
        }
      ]
    },
    {
      "cell_type": "code",
      "source": [
        "combined_train_test['Score'].value_counts()# 629820+505769+432245 =1567834(train), rest are NAN"
      ],
      "metadata": {
        "colab": {
          "base_uri": "https://localhost:8080/"
        },
        "id": "ZMCOftIrWTsC",
        "outputId": "0738e8c9-8ae5-4a89-8357-fd0e01eb2059"
      },
      "execution_count": 51,
      "outputs": [
        {
          "output_type": "execute_result",
          "data": {
            "text/plain": [
              "Home Win    629820\n",
              "Draw        505769\n",
              "Away win    432245\n",
              "Name: Score, dtype: int64"
            ]
          },
          "metadata": {},
          "execution_count": 51
        }
      ]
    },
    {
      "cell_type": "code",
      "source": [
        "final_df =combined_train_test.copy()"
      ],
      "metadata": {
        "id": "3gmbVUTCWTwH"
      },
      "execution_count": 52,
      "outputs": []
    },
    {
      "cell_type": "code",
      "source": [
        "def onehot_multcols(multcolumns):\n",
        "    df_final=final_df\n",
        "    i=0\n",
        "    for fields in multcolumns:\n",
        "        \n",
        "        print(fields)\n",
        "        df1=pd.get_dummies(final_df[fields],drop_first=True)\n",
        "        \n",
        "        final_df.drop([fields],axis=1,inplace=True)\n",
        "        if i==0:\n",
        "            df_final=df1.copy()\n",
        "        else:\n",
        "            \n",
        "            df_final=pd.concat([df_final,df1],axis=1)\n",
        "        i=i+1\n",
        "       \n",
        "        \n",
        "    df_final=pd.concat([final_df,df_final],axis=1)\n",
        "        \n",
        "    return df_final"
      ],
      "metadata": {
        "id": "LQ4UiIoMWTz1"
      },
      "execution_count": 53,
      "outputs": []
    },
    {
      "cell_type": "code",
      "source": [
        "team_cols =['Home Team', 'Away Team',  'Team', 'Opposition_Team']\n",
        "final_df=onehot_multcols(team_cols)"
      ],
      "metadata": {
        "colab": {
          "base_uri": "https://localhost:8080/"
        },
        "id": "PvXX-R2gWT2s",
        "outputId": "137201d9-ba05-48cf-e6f1-dfc67bdf3b73"
      },
      "execution_count": 54,
      "outputs": [
        {
          "output_type": "stream",
          "name": "stdout",
          "text": [
            "Home Team\n",
            "Away Team\n",
            "Team\n",
            "Opposition_Team\n"
          ]
        }
      ]
    },
    {
      "cell_type": "code",
      "source": [
        "final_df.shape#102 cols (22)"
      ],
      "metadata": {
        "colab": {
          "base_uri": "https://localhost:8080/"
        },
        "id": "Y9PtPybQWT8V",
        "outputId": "284d28a9-f262-49f7-c419-9df36481038a"
      },
      "execution_count": 55,
      "outputs": [
        {
          "output_type": "execute_result",
          "data": {
            "text/plain": [
              "(2348068, 102)"
            ]
          },
          "metadata": {},
          "execution_count": 55
        }
      ]
    },
    {
      "cell_type": "markdown",
      "source": [
        "# Delete duplicate columns"
      ],
      "metadata": {
        "id": "tcck6uB-WmEH"
      }
    },
    {
      "cell_type": "code",
      "source": [
        "final_df =final_df.loc[:,~final_df.columns.duplicated()]"
      ],
      "metadata": {
        "id": "9-WiSRvPWUG6"
      },
      "execution_count": 56,
      "outputs": []
    },
    {
      "cell_type": "code",
      "source": [
        "final_df.shape#102 cols reduced to 39"
      ],
      "metadata": {
        "colab": {
          "base_uri": "https://localhost:8080/"
        },
        "id": "0H4j5we7WpLx",
        "outputId": "12e8694d-0342-4064-b9f9-256ae53cd1be"
      },
      "execution_count": 57,
      "outputs": [
        {
          "output_type": "execute_result",
          "data": {
            "text/plain": [
              "(2348068, 39)"
            ]
          },
          "metadata": {},
          "execution_count": 57
        }
      ]
    },
    {
      "cell_type": "code",
      "source": [
        "final_df.dtypes"
      ],
      "metadata": {
        "colab": {
          "base_uri": "https://localhost:8080/"
        },
        "id": "42g3sBCoWpO-",
        "outputId": "53c7c833-3cc2-43c7-c6db-8a0e1ba384cb"
      },
      "execution_count": null,
      "outputs": [
        {
          "output_type": "execute_result",
          "data": {
            "text/plain": [
              "Date                  object\n",
              "Season_x               int64\n",
              "Match_ID             float64\n",
              "Game_ID               object\n",
              "Score                 object\n",
              "Player_ID             object\n",
              "id                   float64\n",
              "X                    float64\n",
              "Y                    float64\n",
              "Half                   uint8\n",
              "Season_y               int64\n",
              "Shots                float64\n",
              "SoT                  float64\n",
              "Accurate passes      float64\n",
              "Inaccurate passes    float64\n",
              "Passes               float64\n",
              "Start_minutes        float64\n",
              "End_minutes          float64\n",
              "Antennae               uint8\n",
              "Backward               uint8\n",
              "Butterfly              uint8\n",
              "Cartwheel              uint8\n",
              "Cigar                  uint8\n",
              "Circinus               uint8\n",
              "Coma Pinwheel          uint8\n",
              "Comet                  uint8\n",
              "Cosmos Redshift 7      uint8\n",
              "Eye of Sauron          uint8\n",
              "Fireworks              uint8\n",
              "Malin 1                uint8\n",
              "Medusa Merger          uint8\n",
              "Milky Way              uint8\n",
              "Needle                 uint8\n",
              "Sculptor               uint8\n",
              "Sombrero               uint8\n",
              "Sunflower              uint8\n",
              "Tadpole                uint8\n",
              "Triangulum             uint8\n",
              "Whirlpool              uint8\n",
              "dtype: object"
            ]
          },
          "metadata": {},
          "execution_count": 289
        }
      ]
    },
    {
      "cell_type": "markdown",
      "source": [
        "**Convert unsigned int8 to integer**"
      ],
      "metadata": {
        "id": "iQy2CEwnXuLm"
      }
    },
    {
      "cell_type": "code",
      "source": [
        "final_df.columns[final_df.dtypes=='uint8']"
      ],
      "metadata": {
        "colab": {
          "base_uri": "https://localhost:8080/"
        },
        "id": "3v0anOm-WpSC",
        "outputId": "542749c4-0f9f-4abd-db75-2ab1a2a2c32d"
      },
      "execution_count": 58,
      "outputs": [
        {
          "output_type": "execute_result",
          "data": {
            "text/plain": [
              "Index(['Half', 'Antennae', 'Backward', 'Butterfly', 'Cartwheel', 'Cigar',\n",
              "       'Circinus', 'Coma Pinwheel', 'Comet', 'Cosmos Redshift 7',\n",
              "       'Eye of Sauron', 'Fireworks', 'Malin 1', 'Medusa Merger', 'Milky Way',\n",
              "       'Needle', 'Sculptor', 'Sombrero', 'Sunflower', 'Tadpole', 'Triangulum',\n",
              "       'Whirlpool'],\n",
              "      dtype='object')"
            ]
          },
          "metadata": {},
          "execution_count": 58
        }
      ]
    },
    {
      "cell_type": "code",
      "source": [
        "uint_cols= ['Half', 'Antennae', 'Backward', 'Butterfly', 'Cartwheel', 'Cigar',\n",
        "       'Circinus', 'Coma Pinwheel', 'Comet', 'Cosmos Redshift 7',\n",
        "       'Eye of Sauron', 'Fireworks', 'Malin 1', 'Medusa Merger', 'Milky Way',\n",
        "       'Needle', 'Sculptor', 'Sombrero', 'Sunflower', 'Tadpole', 'Triangulum',\n",
        "       'Whirlpool']"
      ],
      "metadata": {
        "id": "tiCtE4MeWpUp"
      },
      "execution_count": 59,
      "outputs": []
    },
    {
      "cell_type": "code",
      "source": [
        "for i in uint_cols:\n",
        "  final_df[i]=final_df[i].astype(int)\n",
        "print('converted all uint8 columns to integer')"
      ],
      "metadata": {
        "colab": {
          "base_uri": "https://localhost:8080/"
        },
        "id": "_4FKi1jmWpXx",
        "outputId": "de793b40-2d32-41bd-8f64-d075def38558"
      },
      "execution_count": 60,
      "outputs": [
        {
          "output_type": "stream",
          "name": "stdout",
          "text": [
            "converted all uint8 columns to integer\n"
          ]
        }
      ]
    },
    {
      "cell_type": "code",
      "source": [
        "set(final_df.dtypes)"
      ],
      "metadata": {
        "colab": {
          "base_uri": "https://localhost:8080/"
        },
        "id": "Va0_k0JVXkCV",
        "outputId": "f4b90afd-0fc0-427b-c89a-1bceaf2823b4"
      },
      "execution_count": 61,
      "outputs": [
        {
          "output_type": "execute_result",
          "data": {
            "text/plain": [
              "{dtype('int64'), dtype('float64'), dtype('O')}"
            ]
          },
          "metadata": {},
          "execution_count": 61
        }
      ]
    },
    {
      "cell_type": "code",
      "source": [
        "final_df.columns[final_df.dtypes=='uint8']"
      ],
      "metadata": {
        "colab": {
          "base_uri": "https://localhost:8080/"
        },
        "id": "xrJTfJ7jWpas",
        "outputId": "e4238545-afc6-4eaf-da51-3d0fd3fc1e29"
      },
      "execution_count": 62,
      "outputs": [
        {
          "output_type": "execute_result",
          "data": {
            "text/plain": [
              "Index([], dtype='object')"
            ]
          },
          "metadata": {},
          "execution_count": 62
        }
      ]
    },
    {
      "cell_type": "code",
      "source": [
        "final_df.shape#102 cols reduced to 39"
      ],
      "metadata": {
        "colab": {
          "base_uri": "https://localhost:8080/"
        },
        "id": "qYmNJlduXc1u",
        "outputId": "e58f6df4-f274-4467-9929-3e9f0d547971"
      },
      "execution_count": 63,
      "outputs": [
        {
          "output_type": "execute_result",
          "data": {
            "text/plain": [
              "(2348068, 39)"
            ]
          },
          "metadata": {},
          "execution_count": 63
        }
      ]
    },
    {
      "cell_type": "code",
      "source": [
        "final_df.columns[final_df.dtypes=='O']"
      ],
      "metadata": {
        "colab": {
          "base_uri": "https://localhost:8080/"
        },
        "id": "hLZ8p2pnXc5R",
        "outputId": "1873ef00-28e4-4d6d-e978-bfe26da69f42"
      },
      "execution_count": 64,
      "outputs": [
        {
          "output_type": "execute_result",
          "data": {
            "text/plain": [
              "Index(['Date', 'Game_ID', 'Score', 'Player_ID'], dtype='object')"
            ]
          },
          "metadata": {},
          "execution_count": 64
        }
      ]
    },
    {
      "cell_type": "markdown",
      "source": [
        "**drop Player_id and Date column**"
      ],
      "metadata": {
        "id": "B0vEVZHCYBSr"
      }
    },
    {
      "cell_type": "code",
      "source": [
        "final_df.drop(['Date','Player_ID'],axis=1,inplace=True)"
      ],
      "metadata": {
        "id": "fWVWeeXHXc8o"
      },
      "execution_count": 65,
      "outputs": []
    },
    {
      "cell_type": "code",
      "source": [
        "final_df.columns[final_df.dtypes=='O']"
      ],
      "metadata": {
        "colab": {
          "base_uri": "https://localhost:8080/"
        },
        "id": "iGKp809CYSl4",
        "outputId": "a2d2802d-70b1-4d0a-f451-1ac1456d03ca"
      },
      "execution_count": 66,
      "outputs": [
        {
          "output_type": "execute_result",
          "data": {
            "text/plain": [
              "Index(['Game_ID', 'Score'], dtype='object')"
            ]
          },
          "metadata": {},
          "execution_count": 66
        }
      ]
    },
    {
      "cell_type": "markdown",
      "source": [
        "**Seperate the combined train and test sample dataset**"
      ],
      "metadata": {
        "id": "Ov9-7dsvYdlE"
      }
    },
    {
      "cell_type": "code",
      "source": [
        "final_df.head()"
      ],
      "metadata": {
        "colab": {
          "base_uri": "https://localhost:8080/",
          "height": 392
        },
        "id": "uRK-2MtzXdBr",
        "outputId": "5a018236-a620-4990-a7cb-6c0037a0f5b2"
      },
      "execution_count": null,
      "outputs": [
        {
          "output_type": "execute_result",
          "data": {
            "text/plain": [
              "   Season_x  Match_ID      Game_ID     Score   id     X     Y  Half  Season_y  \\\n",
              "0         1       1.0  ID_KAG4KAE9  Away win  1.0  52.5  34.3     0         1   \n",
              "1         1       1.0  ID_KAG4KAE9  Away win  2.0  52.5  34.3     0         1   \n",
              "2         1       1.0  ID_KAG4KAE9  Away win  3.0  39.5  34.2     0         1   \n",
              "3         1       1.0  ID_KAG4KAE9  Away win  4.0  43.3  34.2     0         1   \n",
              "4         1       1.0  ID_KAG4KAE9  Away win  5.0  43.3  34.2     0         1   \n",
              "\n",
              "   Shots  SoT  Accurate passes  Inaccurate passes  Passes  Start_minutes  \\\n",
              "0    0.0  0.0              0.0                0.0     0.0           0.18   \n",
              "1    0.0  0.0              1.0                0.0     1.0           0.18   \n",
              "2    0.0  0.0              0.0                0.0     0.0           0.20   \n",
              "3    0.0  0.0              0.0                1.0     1.0           0.23   \n",
              "4    0.0  0.0              0.0                0.0     0.0           0.23   \n",
              "\n",
              "   End_minutes  Antennae  Backward  Butterfly  Cartwheel  Cigar  Circinus  \\\n",
              "0         0.52         1         0          0          0      0         0   \n",
              "1         0.52         1         0          0          0      0         0   \n",
              "2         0.53         1         0          0          0      0         0   \n",
              "3         0.57         1         0          0          0      0         0   \n",
              "4         0.57         1         0          0          0      0         0   \n",
              "\n",
              "   Coma Pinwheel  Comet  Cosmos Redshift 7  Eye of Sauron  Fireworks  Malin 1  \\\n",
              "0              0      0                  0              0          0        0   \n",
              "1              0      0                  0              0          0        0   \n",
              "2              0      0                  0              0          0        0   \n",
              "3              0      0                  0              0          0        0   \n",
              "4              0      0                  0              0          0        0   \n",
              "\n",
              "   Medusa Merger  Milky Way  Needle  Sculptor  Sombrero  Sunflower  Tadpole  \\\n",
              "0              0          0       0         0         0          0        0   \n",
              "1              0          0       0         0         0          0        0   \n",
              "2              0          0       0         0         0          0        0   \n",
              "3              0          0       0         0         0          0        0   \n",
              "4              0          0       0         0         0          0        0   \n",
              "\n",
              "   Triangulum  Whirlpool  \n",
              "0           0          0  \n",
              "1           0          0  \n",
              "2           0          0  \n",
              "3           0          0  \n",
              "4           0          0  "
            ],
            "text/html": [
              "\n",
              "  <div id=\"df-d2775b44-3caf-47aa-b718-8fa073cbe288\">\n",
              "    <div class=\"colab-df-container\">\n",
              "      <div>\n",
              "<style scoped>\n",
              "    .dataframe tbody tr th:only-of-type {\n",
              "        vertical-align: middle;\n",
              "    }\n",
              "\n",
              "    .dataframe tbody tr th {\n",
              "        vertical-align: top;\n",
              "    }\n",
              "\n",
              "    .dataframe thead th {\n",
              "        text-align: right;\n",
              "    }\n",
              "</style>\n",
              "<table border=\"1\" class=\"dataframe\">\n",
              "  <thead>\n",
              "    <tr style=\"text-align: right;\">\n",
              "      <th></th>\n",
              "      <th>Season_x</th>\n",
              "      <th>Match_ID</th>\n",
              "      <th>Game_ID</th>\n",
              "      <th>Score</th>\n",
              "      <th>id</th>\n",
              "      <th>X</th>\n",
              "      <th>Y</th>\n",
              "      <th>Half</th>\n",
              "      <th>Season_y</th>\n",
              "      <th>Shots</th>\n",
              "      <th>SoT</th>\n",
              "      <th>Accurate passes</th>\n",
              "      <th>Inaccurate passes</th>\n",
              "      <th>Passes</th>\n",
              "      <th>Start_minutes</th>\n",
              "      <th>End_minutes</th>\n",
              "      <th>Antennae</th>\n",
              "      <th>Backward</th>\n",
              "      <th>Butterfly</th>\n",
              "      <th>Cartwheel</th>\n",
              "      <th>Cigar</th>\n",
              "      <th>Circinus</th>\n",
              "      <th>Coma Pinwheel</th>\n",
              "      <th>Comet</th>\n",
              "      <th>Cosmos Redshift 7</th>\n",
              "      <th>Eye of Sauron</th>\n",
              "      <th>Fireworks</th>\n",
              "      <th>Malin 1</th>\n",
              "      <th>Medusa Merger</th>\n",
              "      <th>Milky Way</th>\n",
              "      <th>Needle</th>\n",
              "      <th>Sculptor</th>\n",
              "      <th>Sombrero</th>\n",
              "      <th>Sunflower</th>\n",
              "      <th>Tadpole</th>\n",
              "      <th>Triangulum</th>\n",
              "      <th>Whirlpool</th>\n",
              "    </tr>\n",
              "  </thead>\n",
              "  <tbody>\n",
              "    <tr>\n",
              "      <th>0</th>\n",
              "      <td>1</td>\n",
              "      <td>1.0</td>\n",
              "      <td>ID_KAG4KAE9</td>\n",
              "      <td>Away win</td>\n",
              "      <td>1.0</td>\n",
              "      <td>52.5</td>\n",
              "      <td>34.3</td>\n",
              "      <td>0</td>\n",
              "      <td>1</td>\n",
              "      <td>0.0</td>\n",
              "      <td>0.0</td>\n",
              "      <td>0.0</td>\n",
              "      <td>0.0</td>\n",
              "      <td>0.0</td>\n",
              "      <td>0.18</td>\n",
              "      <td>0.52</td>\n",
              "      <td>1</td>\n",
              "      <td>0</td>\n",
              "      <td>0</td>\n",
              "      <td>0</td>\n",
              "      <td>0</td>\n",
              "      <td>0</td>\n",
              "      <td>0</td>\n",
              "      <td>0</td>\n",
              "      <td>0</td>\n",
              "      <td>0</td>\n",
              "      <td>0</td>\n",
              "      <td>0</td>\n",
              "      <td>0</td>\n",
              "      <td>0</td>\n",
              "      <td>0</td>\n",
              "      <td>0</td>\n",
              "      <td>0</td>\n",
              "      <td>0</td>\n",
              "      <td>0</td>\n",
              "      <td>0</td>\n",
              "      <td>0</td>\n",
              "    </tr>\n",
              "    <tr>\n",
              "      <th>1</th>\n",
              "      <td>1</td>\n",
              "      <td>1.0</td>\n",
              "      <td>ID_KAG4KAE9</td>\n",
              "      <td>Away win</td>\n",
              "      <td>2.0</td>\n",
              "      <td>52.5</td>\n",
              "      <td>34.3</td>\n",
              "      <td>0</td>\n",
              "      <td>1</td>\n",
              "      <td>0.0</td>\n",
              "      <td>0.0</td>\n",
              "      <td>1.0</td>\n",
              "      <td>0.0</td>\n",
              "      <td>1.0</td>\n",
              "      <td>0.18</td>\n",
              "      <td>0.52</td>\n",
              "      <td>1</td>\n",
              "      <td>0</td>\n",
              "      <td>0</td>\n",
              "      <td>0</td>\n",
              "      <td>0</td>\n",
              "      <td>0</td>\n",
              "      <td>0</td>\n",
              "      <td>0</td>\n",
              "      <td>0</td>\n",
              "      <td>0</td>\n",
              "      <td>0</td>\n",
              "      <td>0</td>\n",
              "      <td>0</td>\n",
              "      <td>0</td>\n",
              "      <td>0</td>\n",
              "      <td>0</td>\n",
              "      <td>0</td>\n",
              "      <td>0</td>\n",
              "      <td>0</td>\n",
              "      <td>0</td>\n",
              "      <td>0</td>\n",
              "    </tr>\n",
              "    <tr>\n",
              "      <th>2</th>\n",
              "      <td>1</td>\n",
              "      <td>1.0</td>\n",
              "      <td>ID_KAG4KAE9</td>\n",
              "      <td>Away win</td>\n",
              "      <td>3.0</td>\n",
              "      <td>39.5</td>\n",
              "      <td>34.2</td>\n",
              "      <td>0</td>\n",
              "      <td>1</td>\n",
              "      <td>0.0</td>\n",
              "      <td>0.0</td>\n",
              "      <td>0.0</td>\n",
              "      <td>0.0</td>\n",
              "      <td>0.0</td>\n",
              "      <td>0.20</td>\n",
              "      <td>0.53</td>\n",
              "      <td>1</td>\n",
              "      <td>0</td>\n",
              "      <td>0</td>\n",
              "      <td>0</td>\n",
              "      <td>0</td>\n",
              "      <td>0</td>\n",
              "      <td>0</td>\n",
              "      <td>0</td>\n",
              "      <td>0</td>\n",
              "      <td>0</td>\n",
              "      <td>0</td>\n",
              "      <td>0</td>\n",
              "      <td>0</td>\n",
              "      <td>0</td>\n",
              "      <td>0</td>\n",
              "      <td>0</td>\n",
              "      <td>0</td>\n",
              "      <td>0</td>\n",
              "      <td>0</td>\n",
              "      <td>0</td>\n",
              "      <td>0</td>\n",
              "    </tr>\n",
              "    <tr>\n",
              "      <th>3</th>\n",
              "      <td>1</td>\n",
              "      <td>1.0</td>\n",
              "      <td>ID_KAG4KAE9</td>\n",
              "      <td>Away win</td>\n",
              "      <td>4.0</td>\n",
              "      <td>43.3</td>\n",
              "      <td>34.2</td>\n",
              "      <td>0</td>\n",
              "      <td>1</td>\n",
              "      <td>0.0</td>\n",
              "      <td>0.0</td>\n",
              "      <td>0.0</td>\n",
              "      <td>1.0</td>\n",
              "      <td>1.0</td>\n",
              "      <td>0.23</td>\n",
              "      <td>0.57</td>\n",
              "      <td>1</td>\n",
              "      <td>0</td>\n",
              "      <td>0</td>\n",
              "      <td>0</td>\n",
              "      <td>0</td>\n",
              "      <td>0</td>\n",
              "      <td>0</td>\n",
              "      <td>0</td>\n",
              "      <td>0</td>\n",
              "      <td>0</td>\n",
              "      <td>0</td>\n",
              "      <td>0</td>\n",
              "      <td>0</td>\n",
              "      <td>0</td>\n",
              "      <td>0</td>\n",
              "      <td>0</td>\n",
              "      <td>0</td>\n",
              "      <td>0</td>\n",
              "      <td>0</td>\n",
              "      <td>0</td>\n",
              "      <td>0</td>\n",
              "    </tr>\n",
              "    <tr>\n",
              "      <th>4</th>\n",
              "      <td>1</td>\n",
              "      <td>1.0</td>\n",
              "      <td>ID_KAG4KAE9</td>\n",
              "      <td>Away win</td>\n",
              "      <td>5.0</td>\n",
              "      <td>43.3</td>\n",
              "      <td>34.2</td>\n",
              "      <td>0</td>\n",
              "      <td>1</td>\n",
              "      <td>0.0</td>\n",
              "      <td>0.0</td>\n",
              "      <td>0.0</td>\n",
              "      <td>0.0</td>\n",
              "      <td>0.0</td>\n",
              "      <td>0.23</td>\n",
              "      <td>0.57</td>\n",
              "      <td>1</td>\n",
              "      <td>0</td>\n",
              "      <td>0</td>\n",
              "      <td>0</td>\n",
              "      <td>0</td>\n",
              "      <td>0</td>\n",
              "      <td>0</td>\n",
              "      <td>0</td>\n",
              "      <td>0</td>\n",
              "      <td>0</td>\n",
              "      <td>0</td>\n",
              "      <td>0</td>\n",
              "      <td>0</td>\n",
              "      <td>0</td>\n",
              "      <td>0</td>\n",
              "      <td>0</td>\n",
              "      <td>0</td>\n",
              "      <td>0</td>\n",
              "      <td>0</td>\n",
              "      <td>0</td>\n",
              "      <td>0</td>\n",
              "    </tr>\n",
              "  </tbody>\n",
              "</table>\n",
              "</div>\n",
              "      <button class=\"colab-df-convert\" onclick=\"convertToInteractive('df-d2775b44-3caf-47aa-b718-8fa073cbe288')\"\n",
              "              title=\"Convert this dataframe to an interactive table.\"\n",
              "              style=\"display:none;\">\n",
              "        \n",
              "  <svg xmlns=\"http://www.w3.org/2000/svg\" height=\"24px\"viewBox=\"0 0 24 24\"\n",
              "       width=\"24px\">\n",
              "    <path d=\"M0 0h24v24H0V0z\" fill=\"none\"/>\n",
              "    <path d=\"M18.56 5.44l.94 2.06.94-2.06 2.06-.94-2.06-.94-.94-2.06-.94 2.06-2.06.94zm-11 1L8.5 8.5l.94-2.06 2.06-.94-2.06-.94L8.5 2.5l-.94 2.06-2.06.94zm10 10l.94 2.06.94-2.06 2.06-.94-2.06-.94-.94-2.06-.94 2.06-2.06.94z\"/><path d=\"M17.41 7.96l-1.37-1.37c-.4-.4-.92-.59-1.43-.59-.52 0-1.04.2-1.43.59L10.3 9.45l-7.72 7.72c-.78.78-.78 2.05 0 2.83L4 21.41c.39.39.9.59 1.41.59.51 0 1.02-.2 1.41-.59l7.78-7.78 2.81-2.81c.8-.78.8-2.07 0-2.86zM5.41 20L4 18.59l7.72-7.72 1.47 1.35L5.41 20z\"/>\n",
              "  </svg>\n",
              "      </button>\n",
              "      \n",
              "  <style>\n",
              "    .colab-df-container {\n",
              "      display:flex;\n",
              "      flex-wrap:wrap;\n",
              "      gap: 12px;\n",
              "    }\n",
              "\n",
              "    .colab-df-convert {\n",
              "      background-color: #E8F0FE;\n",
              "      border: none;\n",
              "      border-radius: 50%;\n",
              "      cursor: pointer;\n",
              "      display: none;\n",
              "      fill: #1967D2;\n",
              "      height: 32px;\n",
              "      padding: 0 0 0 0;\n",
              "      width: 32px;\n",
              "    }\n",
              "\n",
              "    .colab-df-convert:hover {\n",
              "      background-color: #E2EBFA;\n",
              "      box-shadow: 0px 1px 2px rgba(60, 64, 67, 0.3), 0px 1px 3px 1px rgba(60, 64, 67, 0.15);\n",
              "      fill: #174EA6;\n",
              "    }\n",
              "\n",
              "    [theme=dark] .colab-df-convert {\n",
              "      background-color: #3B4455;\n",
              "      fill: #D2E3FC;\n",
              "    }\n",
              "\n",
              "    [theme=dark] .colab-df-convert:hover {\n",
              "      background-color: #434B5C;\n",
              "      box-shadow: 0px 1px 3px 1px rgba(0, 0, 0, 0.15);\n",
              "      filter: drop-shadow(0px 1px 2px rgba(0, 0, 0, 0.3));\n",
              "      fill: #FFFFFF;\n",
              "    }\n",
              "  </style>\n",
              "\n",
              "      <script>\n",
              "        const buttonEl =\n",
              "          document.querySelector('#df-d2775b44-3caf-47aa-b718-8fa073cbe288 button.colab-df-convert');\n",
              "        buttonEl.style.display =\n",
              "          google.colab.kernel.accessAllowed ? 'block' : 'none';\n",
              "\n",
              "        async function convertToInteractive(key) {\n",
              "          const element = document.querySelector('#df-d2775b44-3caf-47aa-b718-8fa073cbe288');\n",
              "          const dataTable =\n",
              "            await google.colab.kernel.invokeFunction('convertToInteractive',\n",
              "                                                     [key], {});\n",
              "          if (!dataTable) return;\n",
              "\n",
              "          const docLinkHtml = 'Like what you see? Visit the ' +\n",
              "            '<a target=\"_blank\" href=https://colab.research.google.com/notebooks/data_table.ipynb>data table notebook</a>'\n",
              "            + ' to learn more about interactive tables.';\n",
              "          element.innerHTML = '';\n",
              "          dataTable['output_type'] = 'display_data';\n",
              "          await google.colab.output.renderOutput(dataTable, element);\n",
              "          const docLink = document.createElement('div');\n",
              "          docLink.innerHTML = docLinkHtml;\n",
              "          element.appendChild(docLink);\n",
              "        }\n",
              "      </script>\n",
              "    </div>\n",
              "  </div>\n",
              "  "
            ]
          },
          "metadata": {},
          "execution_count": 216
        }
      ]
    },
    {
      "cell_type": "code",
      "source": [
        "print(ltrain.shape)\n",
        "print(ltest.shape)"
      ],
      "metadata": {
        "colab": {
          "base_uri": "https://localhost:8080/"
        },
        "id": "8yvgpRoGXdFp",
        "outputId": "bb871dd5-97da-4381-e221-410f119da6ce"
      },
      "execution_count": 67,
      "outputs": [
        {
          "output_type": "stream",
          "name": "stdout",
          "text": [
            "(1567834, 22)\n",
            "(780234, 21)\n"
          ]
        }
      ]
    },
    {
      "cell_type": "code",
      "source": [
        "cleaned_train=final_df.iloc[:1567834,:]\n",
        "cleaned_test=final_df.iloc[1567834:,:]"
      ],
      "metadata": {
        "id": "rJrtNjtBYkHv"
      },
      "execution_count": 68,
      "outputs": []
    },
    {
      "cell_type": "code",
      "source": [
        "print(cleaned_train.shape)\n",
        "print(cleaned_test.shape)"
      ],
      "metadata": {
        "colab": {
          "base_uri": "https://localhost:8080/"
        },
        "id": "crzbpRGnYkNr",
        "outputId": "abda4a70-9b68-4815-db1b-8ac4c4900db3"
      },
      "execution_count": 69,
      "outputs": [
        {
          "output_type": "stream",
          "name": "stdout",
          "text": [
            "(1567834, 37)\n",
            "(780234, 37)\n"
          ]
        }
      ]
    },
    {
      "cell_type": "code",
      "source": [
        "cleaned_test['Score'].unique()#all NaN , lets drop that column in test"
      ],
      "metadata": {
        "colab": {
          "base_uri": "https://localhost:8080/"
        },
        "id": "fP1mqMkVYkQc",
        "outputId": "911d8bec-a3b0-4411-81ea-2ce89bf2c0f2"
      },
      "execution_count": 70,
      "outputs": [
        {
          "output_type": "execute_result",
          "data": {
            "text/plain": [
              "array([nan], dtype=object)"
            ]
          },
          "metadata": {},
          "execution_count": 70
        }
      ]
    },
    {
      "cell_type": "code",
      "source": [
        "cleaned_test.drop(['Score'],axis=1,inplace=True)\n",
        "print(cleaned_test.shape)"
      ],
      "metadata": {
        "colab": {
          "base_uri": "https://localhost:8080/"
        },
        "id": "jal7cB0BYkS_",
        "outputId": "3d3fb07a-970d-40b6-9e66-4e2593136b6e"
      },
      "execution_count": 71,
      "outputs": [
        {
          "output_type": "stream",
          "name": "stdout",
          "text": [
            "(780234, 36)\n"
          ]
        },
        {
          "output_type": "stream",
          "name": "stderr",
          "text": [
            "/usr/local/lib/python3.7/dist-packages/pandas/core/frame.py:4913: SettingWithCopyWarning: \n",
            "A value is trying to be set on a copy of a slice from a DataFrame\n",
            "\n",
            "See the caveats in the documentation: https://pandas.pydata.org/pandas-docs/stable/user_guide/indexing.html#returning-a-view-versus-a-copy\n",
            "  errors=errors,\n"
          ]
        }
      ]
    },
    {
      "cell_type": "markdown",
      "source": [
        "**Making Game_ID as index**"
      ],
      "metadata": {
        "id": "4Tdqxp4WZQC-"
      }
    },
    {
      "cell_type": "code",
      "source": [
        "cleaned_train=cleaned_train.set_index(['Game_ID'])\n",
        "cleaned_test=cleaned_test.set_index(['Game_ID'])"
      ],
      "metadata": {
        "id": "WxPFbdEAXdIe"
      },
      "execution_count": 72,
      "outputs": []
    },
    {
      "cell_type": "code",
      "source": [
        "print(cleaned_train.shape)\n",
        "print(cleaned_test.shape)"
      ],
      "metadata": {
        "colab": {
          "base_uri": "https://localhost:8080/"
        },
        "id": "axowdk2DZdDG",
        "outputId": "e83ad966-070b-40d9-e3d1-629e2ccc6a01"
      },
      "execution_count": 73,
      "outputs": [
        {
          "output_type": "stream",
          "name": "stdout",
          "text": [
            "(1567834, 36)\n",
            "(780234, 35)\n"
          ]
        }
      ]
    },
    {
      "cell_type": "code",
      "source": [
        "cleaned_train.head()"
      ],
      "metadata": {
        "colab": {
          "base_uri": "https://localhost:8080/",
          "height": 423
        },
        "id": "9X6t2OElXdLm",
        "outputId": "28bdd47a-7614-4c2c-eda6-2703ec2bb95b"
      },
      "execution_count": null,
      "outputs": [
        {
          "output_type": "execute_result",
          "data": {
            "text/plain": [
              "             Season_x  Match_ID     Score   id     X     Y  Half  Season_y  \\\n",
              "Game_ID                                                                      \n",
              "ID_KAG4KAE9         1       1.0  Away win  1.0  52.5  34.3     0         1   \n",
              "ID_KAG4KAE9         1       1.0  Away win  2.0  52.5  34.3     0         1   \n",
              "ID_KAG4KAE9         1       1.0  Away win  3.0  39.5  34.2     0         1   \n",
              "ID_KAG4KAE9         1       1.0  Away win  4.0  43.3  34.2     0         1   \n",
              "ID_KAG4KAE9         1       1.0  Away win  5.0  43.3  34.2     0         1   \n",
              "\n",
              "             Shots  SoT  Accurate passes  Inaccurate passes  Passes  \\\n",
              "Game_ID                                                               \n",
              "ID_KAG4KAE9    0.0  0.0              0.0                0.0     0.0   \n",
              "ID_KAG4KAE9    0.0  0.0              1.0                0.0     1.0   \n",
              "ID_KAG4KAE9    0.0  0.0              0.0                0.0     0.0   \n",
              "ID_KAG4KAE9    0.0  0.0              0.0                1.0     1.0   \n",
              "ID_KAG4KAE9    0.0  0.0              0.0                0.0     0.0   \n",
              "\n",
              "             Start_minutes  End_minutes  Antennae  Backward  Butterfly  \\\n",
              "Game_ID                                                                  \n",
              "ID_KAG4KAE9           0.18         0.52         1         0          0   \n",
              "ID_KAG4KAE9           0.18         0.52         1         0          0   \n",
              "ID_KAG4KAE9           0.20         0.53         1         0          0   \n",
              "ID_KAG4KAE9           0.23         0.57         1         0          0   \n",
              "ID_KAG4KAE9           0.23         0.57         1         0          0   \n",
              "\n",
              "             Cartwheel  Cigar  Circinus  Coma Pinwheel  Comet  \\\n",
              "Game_ID                                                         \n",
              "ID_KAG4KAE9          0      0         0              0      0   \n",
              "ID_KAG4KAE9          0      0         0              0      0   \n",
              "ID_KAG4KAE9          0      0         0              0      0   \n",
              "ID_KAG4KAE9          0      0         0              0      0   \n",
              "ID_KAG4KAE9          0      0         0              0      0   \n",
              "\n",
              "             Cosmos Redshift 7  Eye of Sauron  Fireworks  Malin 1  \\\n",
              "Game_ID                                                             \n",
              "ID_KAG4KAE9                  0              0          0        0   \n",
              "ID_KAG4KAE9                  0              0          0        0   \n",
              "ID_KAG4KAE9                  0              0          0        0   \n",
              "ID_KAG4KAE9                  0              0          0        0   \n",
              "ID_KAG4KAE9                  0              0          0        0   \n",
              "\n",
              "             Medusa Merger  Milky Way  Needle  Sculptor  Sombrero  Sunflower  \\\n",
              "Game_ID                                                                        \n",
              "ID_KAG4KAE9              0          0       0         0         0          0   \n",
              "ID_KAG4KAE9              0          0       0         0         0          0   \n",
              "ID_KAG4KAE9              0          0       0         0         0          0   \n",
              "ID_KAG4KAE9              0          0       0         0         0          0   \n",
              "ID_KAG4KAE9              0          0       0         0         0          0   \n",
              "\n",
              "             Tadpole  Triangulum  Whirlpool  \n",
              "Game_ID                                      \n",
              "ID_KAG4KAE9        0           0          0  \n",
              "ID_KAG4KAE9        0           0          0  \n",
              "ID_KAG4KAE9        0           0          0  \n",
              "ID_KAG4KAE9        0           0          0  \n",
              "ID_KAG4KAE9        0           0          0  "
            ],
            "text/html": [
              "\n",
              "  <div id=\"df-8f824f83-b2cc-4021-8815-43ac1bcac470\">\n",
              "    <div class=\"colab-df-container\">\n",
              "      <div>\n",
              "<style scoped>\n",
              "    .dataframe tbody tr th:only-of-type {\n",
              "        vertical-align: middle;\n",
              "    }\n",
              "\n",
              "    .dataframe tbody tr th {\n",
              "        vertical-align: top;\n",
              "    }\n",
              "\n",
              "    .dataframe thead th {\n",
              "        text-align: right;\n",
              "    }\n",
              "</style>\n",
              "<table border=\"1\" class=\"dataframe\">\n",
              "  <thead>\n",
              "    <tr style=\"text-align: right;\">\n",
              "      <th></th>\n",
              "      <th>Season_x</th>\n",
              "      <th>Match_ID</th>\n",
              "      <th>Score</th>\n",
              "      <th>id</th>\n",
              "      <th>X</th>\n",
              "      <th>Y</th>\n",
              "      <th>Half</th>\n",
              "      <th>Season_y</th>\n",
              "      <th>Shots</th>\n",
              "      <th>SoT</th>\n",
              "      <th>Accurate passes</th>\n",
              "      <th>Inaccurate passes</th>\n",
              "      <th>Passes</th>\n",
              "      <th>Start_minutes</th>\n",
              "      <th>End_minutes</th>\n",
              "      <th>Antennae</th>\n",
              "      <th>Backward</th>\n",
              "      <th>Butterfly</th>\n",
              "      <th>Cartwheel</th>\n",
              "      <th>Cigar</th>\n",
              "      <th>Circinus</th>\n",
              "      <th>Coma Pinwheel</th>\n",
              "      <th>Comet</th>\n",
              "      <th>Cosmos Redshift 7</th>\n",
              "      <th>Eye of Sauron</th>\n",
              "      <th>Fireworks</th>\n",
              "      <th>Malin 1</th>\n",
              "      <th>Medusa Merger</th>\n",
              "      <th>Milky Way</th>\n",
              "      <th>Needle</th>\n",
              "      <th>Sculptor</th>\n",
              "      <th>Sombrero</th>\n",
              "      <th>Sunflower</th>\n",
              "      <th>Tadpole</th>\n",
              "      <th>Triangulum</th>\n",
              "      <th>Whirlpool</th>\n",
              "    </tr>\n",
              "    <tr>\n",
              "      <th>Game_ID</th>\n",
              "      <th></th>\n",
              "      <th></th>\n",
              "      <th></th>\n",
              "      <th></th>\n",
              "      <th></th>\n",
              "      <th></th>\n",
              "      <th></th>\n",
              "      <th></th>\n",
              "      <th></th>\n",
              "      <th></th>\n",
              "      <th></th>\n",
              "      <th></th>\n",
              "      <th></th>\n",
              "      <th></th>\n",
              "      <th></th>\n",
              "      <th></th>\n",
              "      <th></th>\n",
              "      <th></th>\n",
              "      <th></th>\n",
              "      <th></th>\n",
              "      <th></th>\n",
              "      <th></th>\n",
              "      <th></th>\n",
              "      <th></th>\n",
              "      <th></th>\n",
              "      <th></th>\n",
              "      <th></th>\n",
              "      <th></th>\n",
              "      <th></th>\n",
              "      <th></th>\n",
              "      <th></th>\n",
              "      <th></th>\n",
              "      <th></th>\n",
              "      <th></th>\n",
              "      <th></th>\n",
              "      <th></th>\n",
              "    </tr>\n",
              "  </thead>\n",
              "  <tbody>\n",
              "    <tr>\n",
              "      <th>ID_KAG4KAE9</th>\n",
              "      <td>1</td>\n",
              "      <td>1.0</td>\n",
              "      <td>Away win</td>\n",
              "      <td>1.0</td>\n",
              "      <td>52.5</td>\n",
              "      <td>34.3</td>\n",
              "      <td>0</td>\n",
              "      <td>1</td>\n",
              "      <td>0.0</td>\n",
              "      <td>0.0</td>\n",
              "      <td>0.0</td>\n",
              "      <td>0.0</td>\n",
              "      <td>0.0</td>\n",
              "      <td>0.18</td>\n",
              "      <td>0.52</td>\n",
              "      <td>1</td>\n",
              "      <td>0</td>\n",
              "      <td>0</td>\n",
              "      <td>0</td>\n",
              "      <td>0</td>\n",
              "      <td>0</td>\n",
              "      <td>0</td>\n",
              "      <td>0</td>\n",
              "      <td>0</td>\n",
              "      <td>0</td>\n",
              "      <td>0</td>\n",
              "      <td>0</td>\n",
              "      <td>0</td>\n",
              "      <td>0</td>\n",
              "      <td>0</td>\n",
              "      <td>0</td>\n",
              "      <td>0</td>\n",
              "      <td>0</td>\n",
              "      <td>0</td>\n",
              "      <td>0</td>\n",
              "      <td>0</td>\n",
              "    </tr>\n",
              "    <tr>\n",
              "      <th>ID_KAG4KAE9</th>\n",
              "      <td>1</td>\n",
              "      <td>1.0</td>\n",
              "      <td>Away win</td>\n",
              "      <td>2.0</td>\n",
              "      <td>52.5</td>\n",
              "      <td>34.3</td>\n",
              "      <td>0</td>\n",
              "      <td>1</td>\n",
              "      <td>0.0</td>\n",
              "      <td>0.0</td>\n",
              "      <td>1.0</td>\n",
              "      <td>0.0</td>\n",
              "      <td>1.0</td>\n",
              "      <td>0.18</td>\n",
              "      <td>0.52</td>\n",
              "      <td>1</td>\n",
              "      <td>0</td>\n",
              "      <td>0</td>\n",
              "      <td>0</td>\n",
              "      <td>0</td>\n",
              "      <td>0</td>\n",
              "      <td>0</td>\n",
              "      <td>0</td>\n",
              "      <td>0</td>\n",
              "      <td>0</td>\n",
              "      <td>0</td>\n",
              "      <td>0</td>\n",
              "      <td>0</td>\n",
              "      <td>0</td>\n",
              "      <td>0</td>\n",
              "      <td>0</td>\n",
              "      <td>0</td>\n",
              "      <td>0</td>\n",
              "      <td>0</td>\n",
              "      <td>0</td>\n",
              "      <td>0</td>\n",
              "    </tr>\n",
              "    <tr>\n",
              "      <th>ID_KAG4KAE9</th>\n",
              "      <td>1</td>\n",
              "      <td>1.0</td>\n",
              "      <td>Away win</td>\n",
              "      <td>3.0</td>\n",
              "      <td>39.5</td>\n",
              "      <td>34.2</td>\n",
              "      <td>0</td>\n",
              "      <td>1</td>\n",
              "      <td>0.0</td>\n",
              "      <td>0.0</td>\n",
              "      <td>0.0</td>\n",
              "      <td>0.0</td>\n",
              "      <td>0.0</td>\n",
              "      <td>0.20</td>\n",
              "      <td>0.53</td>\n",
              "      <td>1</td>\n",
              "      <td>0</td>\n",
              "      <td>0</td>\n",
              "      <td>0</td>\n",
              "      <td>0</td>\n",
              "      <td>0</td>\n",
              "      <td>0</td>\n",
              "      <td>0</td>\n",
              "      <td>0</td>\n",
              "      <td>0</td>\n",
              "      <td>0</td>\n",
              "      <td>0</td>\n",
              "      <td>0</td>\n",
              "      <td>0</td>\n",
              "      <td>0</td>\n",
              "      <td>0</td>\n",
              "      <td>0</td>\n",
              "      <td>0</td>\n",
              "      <td>0</td>\n",
              "      <td>0</td>\n",
              "      <td>0</td>\n",
              "    </tr>\n",
              "    <tr>\n",
              "      <th>ID_KAG4KAE9</th>\n",
              "      <td>1</td>\n",
              "      <td>1.0</td>\n",
              "      <td>Away win</td>\n",
              "      <td>4.0</td>\n",
              "      <td>43.3</td>\n",
              "      <td>34.2</td>\n",
              "      <td>0</td>\n",
              "      <td>1</td>\n",
              "      <td>0.0</td>\n",
              "      <td>0.0</td>\n",
              "      <td>0.0</td>\n",
              "      <td>1.0</td>\n",
              "      <td>1.0</td>\n",
              "      <td>0.23</td>\n",
              "      <td>0.57</td>\n",
              "      <td>1</td>\n",
              "      <td>0</td>\n",
              "      <td>0</td>\n",
              "      <td>0</td>\n",
              "      <td>0</td>\n",
              "      <td>0</td>\n",
              "      <td>0</td>\n",
              "      <td>0</td>\n",
              "      <td>0</td>\n",
              "      <td>0</td>\n",
              "      <td>0</td>\n",
              "      <td>0</td>\n",
              "      <td>0</td>\n",
              "      <td>0</td>\n",
              "      <td>0</td>\n",
              "      <td>0</td>\n",
              "      <td>0</td>\n",
              "      <td>0</td>\n",
              "      <td>0</td>\n",
              "      <td>0</td>\n",
              "      <td>0</td>\n",
              "    </tr>\n",
              "    <tr>\n",
              "      <th>ID_KAG4KAE9</th>\n",
              "      <td>1</td>\n",
              "      <td>1.0</td>\n",
              "      <td>Away win</td>\n",
              "      <td>5.0</td>\n",
              "      <td>43.3</td>\n",
              "      <td>34.2</td>\n",
              "      <td>0</td>\n",
              "      <td>1</td>\n",
              "      <td>0.0</td>\n",
              "      <td>0.0</td>\n",
              "      <td>0.0</td>\n",
              "      <td>0.0</td>\n",
              "      <td>0.0</td>\n",
              "      <td>0.23</td>\n",
              "      <td>0.57</td>\n",
              "      <td>1</td>\n",
              "      <td>0</td>\n",
              "      <td>0</td>\n",
              "      <td>0</td>\n",
              "      <td>0</td>\n",
              "      <td>0</td>\n",
              "      <td>0</td>\n",
              "      <td>0</td>\n",
              "      <td>0</td>\n",
              "      <td>0</td>\n",
              "      <td>0</td>\n",
              "      <td>0</td>\n",
              "      <td>0</td>\n",
              "      <td>0</td>\n",
              "      <td>0</td>\n",
              "      <td>0</td>\n",
              "      <td>0</td>\n",
              "      <td>0</td>\n",
              "      <td>0</td>\n",
              "      <td>0</td>\n",
              "      <td>0</td>\n",
              "    </tr>\n",
              "  </tbody>\n",
              "</table>\n",
              "</div>\n",
              "      <button class=\"colab-df-convert\" onclick=\"convertToInteractive('df-8f824f83-b2cc-4021-8815-43ac1bcac470')\"\n",
              "              title=\"Convert this dataframe to an interactive table.\"\n",
              "              style=\"display:none;\">\n",
              "        \n",
              "  <svg xmlns=\"http://www.w3.org/2000/svg\" height=\"24px\"viewBox=\"0 0 24 24\"\n",
              "       width=\"24px\">\n",
              "    <path d=\"M0 0h24v24H0V0z\" fill=\"none\"/>\n",
              "    <path d=\"M18.56 5.44l.94 2.06.94-2.06 2.06-.94-2.06-.94-.94-2.06-.94 2.06-2.06.94zm-11 1L8.5 8.5l.94-2.06 2.06-.94-2.06-.94L8.5 2.5l-.94 2.06-2.06.94zm10 10l.94 2.06.94-2.06 2.06-.94-2.06-.94-.94-2.06-.94 2.06-2.06.94z\"/><path d=\"M17.41 7.96l-1.37-1.37c-.4-.4-.92-.59-1.43-.59-.52 0-1.04.2-1.43.59L10.3 9.45l-7.72 7.72c-.78.78-.78 2.05 0 2.83L4 21.41c.39.39.9.59 1.41.59.51 0 1.02-.2 1.41-.59l7.78-7.78 2.81-2.81c.8-.78.8-2.07 0-2.86zM5.41 20L4 18.59l7.72-7.72 1.47 1.35L5.41 20z\"/>\n",
              "  </svg>\n",
              "      </button>\n",
              "      \n",
              "  <style>\n",
              "    .colab-df-container {\n",
              "      display:flex;\n",
              "      flex-wrap:wrap;\n",
              "      gap: 12px;\n",
              "    }\n",
              "\n",
              "    .colab-df-convert {\n",
              "      background-color: #E8F0FE;\n",
              "      border: none;\n",
              "      border-radius: 50%;\n",
              "      cursor: pointer;\n",
              "      display: none;\n",
              "      fill: #1967D2;\n",
              "      height: 32px;\n",
              "      padding: 0 0 0 0;\n",
              "      width: 32px;\n",
              "    }\n",
              "\n",
              "    .colab-df-convert:hover {\n",
              "      background-color: #E2EBFA;\n",
              "      box-shadow: 0px 1px 2px rgba(60, 64, 67, 0.3), 0px 1px 3px 1px rgba(60, 64, 67, 0.15);\n",
              "      fill: #174EA6;\n",
              "    }\n",
              "\n",
              "    [theme=dark] .colab-df-convert {\n",
              "      background-color: #3B4455;\n",
              "      fill: #D2E3FC;\n",
              "    }\n",
              "\n",
              "    [theme=dark] .colab-df-convert:hover {\n",
              "      background-color: #434B5C;\n",
              "      box-shadow: 0px 1px 3px 1px rgba(0, 0, 0, 0.15);\n",
              "      filter: drop-shadow(0px 1px 2px rgba(0, 0, 0, 0.3));\n",
              "      fill: #FFFFFF;\n",
              "    }\n",
              "  </style>\n",
              "\n",
              "      <script>\n",
              "        const buttonEl =\n",
              "          document.querySelector('#df-8f824f83-b2cc-4021-8815-43ac1bcac470 button.colab-df-convert');\n",
              "        buttonEl.style.display =\n",
              "          google.colab.kernel.accessAllowed ? 'block' : 'none';\n",
              "\n",
              "        async function convertToInteractive(key) {\n",
              "          const element = document.querySelector('#df-8f824f83-b2cc-4021-8815-43ac1bcac470');\n",
              "          const dataTable =\n",
              "            await google.colab.kernel.invokeFunction('convertToInteractive',\n",
              "                                                     [key], {});\n",
              "          if (!dataTable) return;\n",
              "\n",
              "          const docLinkHtml = 'Like what you see? Visit the ' +\n",
              "            '<a target=\"_blank\" href=https://colab.research.google.com/notebooks/data_table.ipynb>data table notebook</a>'\n",
              "            + ' to learn more about interactive tables.';\n",
              "          element.innerHTML = '';\n",
              "          dataTable['output_type'] = 'display_data';\n",
              "          await google.colab.output.renderOutput(dataTable, element);\n",
              "          const docLink = document.createElement('div');\n",
              "          docLink.innerHTML = docLinkHtml;\n",
              "          element.appendChild(docLink);\n",
              "        }\n",
              "      </script>\n",
              "    </div>\n",
              "  </div>\n",
              "  "
            ]
          },
          "metadata": {},
          "execution_count": 224
        }
      ]
    },
    {
      "cell_type": "code",
      "source": [
        "cleaned_test.head()"
      ],
      "metadata": {
        "colab": {
          "base_uri": "https://localhost:8080/",
          "height": 336
        },
        "id": "Nd_0WTmYZW3j",
        "outputId": "da0f4543-aaa7-46c3-ebcf-c123a856c14f"
      },
      "execution_count": null,
      "outputs": [
        {
          "output_type": "execute_result",
          "data": {
            "text/plain": [
              "             Season_x  Match_ID   id     X     Y  Half  Season_y  Shots  SoT  \\\n",
              "Game_ID                                                                        \n",
              "ID_8518U587         3     102.0  1.0  52.0  33.9     0         3    0.0  0.0   \n",
              "ID_8518U587         3     102.0  2.0  52.0  33.9     0         3    0.0  0.0   \n",
              "ID_8518U587         3     102.0  3.0  35.0  31.9     0         3    0.0  0.0   \n",
              "ID_8518U587         3     102.0  4.0  35.0  31.9     0         3    0.0  0.0   \n",
              "ID_8518U587         3     102.0  5.0  25.9   5.6     0         3    0.0  0.0   \n",
              "\n",
              "             Accurate passes  Inaccurate passes  Passes  Start_minutes  \\\n",
              "Game_ID                                                                  \n",
              "ID_8518U587              0.0                0.0     0.0           0.03   \n",
              "ID_8518U587              1.0                0.0     1.0           0.03   \n",
              "ID_8518U587              0.0                0.0     0.0           0.07   \n",
              "ID_8518U587              1.0                0.0     1.0           0.07   \n",
              "ID_8518U587              0.0                0.0     0.0           0.12   \n",
              "\n",
              "             End_minutes  Antennae  Backward  Butterfly  Cartwheel  Cigar  \\\n",
              "Game_ID                                                                     \n",
              "ID_8518U587         0.37         1         0          0          0      0   \n",
              "ID_8518U587         0.37         1         0          0          0      0   \n",
              "ID_8518U587         0.40         1         0          0          0      0   \n",
              "ID_8518U587         0.40         1         0          0          0      0   \n",
              "ID_8518U587         0.45         1         0          0          0      0   \n",
              "\n",
              "             Circinus  Coma Pinwheel  Comet  Cosmos Redshift 7  Eye of Sauron  \\\n",
              "Game_ID                                                                         \n",
              "ID_8518U587         0              0      0                  0              0   \n",
              "ID_8518U587         0              0      0                  0              0   \n",
              "ID_8518U587         0              0      0                  0              0   \n",
              "ID_8518U587         0              0      0                  0              0   \n",
              "ID_8518U587         0              0      0                  0              0   \n",
              "\n",
              "             Fireworks  Malin 1  Medusa Merger  Milky Way  Needle  Sculptor  \\\n",
              "Game_ID                                                                       \n",
              "ID_8518U587          0        0              0          0       0         0   \n",
              "ID_8518U587          0        0              0          0       0         0   \n",
              "ID_8518U587          0        0              0          0       0         0   \n",
              "ID_8518U587          0        0              0          0       0         0   \n",
              "ID_8518U587          0        0              0          0       0         0   \n",
              "\n",
              "             Sombrero  Sunflower  Tadpole  Triangulum  Whirlpool  \n",
              "Game_ID                                                           \n",
              "ID_8518U587         0          0        0           0          0  \n",
              "ID_8518U587         0          0        0           0          0  \n",
              "ID_8518U587         0          0        0           0          0  \n",
              "ID_8518U587         0          0        0           0          0  \n",
              "ID_8518U587         0          0        0           0          0  "
            ],
            "text/html": [
              "\n",
              "  <div id=\"df-f2b12948-9d6e-4c2d-88d1-4e2977e04012\">\n",
              "    <div class=\"colab-df-container\">\n",
              "      <div>\n",
              "<style scoped>\n",
              "    .dataframe tbody tr th:only-of-type {\n",
              "        vertical-align: middle;\n",
              "    }\n",
              "\n",
              "    .dataframe tbody tr th {\n",
              "        vertical-align: top;\n",
              "    }\n",
              "\n",
              "    .dataframe thead th {\n",
              "        text-align: right;\n",
              "    }\n",
              "</style>\n",
              "<table border=\"1\" class=\"dataframe\">\n",
              "  <thead>\n",
              "    <tr style=\"text-align: right;\">\n",
              "      <th></th>\n",
              "      <th>Season_x</th>\n",
              "      <th>Match_ID</th>\n",
              "      <th>id</th>\n",
              "      <th>X</th>\n",
              "      <th>Y</th>\n",
              "      <th>Half</th>\n",
              "      <th>Season_y</th>\n",
              "      <th>Shots</th>\n",
              "      <th>SoT</th>\n",
              "      <th>Accurate passes</th>\n",
              "      <th>Inaccurate passes</th>\n",
              "      <th>Passes</th>\n",
              "      <th>Start_minutes</th>\n",
              "      <th>End_minutes</th>\n",
              "      <th>Antennae</th>\n",
              "      <th>Backward</th>\n",
              "      <th>Butterfly</th>\n",
              "      <th>Cartwheel</th>\n",
              "      <th>Cigar</th>\n",
              "      <th>Circinus</th>\n",
              "      <th>Coma Pinwheel</th>\n",
              "      <th>Comet</th>\n",
              "      <th>Cosmos Redshift 7</th>\n",
              "      <th>Eye of Sauron</th>\n",
              "      <th>Fireworks</th>\n",
              "      <th>Malin 1</th>\n",
              "      <th>Medusa Merger</th>\n",
              "      <th>Milky Way</th>\n",
              "      <th>Needle</th>\n",
              "      <th>Sculptor</th>\n",
              "      <th>Sombrero</th>\n",
              "      <th>Sunflower</th>\n",
              "      <th>Tadpole</th>\n",
              "      <th>Triangulum</th>\n",
              "      <th>Whirlpool</th>\n",
              "    </tr>\n",
              "    <tr>\n",
              "      <th>Game_ID</th>\n",
              "      <th></th>\n",
              "      <th></th>\n",
              "      <th></th>\n",
              "      <th></th>\n",
              "      <th></th>\n",
              "      <th></th>\n",
              "      <th></th>\n",
              "      <th></th>\n",
              "      <th></th>\n",
              "      <th></th>\n",
              "      <th></th>\n",
              "      <th></th>\n",
              "      <th></th>\n",
              "      <th></th>\n",
              "      <th></th>\n",
              "      <th></th>\n",
              "      <th></th>\n",
              "      <th></th>\n",
              "      <th></th>\n",
              "      <th></th>\n",
              "      <th></th>\n",
              "      <th></th>\n",
              "      <th></th>\n",
              "      <th></th>\n",
              "      <th></th>\n",
              "      <th></th>\n",
              "      <th></th>\n",
              "      <th></th>\n",
              "      <th></th>\n",
              "      <th></th>\n",
              "      <th></th>\n",
              "      <th></th>\n",
              "      <th></th>\n",
              "      <th></th>\n",
              "      <th></th>\n",
              "    </tr>\n",
              "  </thead>\n",
              "  <tbody>\n",
              "    <tr>\n",
              "      <th>ID_8518U587</th>\n",
              "      <td>3</td>\n",
              "      <td>102.0</td>\n",
              "      <td>1.0</td>\n",
              "      <td>52.0</td>\n",
              "      <td>33.9</td>\n",
              "      <td>0</td>\n",
              "      <td>3</td>\n",
              "      <td>0.0</td>\n",
              "      <td>0.0</td>\n",
              "      <td>0.0</td>\n",
              "      <td>0.0</td>\n",
              "      <td>0.0</td>\n",
              "      <td>0.03</td>\n",
              "      <td>0.37</td>\n",
              "      <td>1</td>\n",
              "      <td>0</td>\n",
              "      <td>0</td>\n",
              "      <td>0</td>\n",
              "      <td>0</td>\n",
              "      <td>0</td>\n",
              "      <td>0</td>\n",
              "      <td>0</td>\n",
              "      <td>0</td>\n",
              "      <td>0</td>\n",
              "      <td>0</td>\n",
              "      <td>0</td>\n",
              "      <td>0</td>\n",
              "      <td>0</td>\n",
              "      <td>0</td>\n",
              "      <td>0</td>\n",
              "      <td>0</td>\n",
              "      <td>0</td>\n",
              "      <td>0</td>\n",
              "      <td>0</td>\n",
              "      <td>0</td>\n",
              "    </tr>\n",
              "    <tr>\n",
              "      <th>ID_8518U587</th>\n",
              "      <td>3</td>\n",
              "      <td>102.0</td>\n",
              "      <td>2.0</td>\n",
              "      <td>52.0</td>\n",
              "      <td>33.9</td>\n",
              "      <td>0</td>\n",
              "      <td>3</td>\n",
              "      <td>0.0</td>\n",
              "      <td>0.0</td>\n",
              "      <td>1.0</td>\n",
              "      <td>0.0</td>\n",
              "      <td>1.0</td>\n",
              "      <td>0.03</td>\n",
              "      <td>0.37</td>\n",
              "      <td>1</td>\n",
              "      <td>0</td>\n",
              "      <td>0</td>\n",
              "      <td>0</td>\n",
              "      <td>0</td>\n",
              "      <td>0</td>\n",
              "      <td>0</td>\n",
              "      <td>0</td>\n",
              "      <td>0</td>\n",
              "      <td>0</td>\n",
              "      <td>0</td>\n",
              "      <td>0</td>\n",
              "      <td>0</td>\n",
              "      <td>0</td>\n",
              "      <td>0</td>\n",
              "      <td>0</td>\n",
              "      <td>0</td>\n",
              "      <td>0</td>\n",
              "      <td>0</td>\n",
              "      <td>0</td>\n",
              "      <td>0</td>\n",
              "    </tr>\n",
              "    <tr>\n",
              "      <th>ID_8518U587</th>\n",
              "      <td>3</td>\n",
              "      <td>102.0</td>\n",
              "      <td>3.0</td>\n",
              "      <td>35.0</td>\n",
              "      <td>31.9</td>\n",
              "      <td>0</td>\n",
              "      <td>3</td>\n",
              "      <td>0.0</td>\n",
              "      <td>0.0</td>\n",
              "      <td>0.0</td>\n",
              "      <td>0.0</td>\n",
              "      <td>0.0</td>\n",
              "      <td>0.07</td>\n",
              "      <td>0.40</td>\n",
              "      <td>1</td>\n",
              "      <td>0</td>\n",
              "      <td>0</td>\n",
              "      <td>0</td>\n",
              "      <td>0</td>\n",
              "      <td>0</td>\n",
              "      <td>0</td>\n",
              "      <td>0</td>\n",
              "      <td>0</td>\n",
              "      <td>0</td>\n",
              "      <td>0</td>\n",
              "      <td>0</td>\n",
              "      <td>0</td>\n",
              "      <td>0</td>\n",
              "      <td>0</td>\n",
              "      <td>0</td>\n",
              "      <td>0</td>\n",
              "      <td>0</td>\n",
              "      <td>0</td>\n",
              "      <td>0</td>\n",
              "      <td>0</td>\n",
              "    </tr>\n",
              "    <tr>\n",
              "      <th>ID_8518U587</th>\n",
              "      <td>3</td>\n",
              "      <td>102.0</td>\n",
              "      <td>4.0</td>\n",
              "      <td>35.0</td>\n",
              "      <td>31.9</td>\n",
              "      <td>0</td>\n",
              "      <td>3</td>\n",
              "      <td>0.0</td>\n",
              "      <td>0.0</td>\n",
              "      <td>1.0</td>\n",
              "      <td>0.0</td>\n",
              "      <td>1.0</td>\n",
              "      <td>0.07</td>\n",
              "      <td>0.40</td>\n",
              "      <td>1</td>\n",
              "      <td>0</td>\n",
              "      <td>0</td>\n",
              "      <td>0</td>\n",
              "      <td>0</td>\n",
              "      <td>0</td>\n",
              "      <td>0</td>\n",
              "      <td>0</td>\n",
              "      <td>0</td>\n",
              "      <td>0</td>\n",
              "      <td>0</td>\n",
              "      <td>0</td>\n",
              "      <td>0</td>\n",
              "      <td>0</td>\n",
              "      <td>0</td>\n",
              "      <td>0</td>\n",
              "      <td>0</td>\n",
              "      <td>0</td>\n",
              "      <td>0</td>\n",
              "      <td>0</td>\n",
              "      <td>0</td>\n",
              "    </tr>\n",
              "    <tr>\n",
              "      <th>ID_8518U587</th>\n",
              "      <td>3</td>\n",
              "      <td>102.0</td>\n",
              "      <td>5.0</td>\n",
              "      <td>25.9</td>\n",
              "      <td>5.6</td>\n",
              "      <td>0</td>\n",
              "      <td>3</td>\n",
              "      <td>0.0</td>\n",
              "      <td>0.0</td>\n",
              "      <td>0.0</td>\n",
              "      <td>0.0</td>\n",
              "      <td>0.0</td>\n",
              "      <td>0.12</td>\n",
              "      <td>0.45</td>\n",
              "      <td>1</td>\n",
              "      <td>0</td>\n",
              "      <td>0</td>\n",
              "      <td>0</td>\n",
              "      <td>0</td>\n",
              "      <td>0</td>\n",
              "      <td>0</td>\n",
              "      <td>0</td>\n",
              "      <td>0</td>\n",
              "      <td>0</td>\n",
              "      <td>0</td>\n",
              "      <td>0</td>\n",
              "      <td>0</td>\n",
              "      <td>0</td>\n",
              "      <td>0</td>\n",
              "      <td>0</td>\n",
              "      <td>0</td>\n",
              "      <td>0</td>\n",
              "      <td>0</td>\n",
              "      <td>0</td>\n",
              "      <td>0</td>\n",
              "    </tr>\n",
              "  </tbody>\n",
              "</table>\n",
              "</div>\n",
              "      <button class=\"colab-df-convert\" onclick=\"convertToInteractive('df-f2b12948-9d6e-4c2d-88d1-4e2977e04012')\"\n",
              "              title=\"Convert this dataframe to an interactive table.\"\n",
              "              style=\"display:none;\">\n",
              "        \n",
              "  <svg xmlns=\"http://www.w3.org/2000/svg\" height=\"24px\"viewBox=\"0 0 24 24\"\n",
              "       width=\"24px\">\n",
              "    <path d=\"M0 0h24v24H0V0z\" fill=\"none\"/>\n",
              "    <path d=\"M18.56 5.44l.94 2.06.94-2.06 2.06-.94-2.06-.94-.94-2.06-.94 2.06-2.06.94zm-11 1L8.5 8.5l.94-2.06 2.06-.94-2.06-.94L8.5 2.5l-.94 2.06-2.06.94zm10 10l.94 2.06.94-2.06 2.06-.94-2.06-.94-.94-2.06-.94 2.06-2.06.94z\"/><path d=\"M17.41 7.96l-1.37-1.37c-.4-.4-.92-.59-1.43-.59-.52 0-1.04.2-1.43.59L10.3 9.45l-7.72 7.72c-.78.78-.78 2.05 0 2.83L4 21.41c.39.39.9.59 1.41.59.51 0 1.02-.2 1.41-.59l7.78-7.78 2.81-2.81c.8-.78.8-2.07 0-2.86zM5.41 20L4 18.59l7.72-7.72 1.47 1.35L5.41 20z\"/>\n",
              "  </svg>\n",
              "      </button>\n",
              "      \n",
              "  <style>\n",
              "    .colab-df-container {\n",
              "      display:flex;\n",
              "      flex-wrap:wrap;\n",
              "      gap: 12px;\n",
              "    }\n",
              "\n",
              "    .colab-df-convert {\n",
              "      background-color: #E8F0FE;\n",
              "      border: none;\n",
              "      border-radius: 50%;\n",
              "      cursor: pointer;\n",
              "      display: none;\n",
              "      fill: #1967D2;\n",
              "      height: 32px;\n",
              "      padding: 0 0 0 0;\n",
              "      width: 32px;\n",
              "    }\n",
              "\n",
              "    .colab-df-convert:hover {\n",
              "      background-color: #E2EBFA;\n",
              "      box-shadow: 0px 1px 2px rgba(60, 64, 67, 0.3), 0px 1px 3px 1px rgba(60, 64, 67, 0.15);\n",
              "      fill: #174EA6;\n",
              "    }\n",
              "\n",
              "    [theme=dark] .colab-df-convert {\n",
              "      background-color: #3B4455;\n",
              "      fill: #D2E3FC;\n",
              "    }\n",
              "\n",
              "    [theme=dark] .colab-df-convert:hover {\n",
              "      background-color: #434B5C;\n",
              "      box-shadow: 0px 1px 3px 1px rgba(0, 0, 0, 0.15);\n",
              "      filter: drop-shadow(0px 1px 2px rgba(0, 0, 0, 0.3));\n",
              "      fill: #FFFFFF;\n",
              "    }\n",
              "  </style>\n",
              "\n",
              "      <script>\n",
              "        const buttonEl =\n",
              "          document.querySelector('#df-f2b12948-9d6e-4c2d-88d1-4e2977e04012 button.colab-df-convert');\n",
              "        buttonEl.style.display =\n",
              "          google.colab.kernel.accessAllowed ? 'block' : 'none';\n",
              "\n",
              "        async function convertToInteractive(key) {\n",
              "          const element = document.querySelector('#df-f2b12948-9d6e-4c2d-88d1-4e2977e04012');\n",
              "          const dataTable =\n",
              "            await google.colab.kernel.invokeFunction('convertToInteractive',\n",
              "                                                     [key], {});\n",
              "          if (!dataTable) return;\n",
              "\n",
              "          const docLinkHtml = 'Like what you see? Visit the ' +\n",
              "            '<a target=\"_blank\" href=https://colab.research.google.com/notebooks/data_table.ipynb>data table notebook</a>'\n",
              "            + ' to learn more about interactive tables.';\n",
              "          element.innerHTML = '';\n",
              "          dataTable['output_type'] = 'display_data';\n",
              "          await google.colab.output.renderOutput(dataTable, element);\n",
              "          const docLink = document.createElement('div');\n",
              "          docLink.innerHTML = docLinkHtml;\n",
              "          element.appendChild(docLink);\n",
              "        }\n",
              "      </script>\n",
              "    </div>\n",
              "  </div>\n",
              "  "
            ]
          },
          "metadata": {},
          "execution_count": 225
        }
      ]
    },
    {
      "cell_type": "markdown",
      "source": [
        "# Mapping Label column (Score) "
      ],
      "metadata": {
        "id": "KqPjpNf1aQ8a"
      }
    },
    {
      "cell_type": "code",
      "source": [
        "print(set(cleaned_train.dtypes))\n",
        "print(set(cleaned_test.dtypes))"
      ],
      "metadata": {
        "colab": {
          "base_uri": "https://localhost:8080/"
        },
        "id": "GcxtfYVHZW-H",
        "outputId": "dee64139-17df-4e30-cb1e-c7529703fa11"
      },
      "execution_count": 74,
      "outputs": [
        {
          "output_type": "stream",
          "name": "stdout",
          "text": [
            "{dtype('O'), dtype('int64'), dtype('float64')}\n",
            "{dtype('int64'), dtype('float64')}\n"
          ]
        }
      ]
    },
    {
      "cell_type": "code",
      "source": [
        "cleaned_train.columns[cleaned_train.dtypes=='O']"
      ],
      "metadata": {
        "colab": {
          "base_uri": "https://localhost:8080/"
        },
        "id": "cvawu-MBZXCL",
        "outputId": "cc9b1c78-7f35-4550-c4e9-779d5d0bb442"
      },
      "execution_count": 75,
      "outputs": [
        {
          "output_type": "execute_result",
          "data": {
            "text/plain": [
              "Index(['Score'], dtype='object')"
            ]
          },
          "metadata": {},
          "execution_count": 75
        }
      ]
    },
    {
      "cell_type": "code",
      "source": [
        "cleaned_train.Score.unique()"
      ],
      "metadata": {
        "colab": {
          "base_uri": "https://localhost:8080/"
        },
        "id": "LXuXufh5abJi",
        "outputId": "140ac7dc-129f-4a5a-c780-177dbe1609fe"
      },
      "execution_count": null,
      "outputs": [
        {
          "output_type": "execute_result",
          "data": {
            "text/plain": [
              "array(['Away win', 'Draw', 'Home Win'], dtype=object)"
            ]
          },
          "metadata": {},
          "execution_count": 306
        }
      ]
    },
    {
      "cell_type": "code",
      "source": [
        "cleaned_train.Score.value_counts()"
      ],
      "metadata": {
        "colab": {
          "base_uri": "https://localhost:8080/"
        },
        "id": "-um6MbsyanO0",
        "outputId": "ce745f2c-fc26-47cc-a945-b6f4f68c178a"
      },
      "execution_count": 76,
      "outputs": [
        {
          "output_type": "execute_result",
          "data": {
            "text/plain": [
              "Home Win    629820\n",
              "Draw        505769\n",
              "Away win    432245\n",
              "Name: Score, dtype: int64"
            ]
          },
          "metadata": {},
          "execution_count": 76
        }
      ]
    },
    {
      "cell_type": "code",
      "source": [
        "#cleaned_train['Score']=cleaned_train['Score'].map({'Away win':0,'Draw':1, 'Home Win': 2})"
      ],
      "metadata": {
        "id": "Gzq5mSTiaMcS"
      },
      "execution_count": null,
      "outputs": []
    },
    {
      "cell_type": "code",
      "source": [
        "from sklearn.preprocessing import LabelEncoder\n",
        "le=LabelEncoder()\n",
        "cleaned_train['Score'] = le.fit_transform(cleaned_train['Score'])\n",
        "score_mapping = dict(zip(le.classes_, range(len(le.classes_))))"
      ],
      "metadata": {
        "id": "ZBCgpMtHxlD5"
      },
      "execution_count": 77,
      "outputs": []
    },
    {
      "cell_type": "code",
      "source": [
        "cleaned_train.Score.value_counts()"
      ],
      "metadata": {
        "colab": {
          "base_uri": "https://localhost:8080/"
        },
        "id": "60jDnFWBaMet",
        "outputId": "5ad9d347-2074-413b-e21a-8a81089c8ab3"
      },
      "execution_count": 78,
      "outputs": [
        {
          "output_type": "execute_result",
          "data": {
            "text/plain": [
              "2    629820\n",
              "1    505769\n",
              "0    432245\n",
              "Name: Score, dtype: int64"
            ]
          },
          "metadata": {},
          "execution_count": 78
        }
      ]
    },
    {
      "cell_type": "code",
      "source": [
        "set(cleaned_train.dtypes)"
      ],
      "metadata": {
        "colab": {
          "base_uri": "https://localhost:8080/"
        },
        "id": "kDVMHThkonGl",
        "outputId": "387c9a3c-f448-416e-cbbd-57819d7a139d"
      },
      "execution_count": 79,
      "outputs": [
        {
          "output_type": "execute_result",
          "data": {
            "text/plain": [
              "{dtype('int64'), dtype('float64')}"
            ]
          },
          "metadata": {},
          "execution_count": 79
        }
      ]
    },
    {
      "cell_type": "markdown",
      "source": [
        "Mapping is right."
      ],
      "metadata": {
        "id": "z0X0n7XVayjI"
      }
    },
    {
      "cell_type": "markdown",
      "source": [
        "# Split Train, valid, Test Dataset"
      ],
      "metadata": {
        "id": "c9454X3pbEjK"
      }
    },
    {
      "cell_type": "code",
      "source": [
        "def timer(start_time=None):\n",
        "    if not start_time:\n",
        "        start_time = datetime.now()\n",
        "        return start_time\n",
        "    elif start_time:\n",
        "        thour, temp_sec = divmod((datetime.now() - start_time).total_seconds(), 3600)\n",
        "        tmin, tsec = divmod(temp_sec, 60)\n",
        "        print('\\n Time taken: %i hours %i minutes and %s seconds.' % (thour, tmin, round(tsec, 2)))"
      ],
      "metadata": {
        "id": "F1dzNYHB-Ynu"
      },
      "execution_count": 109,
      "outputs": []
    },
    {
      "cell_type": "code",
      "source": [
        "from sklearn.model_selection import train_test_split\n",
        "from sklearn.preprocessing import StandardScaler\n",
        "from xgboost import XGBClassifier\n",
        "from sklearn.metrics import accuracy_score\n",
        "from sklearn.metrics import log_loss, make_scorer\n",
        "from sklearn.metrics import classification_report,confusion_matrix\n",
        "from sklearn.model_selection import RandomizedSearchCV"
      ],
      "metadata": {
        "id": "yTtVqiT5o3xT"
      },
      "execution_count": 112,
      "outputs": []
    },
    {
      "cell_type": "code",
      "source": [
        "print(cleaned_train.shape)\n",
        "print(cleaned_test.shape)"
      ],
      "metadata": {
        "colab": {
          "base_uri": "https://localhost:8080/"
        },
        "id": "XePBI-zIaMh2",
        "outputId": "e00b05c1-3528-4878-a95a-bd5a90b881c7"
      },
      "execution_count": 81,
      "outputs": [
        {
          "output_type": "stream",
          "name": "stdout",
          "text": [
            "(1567834, 36)\n",
            "(780234, 35)\n"
          ]
        }
      ]
    },
    {
      "cell_type": "code",
      "source": [
        "print(len(train['Game_ID'].unique()))\n",
        "print(len(test['Game_ID'].unique()))\n",
        "print(len(cleaned_train.index.unique()))\n",
        "print(len(cleaned_test.index.unique()))"
      ],
      "metadata": {
        "colab": {
          "base_uri": "https://localhost:8080/"
        },
        "id": "FhWOlgAYblI_",
        "outputId": "f4437aab-c2aa-402b-b034-4ecda3172b8a"
      },
      "execution_count": 82,
      "outputs": [
        {
          "output_type": "stream",
          "name": "stdout",
          "text": [
            "412\n",
            "234\n",
            "412\n",
            "234\n"
          ]
        }
      ]
    },
    {
      "cell_type": "code",
      "source": [
        "class config:\n",
        "    random_state = 44"
      ],
      "metadata": {
        "id": "jw1ZAJLApCOS"
      },
      "execution_count": 83,
      "outputs": []
    },
    {
      "cell_type": "code",
      "source": [
        "x = cleaned_train.drop(['Score'], axis = 1)\n",
        "y = cleaned_train['Score']\n",
        "X_train, X_test, y_train, y_test = train_test_split(x,y,test_size = 0.1,\n",
        "                                random_state = config.random_state, stratify = y)#1"
      ],
      "metadata": {
        "id": "6735-BbUaMnt"
      },
      "execution_count": 84,
      "outputs": []
    },
    {
      "cell_type": "code",
      "source": [
        "xgb=XGBClassifier()#without hyper parameter tuning ran at first \n",
        "xgb.fit(X_train,y_train)#2"
      ],
      "metadata": {
        "id": "GQ1P3p1D9RHB"
      },
      "execution_count": null,
      "outputs": []
    },
    {
      "cell_type": "markdown",
      "source": [
        "# Hyper Parameter Tuning with XGBClassifier"
      ],
      "metadata": {
        "id": "06vBim1b8xCn"
      }
    },
    {
      "cell_type": "code",
      "source": [
        "params={\n",
        " \"learning_rate\"    : [0.05, 0.10, 0.15, 0.20, 0.25, 0.30 ] ,\n",
        " \"max_depth\"        : [ 3, 4, 5, 6, 8, 10, 12, 15],\n",
        " \"min_child_weight\" : [ 1, 3, 5, 7 ],\n",
        " \"gamma\"            : [ 0.0, 0.1, 0.2 , 0.3, 0.4 ],\n",
        " \"colsample_bytree\" : [ 0.3, 0.4, 0.5 , 0.7 ]\n",
        "}"
      ],
      "metadata": {
        "id": "O7RE9WCn8ven"
      },
      "execution_count": 104,
      "outputs": []
    },
    {
      "cell_type": "code",
      "source": [
        "xgbclassifier=XGBClassifier()"
      ],
      "metadata": {
        "id": "1TIShR2Zn_QY"
      },
      "execution_count": 106,
      "outputs": []
    },
    {
      "cell_type": "code",
      "source": [
        "LogLoss = make_scorer(log_loss, greater_is_better=False, needs_proba=True)\n",
        "#rs = RandomizedSearchCV(xgbclassifier, params, cv=5, scoring=LogLoss)"
      ],
      "metadata": {
        "id": "Jv5SsjFSAhdu"
      },
      "execution_count": 113,
      "outputs": []
    },
    {
      "cell_type": "code",
      "source": [
        "random_search=RandomizedSearchCV(xgbclassifier,param_distributions=params,n_iter=5,scoring=LogLoss,n_jobs=-1,cv=5,verbose=3)"
      ],
      "metadata": {
        "id": "IQUaVjHm9IYv"
      },
      "execution_count": 114,
      "outputs": []
    },
    {
      "cell_type": "code",
      "source": [
        "from datetime import datetime\n",
        "# Here we go\n",
        "start_time = timer(None) # timing starts from this point for \"start_time\" variable\n",
        "random_search.fit(X_train,y_train.ravel())\n",
        "timer(start_time) # timing ends here for \"start_time\" variable"
      ],
      "metadata": {
        "colab": {
          "base_uri": "https://localhost:8080/"
        },
        "id": "2BQerTEA9IjF",
        "outputId": "1e5db14e-fab8-43b2-c3bc-06ac34a43c80"
      },
      "execution_count": null,
      "outputs": [
        {
          "output_type": "stream",
          "name": "stdout",
          "text": [
            "Fitting 5 folds for each of 5 candidates, totalling 25 fits\n"
          ]
        }
      ]
    },
    {
      "cell_type": "code",
      "source": [
        "random_search.best_estimator_#gives best parameters for the given /passed parameters"
      ],
      "metadata": {
        "id": "56RRWhCw9cWN"
      },
      "execution_count": null,
      "outputs": []
    },
    {
      "cell_type": "code",
      "source": [],
      "metadata": {
        "id": "H0h0lrLi9caU"
      },
      "execution_count": null,
      "outputs": []
    },
    {
      "cell_type": "code",
      "source": [
        "import pickle\n",
        "filename = 'finalized_model.pkl'\n",
        "pickle.dump(xgb, open(filename, 'wb'))#3"
      ],
      "metadata": {
        "id": "AViXMSdX3TCy"
      },
      "execution_count": 89,
      "outputs": []
    },
    {
      "cell_type": "code",
      "source": [
        "# make predictions for test data\n",
        "y_pred = xgb.predict(X_test)\n",
        "predictions = [round(value) for value in y_pred]#4"
      ],
      "metadata": {
        "id": "yC24iied1dOY"
      },
      "execution_count": 90,
      "outputs": []
    },
    {
      "cell_type": "code",
      "source": [
        "# evaluate predictions\n",
        "accuracy = accuracy_score(y_test, predictions)\n",
        "print(\"Accuracy: %.2f%%\" % (accuracy * 100.0))#5"
      ],
      "metadata": {
        "colab": {
          "base_uri": "https://localhost:8080/"
        },
        "id": "iMStRAxO1e8i",
        "outputId": "de77f1d4-0f9c-4943-c29a-0bf09fcd3754"
      },
      "execution_count": 91,
      "outputs": [
        {
          "output_type": "stream",
          "name": "stdout",
          "text": [
            "Accuracy: 69.87%\n"
          ]
        }
      ]
    },
    {
      "cell_type": "code",
      "source": [
        "#Predictiing logloss on Test Set\n",
        "y_prob_pred = xgb.predict_proba(X_test)\n",
        "print(log_loss(y_test,y_prob_pred))#6"
      ],
      "metadata": {
        "colab": {
          "base_uri": "https://localhost:8080/"
        },
        "id": "usFv31CNqeiB",
        "outputId": "fd285ed5-56b6-41c1-bd50-be98803bd9b7"
      },
      "execution_count": 92,
      "outputs": [
        {
          "output_type": "stream",
          "name": "stdout",
          "text": [
            "0.7761425499074676\n"
          ]
        }
      ]
    },
    {
      "cell_type": "code",
      "source": [
        "cm = confusion_matrix(y_test, y_pred)\n",
        "plt.figure(figsize = (10,7))\n",
        "sns.heatmap(cm, annot=True)\n",
        "plt.xlabel('Predicted')\n",
        "plt.ylabel('Truth')\n",
        "plt.title('random forest Confusion Matrix', color= 'Blue')#7"
      ],
      "metadata": {
        "id": "LGm4JrMUsoEp"
      },
      "execution_count": 93,
      "outputs": []
    },
    {
      "cell_type": "markdown",
      "source": [
        "# Sample Test Data prediction"
      ],
      "metadata": {
        "id": "_UjPFndquILx"
      }
    },
    {
      "cell_type": "code",
      "source": [
        "# make predictions for test data\n",
        "sample_y_pred = xgb.predict(cleaned_test)\n",
        "predictions = [round(value) for value in sample_y_pred]#8"
      ],
      "metadata": {
        "id": "l6NM11KSt7H8"
      },
      "execution_count": 94,
      "outputs": []
    },
    {
      "cell_type": "code",
      "source": [
        "#Predictiing logloss on Test Set\n",
        "sample_predictions = xgb.predict_proba(cleaned_test)\n",
        "len(sample_predictions)#9"
      ],
      "metadata": {
        "colab": {
          "base_uri": "https://localhost:8080/"
        },
        "id": "pyqFjcSxt7K5",
        "outputId": "e54c6877-33ee-4840-efb7-0f501925900f"
      },
      "execution_count": 95,
      "outputs": [
        {
          "output_type": "execute_result",
          "data": {
            "text/plain": [
              "780234"
            ]
          },
          "metadata": {},
          "execution_count": 95
        }
      ]
    },
    {
      "cell_type": "code",
      "source": [
        "model_Test = cleaned_test.copy()\n",
        "model_Test['Game_ID']= model_Test.index\n",
        "print(model_Test.shape)#10\n",
        "#model_Test.head(2)"
      ],
      "metadata": {
        "colab": {
          "base_uri": "https://localhost:8080/"
        },
        "id": "Ls7ikyU8wDo1",
        "outputId": "61d17543-32a8-40d2-8746-f6df8921a8b1"
      },
      "execution_count": 96,
      "outputs": [
        {
          "output_type": "stream",
          "name": "stdout",
          "text": [
            "(780234, 36)\n"
          ]
        }
      ]
    },
    {
      "cell_type": "code",
      "source": [
        "cols=le.inverse_transform([*range(3)])\n",
        "model_Test[cols]= sample_predictions\n",
        "submit = model_Test[[\"Game_ID\",'Away win', 'Draw', 'Home Win']]#11"
      ],
      "metadata": {
        "id": "K4SiIGHYvkum"
      },
      "execution_count": 97,
      "outputs": []
    },
    {
      "cell_type": "code",
      "source": [
        "submit"
      ],
      "metadata": {
        "id": "wVUm9BOtwqDt",
        "colab": {
          "base_uri": "https://localhost:8080/",
          "height": 455
        },
        "outputId": "73b008b7-64b8-44b9-ad13-e50271c6cac7"
      },
      "execution_count": 98,
      "outputs": [
        {
          "output_type": "execute_result",
          "data": {
            "text/plain": [
              "                 Game_ID  Away win      Draw  Home Win\n",
              "Game_ID                                               \n",
              "ID_8518U587  ID_8518U587  0.228775  0.166161  0.605064\n",
              "ID_8518U587  ID_8518U587  0.228775  0.166161  0.605064\n",
              "ID_8518U587  ID_8518U587  0.228775  0.166161  0.605064\n",
              "ID_8518U587  ID_8518U587  0.228775  0.166161  0.605064\n",
              "ID_8518U587  ID_8518U587  0.228775  0.166161  0.605064\n",
              "...                  ...       ...       ...       ...\n",
              "ID_2ZK5TE39  ID_2ZK5TE39  0.056537  0.923159  0.020304\n",
              "ID_IS54QGW9  ID_IS54QGW9  0.056091  0.915868  0.028041\n",
              "ID_IS54QGW9  ID_IS54QGW9  0.056091  0.915868  0.028041\n",
              "ID_YG9IONLS  ID_YG9IONLS  0.004678  0.970580  0.024742\n",
              "ID_YG9IONLS  ID_YG9IONLS  0.004678  0.970580  0.024742\n",
              "\n",
              "[780234 rows x 4 columns]"
            ],
            "text/html": [
              "\n",
              "  <div id=\"df-12e8171f-40aa-4b48-a783-fa92cf8a802e\">\n",
              "    <div class=\"colab-df-container\">\n",
              "      <div>\n",
              "<style scoped>\n",
              "    .dataframe tbody tr th:only-of-type {\n",
              "        vertical-align: middle;\n",
              "    }\n",
              "\n",
              "    .dataframe tbody tr th {\n",
              "        vertical-align: top;\n",
              "    }\n",
              "\n",
              "    .dataframe thead th {\n",
              "        text-align: right;\n",
              "    }\n",
              "</style>\n",
              "<table border=\"1\" class=\"dataframe\">\n",
              "  <thead>\n",
              "    <tr style=\"text-align: right;\">\n",
              "      <th></th>\n",
              "      <th>Game_ID</th>\n",
              "      <th>Away win</th>\n",
              "      <th>Draw</th>\n",
              "      <th>Home Win</th>\n",
              "    </tr>\n",
              "    <tr>\n",
              "      <th>Game_ID</th>\n",
              "      <th></th>\n",
              "      <th></th>\n",
              "      <th></th>\n",
              "      <th></th>\n",
              "    </tr>\n",
              "  </thead>\n",
              "  <tbody>\n",
              "    <tr>\n",
              "      <th>ID_8518U587</th>\n",
              "      <td>ID_8518U587</td>\n",
              "      <td>0.228775</td>\n",
              "      <td>0.166161</td>\n",
              "      <td>0.605064</td>\n",
              "    </tr>\n",
              "    <tr>\n",
              "      <th>ID_8518U587</th>\n",
              "      <td>ID_8518U587</td>\n",
              "      <td>0.228775</td>\n",
              "      <td>0.166161</td>\n",
              "      <td>0.605064</td>\n",
              "    </tr>\n",
              "    <tr>\n",
              "      <th>ID_8518U587</th>\n",
              "      <td>ID_8518U587</td>\n",
              "      <td>0.228775</td>\n",
              "      <td>0.166161</td>\n",
              "      <td>0.605064</td>\n",
              "    </tr>\n",
              "    <tr>\n",
              "      <th>ID_8518U587</th>\n",
              "      <td>ID_8518U587</td>\n",
              "      <td>0.228775</td>\n",
              "      <td>0.166161</td>\n",
              "      <td>0.605064</td>\n",
              "    </tr>\n",
              "    <tr>\n",
              "      <th>ID_8518U587</th>\n",
              "      <td>ID_8518U587</td>\n",
              "      <td>0.228775</td>\n",
              "      <td>0.166161</td>\n",
              "      <td>0.605064</td>\n",
              "    </tr>\n",
              "    <tr>\n",
              "      <th>...</th>\n",
              "      <td>...</td>\n",
              "      <td>...</td>\n",
              "      <td>...</td>\n",
              "      <td>...</td>\n",
              "    </tr>\n",
              "    <tr>\n",
              "      <th>ID_2ZK5TE39</th>\n",
              "      <td>ID_2ZK5TE39</td>\n",
              "      <td>0.056537</td>\n",
              "      <td>0.923159</td>\n",
              "      <td>0.020304</td>\n",
              "    </tr>\n",
              "    <tr>\n",
              "      <th>ID_IS54QGW9</th>\n",
              "      <td>ID_IS54QGW9</td>\n",
              "      <td>0.056091</td>\n",
              "      <td>0.915868</td>\n",
              "      <td>0.028041</td>\n",
              "    </tr>\n",
              "    <tr>\n",
              "      <th>ID_IS54QGW9</th>\n",
              "      <td>ID_IS54QGW9</td>\n",
              "      <td>0.056091</td>\n",
              "      <td>0.915868</td>\n",
              "      <td>0.028041</td>\n",
              "    </tr>\n",
              "    <tr>\n",
              "      <th>ID_YG9IONLS</th>\n",
              "      <td>ID_YG9IONLS</td>\n",
              "      <td>0.004678</td>\n",
              "      <td>0.970580</td>\n",
              "      <td>0.024742</td>\n",
              "    </tr>\n",
              "    <tr>\n",
              "      <th>ID_YG9IONLS</th>\n",
              "      <td>ID_YG9IONLS</td>\n",
              "      <td>0.004678</td>\n",
              "      <td>0.970580</td>\n",
              "      <td>0.024742</td>\n",
              "    </tr>\n",
              "  </tbody>\n",
              "</table>\n",
              "<p>780234 rows × 4 columns</p>\n",
              "</div>\n",
              "      <button class=\"colab-df-convert\" onclick=\"convertToInteractive('df-12e8171f-40aa-4b48-a783-fa92cf8a802e')\"\n",
              "              title=\"Convert this dataframe to an interactive table.\"\n",
              "              style=\"display:none;\">\n",
              "        \n",
              "  <svg xmlns=\"http://www.w3.org/2000/svg\" height=\"24px\"viewBox=\"0 0 24 24\"\n",
              "       width=\"24px\">\n",
              "    <path d=\"M0 0h24v24H0V0z\" fill=\"none\"/>\n",
              "    <path d=\"M18.56 5.44l.94 2.06.94-2.06 2.06-.94-2.06-.94-.94-2.06-.94 2.06-2.06.94zm-11 1L8.5 8.5l.94-2.06 2.06-.94-2.06-.94L8.5 2.5l-.94 2.06-2.06.94zm10 10l.94 2.06.94-2.06 2.06-.94-2.06-.94-.94-2.06-.94 2.06-2.06.94z\"/><path d=\"M17.41 7.96l-1.37-1.37c-.4-.4-.92-.59-1.43-.59-.52 0-1.04.2-1.43.59L10.3 9.45l-7.72 7.72c-.78.78-.78 2.05 0 2.83L4 21.41c.39.39.9.59 1.41.59.51 0 1.02-.2 1.41-.59l7.78-7.78 2.81-2.81c.8-.78.8-2.07 0-2.86zM5.41 20L4 18.59l7.72-7.72 1.47 1.35L5.41 20z\"/>\n",
              "  </svg>\n",
              "      </button>\n",
              "      \n",
              "  <style>\n",
              "    .colab-df-container {\n",
              "      display:flex;\n",
              "      flex-wrap:wrap;\n",
              "      gap: 12px;\n",
              "    }\n",
              "\n",
              "    .colab-df-convert {\n",
              "      background-color: #E8F0FE;\n",
              "      border: none;\n",
              "      border-radius: 50%;\n",
              "      cursor: pointer;\n",
              "      display: none;\n",
              "      fill: #1967D2;\n",
              "      height: 32px;\n",
              "      padding: 0 0 0 0;\n",
              "      width: 32px;\n",
              "    }\n",
              "\n",
              "    .colab-df-convert:hover {\n",
              "      background-color: #E2EBFA;\n",
              "      box-shadow: 0px 1px 2px rgba(60, 64, 67, 0.3), 0px 1px 3px 1px rgba(60, 64, 67, 0.15);\n",
              "      fill: #174EA6;\n",
              "    }\n",
              "\n",
              "    [theme=dark] .colab-df-convert {\n",
              "      background-color: #3B4455;\n",
              "      fill: #D2E3FC;\n",
              "    }\n",
              "\n",
              "    [theme=dark] .colab-df-convert:hover {\n",
              "      background-color: #434B5C;\n",
              "      box-shadow: 0px 1px 3px 1px rgba(0, 0, 0, 0.15);\n",
              "      filter: drop-shadow(0px 1px 2px rgba(0, 0, 0, 0.3));\n",
              "      fill: #FFFFFF;\n",
              "    }\n",
              "  </style>\n",
              "\n",
              "      <script>\n",
              "        const buttonEl =\n",
              "          document.querySelector('#df-12e8171f-40aa-4b48-a783-fa92cf8a802e button.colab-df-convert');\n",
              "        buttonEl.style.display =\n",
              "          google.colab.kernel.accessAllowed ? 'block' : 'none';\n",
              "\n",
              "        async function convertToInteractive(key) {\n",
              "          const element = document.querySelector('#df-12e8171f-40aa-4b48-a783-fa92cf8a802e');\n",
              "          const dataTable =\n",
              "            await google.colab.kernel.invokeFunction('convertToInteractive',\n",
              "                                                     [key], {});\n",
              "          if (!dataTable) return;\n",
              "\n",
              "          const docLinkHtml = 'Like what you see? Visit the ' +\n",
              "            '<a target=\"_blank\" href=https://colab.research.google.com/notebooks/data_table.ipynb>data table notebook</a>'\n",
              "            + ' to learn more about interactive tables.';\n",
              "          element.innerHTML = '';\n",
              "          dataTable['output_type'] = 'display_data';\n",
              "          await google.colab.output.renderOutput(dataTable, element);\n",
              "          const docLink = document.createElement('div');\n",
              "          docLink.innerHTML = docLinkHtml;\n",
              "          element.appendChild(docLink);\n",
              "        }\n",
              "      </script>\n",
              "    </div>\n",
              "  </div>\n",
              "  "
            ]
          },
          "metadata": {},
          "execution_count": 98
        }
      ]
    },
    {
      "cell_type": "code",
      "source": [
        "submit.drop_duplicates(subset = [\"Game_ID\"], inplace=True)\n",
        "submit = submit.reset_index(drop=True)#12"
      ],
      "metadata": {
        "colab": {
          "base_uri": "https://localhost:8080/"
        },
        "id": "5QdpNJtR5STv",
        "outputId": "803828da-2ee8-42f9-aead-2c6abbc8afc5"
      },
      "execution_count": 101,
      "outputs": [
        {
          "output_type": "stream",
          "name": "stderr",
          "text": [
            "/usr/local/lib/python3.7/dist-packages/pandas/util/_decorators.py:311: SettingWithCopyWarning: \n",
            "A value is trying to be set on a copy of a slice from a DataFrame\n",
            "\n",
            "See the caveats in the documentation: https://pandas.pydata.org/pandas-docs/stable/user_guide/indexing.html#returning-a-view-versus-a-copy\n",
            "  return func(*args, **kwargs)\n"
          ]
        }
      ]
    },
    {
      "cell_type": "code",
      "source": [
        "submit#13"
      ],
      "metadata": {
        "colab": {
          "base_uri": "https://localhost:8080/",
          "height": 424
        },
        "id": "UUVKYee55rI9",
        "outputId": "c90bdbbc-e6d7-4f7b-f77e-06b4eafd58d9"
      },
      "execution_count": 102,
      "outputs": [
        {
          "output_type": "execute_result",
          "data": {
            "text/plain": [
              "         Game_ID  Away win      Draw  Home Win\n",
              "0    ID_8518U587  0.228775  0.166161  0.605064\n",
              "1    ID_H49BIKG7  0.064941  0.402168  0.532890\n",
              "2    ID_PO6SP4VA  0.066088  0.312433  0.621479\n",
              "3    ID_MZRCNBAQ  0.284357  0.354509  0.361134\n",
              "4    ID_CV9VOLIU  0.154455  0.462048  0.383497\n",
              "..           ...       ...       ...       ...\n",
              "229  ID_QKQ00O16  0.056091  0.915868  0.028041\n",
              "230  ID_172V2IXW  0.004678  0.970580  0.024742\n",
              "231  ID_2ZK5TE39  0.056537  0.923159  0.020304\n",
              "232  ID_IS54QGW9  0.056091  0.915868  0.028041\n",
              "233  ID_YG9IONLS  0.004678  0.970580  0.024742\n",
              "\n",
              "[234 rows x 4 columns]"
            ],
            "text/html": [
              "\n",
              "  <div id=\"df-1b97d4c9-5231-4fbb-a6f3-ae5eaad84cea\">\n",
              "    <div class=\"colab-df-container\">\n",
              "      <div>\n",
              "<style scoped>\n",
              "    .dataframe tbody tr th:only-of-type {\n",
              "        vertical-align: middle;\n",
              "    }\n",
              "\n",
              "    .dataframe tbody tr th {\n",
              "        vertical-align: top;\n",
              "    }\n",
              "\n",
              "    .dataframe thead th {\n",
              "        text-align: right;\n",
              "    }\n",
              "</style>\n",
              "<table border=\"1\" class=\"dataframe\">\n",
              "  <thead>\n",
              "    <tr style=\"text-align: right;\">\n",
              "      <th></th>\n",
              "      <th>Game_ID</th>\n",
              "      <th>Away win</th>\n",
              "      <th>Draw</th>\n",
              "      <th>Home Win</th>\n",
              "    </tr>\n",
              "  </thead>\n",
              "  <tbody>\n",
              "    <tr>\n",
              "      <th>0</th>\n",
              "      <td>ID_8518U587</td>\n",
              "      <td>0.228775</td>\n",
              "      <td>0.166161</td>\n",
              "      <td>0.605064</td>\n",
              "    </tr>\n",
              "    <tr>\n",
              "      <th>1</th>\n",
              "      <td>ID_H49BIKG7</td>\n",
              "      <td>0.064941</td>\n",
              "      <td>0.402168</td>\n",
              "      <td>0.532890</td>\n",
              "    </tr>\n",
              "    <tr>\n",
              "      <th>2</th>\n",
              "      <td>ID_PO6SP4VA</td>\n",
              "      <td>0.066088</td>\n",
              "      <td>0.312433</td>\n",
              "      <td>0.621479</td>\n",
              "    </tr>\n",
              "    <tr>\n",
              "      <th>3</th>\n",
              "      <td>ID_MZRCNBAQ</td>\n",
              "      <td>0.284357</td>\n",
              "      <td>0.354509</td>\n",
              "      <td>0.361134</td>\n",
              "    </tr>\n",
              "    <tr>\n",
              "      <th>4</th>\n",
              "      <td>ID_CV9VOLIU</td>\n",
              "      <td>0.154455</td>\n",
              "      <td>0.462048</td>\n",
              "      <td>0.383497</td>\n",
              "    </tr>\n",
              "    <tr>\n",
              "      <th>...</th>\n",
              "      <td>...</td>\n",
              "      <td>...</td>\n",
              "      <td>...</td>\n",
              "      <td>...</td>\n",
              "    </tr>\n",
              "    <tr>\n",
              "      <th>229</th>\n",
              "      <td>ID_QKQ00O16</td>\n",
              "      <td>0.056091</td>\n",
              "      <td>0.915868</td>\n",
              "      <td>0.028041</td>\n",
              "    </tr>\n",
              "    <tr>\n",
              "      <th>230</th>\n",
              "      <td>ID_172V2IXW</td>\n",
              "      <td>0.004678</td>\n",
              "      <td>0.970580</td>\n",
              "      <td>0.024742</td>\n",
              "    </tr>\n",
              "    <tr>\n",
              "      <th>231</th>\n",
              "      <td>ID_2ZK5TE39</td>\n",
              "      <td>0.056537</td>\n",
              "      <td>0.923159</td>\n",
              "      <td>0.020304</td>\n",
              "    </tr>\n",
              "    <tr>\n",
              "      <th>232</th>\n",
              "      <td>ID_IS54QGW9</td>\n",
              "      <td>0.056091</td>\n",
              "      <td>0.915868</td>\n",
              "      <td>0.028041</td>\n",
              "    </tr>\n",
              "    <tr>\n",
              "      <th>233</th>\n",
              "      <td>ID_YG9IONLS</td>\n",
              "      <td>0.004678</td>\n",
              "      <td>0.970580</td>\n",
              "      <td>0.024742</td>\n",
              "    </tr>\n",
              "  </tbody>\n",
              "</table>\n",
              "<p>234 rows × 4 columns</p>\n",
              "</div>\n",
              "      <button class=\"colab-df-convert\" onclick=\"convertToInteractive('df-1b97d4c9-5231-4fbb-a6f3-ae5eaad84cea')\"\n",
              "              title=\"Convert this dataframe to an interactive table.\"\n",
              "              style=\"display:none;\">\n",
              "        \n",
              "  <svg xmlns=\"http://www.w3.org/2000/svg\" height=\"24px\"viewBox=\"0 0 24 24\"\n",
              "       width=\"24px\">\n",
              "    <path d=\"M0 0h24v24H0V0z\" fill=\"none\"/>\n",
              "    <path d=\"M18.56 5.44l.94 2.06.94-2.06 2.06-.94-2.06-.94-.94-2.06-.94 2.06-2.06.94zm-11 1L8.5 8.5l.94-2.06 2.06-.94-2.06-.94L8.5 2.5l-.94 2.06-2.06.94zm10 10l.94 2.06.94-2.06 2.06-.94-2.06-.94-.94-2.06-.94 2.06-2.06.94z\"/><path d=\"M17.41 7.96l-1.37-1.37c-.4-.4-.92-.59-1.43-.59-.52 0-1.04.2-1.43.59L10.3 9.45l-7.72 7.72c-.78.78-.78 2.05 0 2.83L4 21.41c.39.39.9.59 1.41.59.51 0 1.02-.2 1.41-.59l7.78-7.78 2.81-2.81c.8-.78.8-2.07 0-2.86zM5.41 20L4 18.59l7.72-7.72 1.47 1.35L5.41 20z\"/>\n",
              "  </svg>\n",
              "      </button>\n",
              "      \n",
              "  <style>\n",
              "    .colab-df-container {\n",
              "      display:flex;\n",
              "      flex-wrap:wrap;\n",
              "      gap: 12px;\n",
              "    }\n",
              "\n",
              "    .colab-df-convert {\n",
              "      background-color: #E8F0FE;\n",
              "      border: none;\n",
              "      border-radius: 50%;\n",
              "      cursor: pointer;\n",
              "      display: none;\n",
              "      fill: #1967D2;\n",
              "      height: 32px;\n",
              "      padding: 0 0 0 0;\n",
              "      width: 32px;\n",
              "    }\n",
              "\n",
              "    .colab-df-convert:hover {\n",
              "      background-color: #E2EBFA;\n",
              "      box-shadow: 0px 1px 2px rgba(60, 64, 67, 0.3), 0px 1px 3px 1px rgba(60, 64, 67, 0.15);\n",
              "      fill: #174EA6;\n",
              "    }\n",
              "\n",
              "    [theme=dark] .colab-df-convert {\n",
              "      background-color: #3B4455;\n",
              "      fill: #D2E3FC;\n",
              "    }\n",
              "\n",
              "    [theme=dark] .colab-df-convert:hover {\n",
              "      background-color: #434B5C;\n",
              "      box-shadow: 0px 1px 3px 1px rgba(0, 0, 0, 0.15);\n",
              "      filter: drop-shadow(0px 1px 2px rgba(0, 0, 0, 0.3));\n",
              "      fill: #FFFFFF;\n",
              "    }\n",
              "  </style>\n",
              "\n",
              "      <script>\n",
              "        const buttonEl =\n",
              "          document.querySelector('#df-1b97d4c9-5231-4fbb-a6f3-ae5eaad84cea button.colab-df-convert');\n",
              "        buttonEl.style.display =\n",
              "          google.colab.kernel.accessAllowed ? 'block' : 'none';\n",
              "\n",
              "        async function convertToInteractive(key) {\n",
              "          const element = document.querySelector('#df-1b97d4c9-5231-4fbb-a6f3-ae5eaad84cea');\n",
              "          const dataTable =\n",
              "            await google.colab.kernel.invokeFunction('convertToInteractive',\n",
              "                                                     [key], {});\n",
              "          if (!dataTable) return;\n",
              "\n",
              "          const docLinkHtml = 'Like what you see? Visit the ' +\n",
              "            '<a target=\"_blank\" href=https://colab.research.google.com/notebooks/data_table.ipynb>data table notebook</a>'\n",
              "            + ' to learn more about interactive tables.';\n",
              "          element.innerHTML = '';\n",
              "          dataTable['output_type'] = 'display_data';\n",
              "          await google.colab.output.renderOutput(dataTable, element);\n",
              "          const docLink = document.createElement('div');\n",
              "          docLink.innerHTML = docLinkHtml;\n",
              "          element.appendChild(docLink);\n",
              "        }\n",
              "      </script>\n",
              "    </div>\n",
              "  </div>\n",
              "  "
            ]
          },
          "metadata": {},
          "execution_count": 102
        }
      ]
    },
    {
      "cell_type": "code",
      "source": [
        "submit.to_csv(\"submission_xgb.csv\", index=False)#14"
      ],
      "metadata": {
        "id": "Lc-OVKIw5vdM"
      },
      "execution_count": 103,
      "outputs": []
    },
    {
      "cell_type": "code",
      "source": [
        "#first submission 1.253008105932298"
      ],
      "metadata": {
        "id": "Xmc2R95dUhjh"
      },
      "execution_count": null,
      "outputs": []
    }
  ]
}